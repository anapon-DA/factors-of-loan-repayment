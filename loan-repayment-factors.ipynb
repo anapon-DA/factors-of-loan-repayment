{
 "cells": [
  {
   "cell_type": "markdown",
   "metadata": {
    "toc": true
   },
   "source": [
    "<h1>Table of Contents<span class=\"tocSkip\"></span></h1>\n",
    "<div class=\"toc\"><ul class=\"toc-item\"><li><span><a href=\"#Загрузка-данных-и-изучение-общей-информации\" data-toc-modified-id=\"Загрузка-данных-и-изучение-общей-информации-1\"><span class=\"toc-item-num\">1&nbsp;&nbsp;</span>Загрузка данных и изучение общей информации</a></span><ul class=\"toc-item\"><li><span><a href=\"#Вывод\" data-toc-modified-id=\"Вывод-1.1\"><span class=\"toc-item-num\">1.1&nbsp;&nbsp;</span>Вывод</a></span></li></ul></li><li><span><a href=\"#Предобработка-данных\" data-toc-modified-id=\"Предобработка-данных-2\"><span class=\"toc-item-num\">2&nbsp;&nbsp;</span>Предобработка данных</a></span><ul class=\"toc-item\"><li><span><a href=\"#Обработка-пропусков\" data-toc-modified-id=\"Обработка-пропусков-2.1\"><span class=\"toc-item-num\">2.1&nbsp;&nbsp;</span>Обработка пропусков</a></span></li><li><span><a href=\"#Замена-типа-данных\" data-toc-modified-id=\"Замена-типа-данных-2.2\"><span class=\"toc-item-num\">2.2&nbsp;&nbsp;</span>Замена типа данных</a></span></li><li><span><a href=\"#Обработка-дубликатов\" data-toc-modified-id=\"Обработка-дубликатов-2.3\"><span class=\"toc-item-num\">2.3&nbsp;&nbsp;</span>Обработка дубликатов</a></span></li><li><span><a href=\"#Лемматизация\" data-toc-modified-id=\"Лемматизация-2.4\"><span class=\"toc-item-num\">2.4&nbsp;&nbsp;</span>Лемматизация</a></span></li><li><span><a href=\"#Категоризация-данных\" data-toc-modified-id=\"Категоризация-данных-2.5\"><span class=\"toc-item-num\">2.5&nbsp;&nbsp;</span>Категоризация данных</a></span></li><li><span><a href=\"#Вывод\" data-toc-modified-id=\"Вывод-2.6\"><span class=\"toc-item-num\">2.6&nbsp;&nbsp;</span>Вывод</a></span></li></ul></li><li><span><a href=\"#Связь-присущих-заемщикам-признаков-и-возврата-кредита-в-срок\" data-toc-modified-id=\"Связь-присущих-заемщикам-признаков-и-возврата-кредита-в-срок-3\"><span class=\"toc-item-num\">3&nbsp;&nbsp;</span>Связь присущих заемщикам признаков и возврата кредита в срок</a></span><ul class=\"toc-item\"><li><span><a href=\"#Есть-ли-зависимость-между-наличием-детей-и-возвратом-кредита-в-срок?\" data-toc-modified-id=\"Есть-ли-зависимость-между-наличием-детей-и-возвратом-кредита-в-срок?-3.1\"><span class=\"toc-item-num\">3.1&nbsp;&nbsp;</span>Есть ли зависимость между наличием детей и возвратом кредита в срок?</a></span><ul class=\"toc-item\"><li><span><a href=\"#Вывод\" data-toc-modified-id=\"Вывод-3.1.1\"><span class=\"toc-item-num\">3.1.1&nbsp;&nbsp;</span>Вывод</a></span></li></ul></li><li><span><a href=\"#Есть-ли-зависимость-между-семейным-положением-и-возвратом-кредита-в-срок?\" data-toc-modified-id=\"Есть-ли-зависимость-между-семейным-положением-и-возвратом-кредита-в-срок?-3.2\"><span class=\"toc-item-num\">3.2&nbsp;&nbsp;</span>Есть ли зависимость между семейным положением и возвратом кредита в срок?</a></span><ul class=\"toc-item\"><li><span><a href=\"#Вывод\" data-toc-modified-id=\"Вывод-3.2.1\"><span class=\"toc-item-num\">3.2.1&nbsp;&nbsp;</span>Вывод</a></span></li></ul></li><li><span><a href=\"#Есть-ли-зависимость-между-уровнем-дохода-и-возвратом-кредита-в-срок?\" data-toc-modified-id=\"Есть-ли-зависимость-между-уровнем-дохода-и-возвратом-кредита-в-срок?-3.3\"><span class=\"toc-item-num\">3.3&nbsp;&nbsp;</span>Есть ли зависимость между уровнем дохода и возвратом кредита в срок?</a></span><ul class=\"toc-item\"><li><span><a href=\"#Вывод\" data-toc-modified-id=\"Вывод-3.3.1\"><span class=\"toc-item-num\">3.3.1&nbsp;&nbsp;</span>Вывод</a></span></li></ul></li><li><span><a href=\"#Как-разные-цели-кредита-влияют-на-его-возврат-в-срок?\" data-toc-modified-id=\"Как-разные-цели-кредита-влияют-на-его-возврат-в-срок?-3.4\"><span class=\"toc-item-num\">3.4&nbsp;&nbsp;</span>Как разные цели кредита влияют на его возврат в срок?</a></span><ul class=\"toc-item\"><li><span><a href=\"#Вывод\" data-toc-modified-id=\"Вывод-3.4.1\"><span class=\"toc-item-num\">3.4.1&nbsp;&nbsp;</span>Вывод</a></span></li></ul></li></ul></li><li><span><a href=\"#Общий-вывод\" data-toc-modified-id=\"Общий-вывод-4\"><span class=\"toc-item-num\">4&nbsp;&nbsp;</span>Общий вывод</a></span></li></ul></div>"
   ]
  },
  {
   "cell_type": "markdown",
   "metadata": {},
   "source": [
    "# Выявление факторов, влияющих на возврат заемщиками кредита в срок"
   ]
  },
  {
   "cell_type": "markdown",
   "metadata": {},
   "source": [
    "Для кредитного отдела банка необходимо выяснить, влияет ли семейное положение и количество детей клиента на факт погашения кредита в срок. Входные данные от банка — статистика о платёжеспособности клиентов.\n",
    "\n",
    "Результаты исследования нужны для построения модели кредитного скоринга."
   ]
  },
  {
   "cell_type": "markdown",
   "metadata": {},
   "source": [
    "Для анализа предоставлена таблица с информацией о клиентах.\n",
    "\n",
    "**Описание данных (содержание столбцов таблицы)**\n",
    "\n",
    "- `children` — количество детей в семье;\n",
    "\n",
    "- `days_employed` — общий трудовой стаж в днях;\n",
    "\n",
    "- `dob_years` — возраст клиента в годах;\n",
    "\n",
    "- `education` — уровень образования клиента;\n",
    "\n",
    "- `education_id` — идентификатор уровня образования;\n",
    "\n",
    "- `family_status` — семейное положение;\n",
    "\n",
    "- `family_status_id` — идентификатор семейного положения;\n",
    "\n",
    "- `gender` — пол клиента;\n",
    "\n",
    "- `income_type` — тип занятости;\n",
    "\n",
    "- `debt` — имел ли задолженность по возврату кредитов;\n",
    "\n",
    "- `total_income` — ежемесячный доход;\n",
    "\n",
    "- `purpose` — цель получения кредита."
   ]
  },
  {
   "cell_type": "markdown",
   "metadata": {},
   "source": [
    "## Загрузка данных и изучение общей информации"
   ]
  },
  {
   "cell_type": "code",
   "execution_count": 1,
   "metadata": {
    "scrolled": true
   },
   "outputs": [],
   "source": [
    "import pandas as pd\n",
    "import warnings\n",
    "from IPython.display import display\n",
    "from collections import Counter\n",
    "from pymystem3 import Mystem"
   ]
  },
  {
   "cell_type": "code",
   "execution_count": 2,
   "metadata": {},
   "outputs": [],
   "source": [
    "warnings.filterwarnings('ignore') # отключение показа предупреждения, связанного с библиотекой pymystem3"
   ]
  },
  {
   "cell_type": "code",
   "execution_count": 3,
   "metadata": {
    "scrolled": true
   },
   "outputs": [],
   "source": [
    "data = pd.read_csv('https://code.s3.yandex.net/datasets/data.csv') #запишем данные в переменную"
   ]
  },
  {
   "cell_type": "code",
   "execution_count": 4,
   "metadata": {},
   "outputs": [
    {
     "name": "stdout",
     "output_type": "stream",
     "text": [
      "<class 'pandas.core.frame.DataFrame'>\n",
      "RangeIndex: 21525 entries, 0 to 21524\n",
      "Data columns (total 12 columns):\n",
      " #   Column            Non-Null Count  Dtype  \n",
      "---  ------            --------------  -----  \n",
      " 0   children          21525 non-null  int64  \n",
      " 1   days_employed     19351 non-null  float64\n",
      " 2   dob_years         21525 non-null  int64  \n",
      " 3   education         21525 non-null  object \n",
      " 4   education_id      21525 non-null  int64  \n",
      " 5   family_status     21525 non-null  object \n",
      " 6   family_status_id  21525 non-null  int64  \n",
      " 7   gender            21525 non-null  object \n",
      " 8   income_type       21525 non-null  object \n",
      " 9   debt              21525 non-null  int64  \n",
      " 10  total_income      19351 non-null  float64\n",
      " 11  purpose           21525 non-null  object \n",
      "dtypes: float64(2), int64(5), object(5)\n",
      "memory usage: 1.6+ MB\n"
     ]
    }
   ],
   "source": [
    "data.info()"
   ]
  },
  {
   "cell_type": "code",
   "execution_count": 5,
   "metadata": {},
   "outputs": [
    {
     "data": {
      "text/plain": [
       "(21525, 12)"
      ]
     },
     "execution_count": 5,
     "metadata": {},
     "output_type": "execute_result"
    }
   ],
   "source": [
    "data.shape"
   ]
  },
  {
   "cell_type": "code",
   "execution_count": 6,
   "metadata": {},
   "outputs": [
    {
     "data": {
      "text/html": [
       "<div>\n",
       "<style scoped>\n",
       "    .dataframe tbody tr th:only-of-type {\n",
       "        vertical-align: middle;\n",
       "    }\n",
       "\n",
       "    .dataframe tbody tr th {\n",
       "        vertical-align: top;\n",
       "    }\n",
       "\n",
       "    .dataframe thead th {\n",
       "        text-align: right;\n",
       "    }\n",
       "</style>\n",
       "<table border=\"1\" class=\"dataframe\">\n",
       "  <thead>\n",
       "    <tr style=\"text-align: right;\">\n",
       "      <th></th>\n",
       "      <th>children</th>\n",
       "      <th>days_employed</th>\n",
       "      <th>dob_years</th>\n",
       "      <th>education</th>\n",
       "      <th>education_id</th>\n",
       "      <th>family_status</th>\n",
       "      <th>family_status_id</th>\n",
       "      <th>gender</th>\n",
       "      <th>income_type</th>\n",
       "      <th>debt</th>\n",
       "      <th>total_income</th>\n",
       "      <th>purpose</th>\n",
       "    </tr>\n",
       "  </thead>\n",
       "  <tbody>\n",
       "    <tr>\n",
       "      <th>0</th>\n",
       "      <td>1</td>\n",
       "      <td>-8437.673028</td>\n",
       "      <td>42</td>\n",
       "      <td>высшее</td>\n",
       "      <td>0</td>\n",
       "      <td>женат / замужем</td>\n",
       "      <td>0</td>\n",
       "      <td>F</td>\n",
       "      <td>сотрудник</td>\n",
       "      <td>0</td>\n",
       "      <td>253875.639453</td>\n",
       "      <td>покупка жилья</td>\n",
       "    </tr>\n",
       "    <tr>\n",
       "      <th>1</th>\n",
       "      <td>1</td>\n",
       "      <td>-4024.803754</td>\n",
       "      <td>36</td>\n",
       "      <td>среднее</td>\n",
       "      <td>1</td>\n",
       "      <td>женат / замужем</td>\n",
       "      <td>0</td>\n",
       "      <td>F</td>\n",
       "      <td>сотрудник</td>\n",
       "      <td>0</td>\n",
       "      <td>112080.014102</td>\n",
       "      <td>приобретение автомобиля</td>\n",
       "    </tr>\n",
       "    <tr>\n",
       "      <th>2</th>\n",
       "      <td>0</td>\n",
       "      <td>-5623.422610</td>\n",
       "      <td>33</td>\n",
       "      <td>Среднее</td>\n",
       "      <td>1</td>\n",
       "      <td>женат / замужем</td>\n",
       "      <td>0</td>\n",
       "      <td>M</td>\n",
       "      <td>сотрудник</td>\n",
       "      <td>0</td>\n",
       "      <td>145885.952297</td>\n",
       "      <td>покупка жилья</td>\n",
       "    </tr>\n",
       "    <tr>\n",
       "      <th>3</th>\n",
       "      <td>3</td>\n",
       "      <td>-4124.747207</td>\n",
       "      <td>32</td>\n",
       "      <td>среднее</td>\n",
       "      <td>1</td>\n",
       "      <td>женат / замужем</td>\n",
       "      <td>0</td>\n",
       "      <td>M</td>\n",
       "      <td>сотрудник</td>\n",
       "      <td>0</td>\n",
       "      <td>267628.550329</td>\n",
       "      <td>дополнительное образование</td>\n",
       "    </tr>\n",
       "    <tr>\n",
       "      <th>4</th>\n",
       "      <td>0</td>\n",
       "      <td>340266.072047</td>\n",
       "      <td>53</td>\n",
       "      <td>среднее</td>\n",
       "      <td>1</td>\n",
       "      <td>гражданский брак</td>\n",
       "      <td>1</td>\n",
       "      <td>F</td>\n",
       "      <td>пенсионер</td>\n",
       "      <td>0</td>\n",
       "      <td>158616.077870</td>\n",
       "      <td>сыграть свадьбу</td>\n",
       "    </tr>\n",
       "  </tbody>\n",
       "</table>\n",
       "</div>"
      ],
      "text/plain": [
       "   children  days_employed  dob_years education  education_id  \\\n",
       "0         1   -8437.673028         42    высшее             0   \n",
       "1         1   -4024.803754         36   среднее             1   \n",
       "2         0   -5623.422610         33   Среднее             1   \n",
       "3         3   -4124.747207         32   среднее             1   \n",
       "4         0  340266.072047         53   среднее             1   \n",
       "\n",
       "      family_status  family_status_id gender income_type  debt   total_income  \\\n",
       "0   женат / замужем                 0      F   сотрудник     0  253875.639453   \n",
       "1   женат / замужем                 0      F   сотрудник     0  112080.014102   \n",
       "2   женат / замужем                 0      M   сотрудник     0  145885.952297   \n",
       "3   женат / замужем                 0      M   сотрудник     0  267628.550329   \n",
       "4  гражданский брак                 1      F   пенсионер     0  158616.077870   \n",
       "\n",
       "                      purpose  \n",
       "0               покупка жилья  \n",
       "1     приобретение автомобиля  \n",
       "2               покупка жилья  \n",
       "3  дополнительное образование  \n",
       "4             сыграть свадьбу  "
      ]
     },
     "execution_count": 6,
     "metadata": {},
     "output_type": "execute_result"
    }
   ],
   "source": [
    "data.head(5)"
   ]
  },
  {
   "cell_type": "markdown",
   "metadata": {},
   "source": [
    "### Вывод"
   ]
  },
  {
   "cell_type": "markdown",
   "metadata": {},
   "source": [
    "Датафрейм содержит 21525 строк и 12 столбцов.\n",
    "\n",
    "Обращают на себя внимание пропущенные значения в столбцах `days_employed` и `total_income`, а также разный регистр букв в строковых значениях столбца `education`, а также отрицательные значения в столбце `days_employed`, дублирующие друг друга по смыслу столбцы `education` и `education_id`, `family_status` и `family_status_id`."
   ]
  },
  {
   "cell_type": "markdown",
   "metadata": {},
   "source": [
    "## Предобработка данных"
   ]
  },
  {
   "cell_type": "markdown",
   "metadata": {},
   "source": [
    "### Обработка пропусков"
   ]
  },
  {
   "cell_type": "code",
   "execution_count": 7,
   "metadata": {},
   "outputs": [
    {
     "name": "stdout",
     "output_type": "stream",
     "text": [
      "Доля пропущенных значений в столбце days_employed составляет 10.23%\n",
      "---------------------------------------------\n",
      "Минимальное значение days_employed: -18388.949900568383\n",
      "Максимальное значение days_employed: 401755.40047533\n"
     ]
    }
   ],
   "source": [
    "print('Доля пропущенных значений в столбце days_employed составляет {:.2%}'.format(data['days_employed'].isna().sum() / 21252))\n",
    "print('---' * 15)\n",
    "print('Минимальное значение days_employed:', data['days_employed'].min())\n",
    "print('Максимальное значение days_employed:', data['days_employed'].max())"
   ]
  },
  {
   "cell_type": "code",
   "execution_count": 8,
   "metadata": {},
   "outputs": [
    {
     "data": {
      "text/plain": [
       "days_employed    0.100999\n",
       "total_income     0.100999\n",
       "dtype: float64"
      ]
     },
     "execution_count": 8,
     "metadata": {},
     "output_type": "execute_result"
    }
   ],
   "source": [
    "# пропуски помечаются как 0\\1 и среднее покажет долю 1 (1 там, где пропуск)\n",
    "# выберем только те, где есть пропуски\n",
    "data.isna().mean()[data.isna().mean() != 0]"
   ]
  },
  {
   "cell_type": "markdown",
   "metadata": {},
   "source": [
    "Убедимся, что клиенты с пропущенными значениями не безработные."
   ]
  },
  {
   "cell_type": "code",
   "execution_count": 9,
   "metadata": {
    "scrolled": true
   },
   "outputs": [
    {
     "name": "stdout",
     "output_type": "stream",
     "text": [
      "2174\n"
     ]
    },
    {
     "data": {
      "text/plain": [
       "12         пенсионер\n",
       "26       госслужащий\n",
       "29         пенсионер\n",
       "41       госслужащий\n",
       "55         пенсионер\n",
       "            ...     \n",
       "21489      компаньон\n",
       "21495      сотрудник\n",
       "21497      компаньон\n",
       "21502      сотрудник\n",
       "21510      сотрудник\n",
       "Name: income_type, Length: 2174, dtype: object"
      ]
     },
     "metadata": {},
     "output_type": "display_data"
    }
   ],
   "source": [
    "print(data['days_employed'].isna().sum()) #количество пропусков в days_employed\n",
    "display(data.loc[(data['days_employed'].isna()) & data['total_income'].isna()]['income_type'])"
   ]
  },
  {
   "cell_type": "markdown",
   "metadata": {},
   "source": [
    "Мы убедились не только в том, что клиенты с пропущенными значениями не безработные, но и в том, что там, где пропущены значения в days_employed, там же пропущены значения в total_income."
   ]
  },
  {
   "cell_type": "code",
   "execution_count": 10,
   "metadata": {},
   "outputs": [
    {
     "name": "stdout",
     "output_type": "stream",
     "text": [
      "401755 дней в годах составляет 1100 лет\n",
      "18388 дней в годах составляет 50 лет\n"
     ]
    }
   ],
   "source": [
    "#заменим пропуски, но сначала приведем данные к единому \"формату\" по времени\n",
    "print('401755 дней в годах составляет {:d} лет'.format(int(401755 / 365)))\n",
    "print('18388 дней в годах составляет {:d} лет'.format(int(18388 / 365)))"
   ]
  },
  {
   "cell_type": "code",
   "execution_count": 11,
   "metadata": {},
   "outputs": [],
   "source": [
    "def to_positive_in_days(value): #функция для приведения значений к единому формату\n",
    "    if value < 0:\n",
    "        return -value #если значение отрицательное, вернуть модуль\n",
    "    else:\n",
    "        return (value / 24) #в ином случае разделить значение на 24 (дни работы = часы работы / количество часов в сутках)\n",
    "\n",
    "    \n",
    "data['days_employed'] = data['days_employed'].apply(to_positive_in_days) #применение функции к столбцу\n",
    "\n",
    "median_days_employed = data['days_employed'].median()"
   ]
  },
  {
   "cell_type": "code",
   "execution_count": 12,
   "metadata": {},
   "outputs": [
    {
     "name": "stdout",
     "output_type": "stream",
     "text": [
      "Минимальное значение days_employed: 24.14163324048118\n",
      "Максимальное значение days_employed: 18388.949900568383\n",
      "Среднее значение days_employed: 4641.641176180656\n",
      "Медиана days_employed: 2194.220566878695\n"
     ]
    }
   ],
   "source": [
    "print('Минимальное значение days_employed:', data['days_employed'].min())\n",
    "print('Максимальное значение days_employed:', data['days_employed'].max())\n",
    "print('Среднее значение days_employed:', data['days_employed'].mean())\n",
    "print('Медиана days_employed:', median_days_employed)"
   ]
  },
  {
   "cell_type": "code",
   "execution_count": 13,
   "metadata": {},
   "outputs": [
    {
     "name": "stdout",
     "output_type": "stream",
     "text": [
      "Пропущенных значений в столбце days_employed: 0\n"
     ]
    }
   ],
   "source": [
    "data['days_employed'] = data['days_employed'].fillna(median_days_employed) #замена пропусков days_employed медианным значением\n",
    "\n",
    "print('Пропущенных значений в столбце days_employed:', data['days_employed'].isnull().sum())"
   ]
  },
  {
   "cell_type": "code",
   "execution_count": 14,
   "metadata": {},
   "outputs": [
    {
     "name": "stdout",
     "output_type": "stream",
     "text": [
      "Минимальное значение total_income: 20667.26379327158\n",
      "Максимальное значение total_income: 2265604.028722744\n",
      "Среднее значение total_income: 167422.30220817294\n",
      "Медиана total_income: 145017.93753253992\n"
     ]
    }
   ],
   "source": [
    "print('Минимальное значение total_income:', data['total_income'].min())\n",
    "print('Максимальное значение total_income:', data['total_income'].max())\n",
    "print('Среднее значение total_income:', data['total_income'].mean())\n",
    "median_total_income = data['total_income'].median()\n",
    "print('Медиана total_income:', median_total_income) "
   ]
  },
  {
   "cell_type": "code",
   "execution_count": 15,
   "metadata": {},
   "outputs": [
    {
     "data": {
      "text/plain": [
       "income_type\n",
       "безработный        131339.751676\n",
       "в декрете           53829.130729\n",
       "госслужащий        150447.935283\n",
       "компаньон          172357.950966\n",
       "пенсионер          118514.486412\n",
       "предприниматель    499163.144947\n",
       "сотрудник          142594.396847\n",
       "студент             98201.625314\n",
       "Name: total_income, dtype: float64"
      ]
     },
     "metadata": {},
     "output_type": "display_data"
    }
   ],
   "source": [
    "#рассмотрим медиану total_income по группам типа занятости\n",
    "display(data.groupby('income_type')['total_income'].median())"
   ]
  },
  {
   "cell_type": "code",
   "execution_count": 16,
   "metadata": {},
   "outputs": [],
   "source": [
    "#записываем в переменную категории типа занятости клиентов с пропущенными значениями дохода\n",
    "nan_income_unique = data.loc[data['total_income'].isna()]['income_type'].unique()\n",
    "for nan_income in nan_income_unique: #заменяем пропущенные значения медианой дохода по типу занятости\n",
    "    type_income_median = data.loc[data['income_type'] == nan_income, 'total_income'].median()\n",
    "    data.loc[data['income_type'] == nan_income, 'total_income'] = data.loc[data['income_type'] == nan_income, 'total_income'].fillna(type_income_median) "
   ]
  },
  {
   "cell_type": "code",
   "execution_count": 17,
   "metadata": {},
   "outputs": [
    {
     "name": "stdout",
     "output_type": "stream",
     "text": [
      "Пропущенных значений в столбце total_income: 0\n"
     ]
    }
   ],
   "source": [
    "print('Пропущенных значений в столбце total_income:', data['total_income'].isnull().sum())"
   ]
  },
  {
   "cell_type": "code",
   "execution_count": 18,
   "metadata": {},
   "outputs": [
    {
     "name": "stdout",
     "output_type": "stream",
     "text": [
      "<class 'pandas.core.frame.DataFrame'>\n",
      "RangeIndex: 21525 entries, 0 to 21524\n",
      "Data columns (total 12 columns):\n",
      " #   Column            Non-Null Count  Dtype  \n",
      "---  ------            --------------  -----  \n",
      " 0   children          21525 non-null  int64  \n",
      " 1   days_employed     21525 non-null  float64\n",
      " 2   dob_years         21525 non-null  int64  \n",
      " 3   education         21525 non-null  object \n",
      " 4   education_id      21525 non-null  int64  \n",
      " 5   family_status     21525 non-null  object \n",
      " 6   family_status_id  21525 non-null  int64  \n",
      " 7   gender            21525 non-null  object \n",
      " 8   income_type       21525 non-null  object \n",
      " 9   debt              21525 non-null  int64  \n",
      " 10  total_income      21525 non-null  float64\n",
      " 11  purpose           21525 non-null  object \n",
      "dtypes: float64(2), int64(5), object(5)\n",
      "memory usage: 1.6+ MB\n"
     ]
    }
   ],
   "source": [
    "data.info() #пропущенные значения отсутствуют"
   ]
  },
  {
   "cell_type": "code",
   "execution_count": 19,
   "metadata": {},
   "outputs": [
    {
     "name": "stdout",
     "output_type": "stream",
     "text": [
      "Значения количества детей: MIN -1 | MAX 20\n",
      "Значения возраста клиентов: MIN 0 | MAX 75\n"
     ]
    }
   ],
   "source": [
    "#проверим другие количественные данные на наличие нестандартных вариантов (например, пропущенное значение возраста как 0)\n",
    "print('Значения количества детей: MIN {} | MAX {}'.format(data['children'].min(), data['children'].max()))\n",
    "print('Значения возраста клиентов: MIN {} | MAX {}'.format(data['dob_years'].min(), data['dob_years'].max()))"
   ]
  },
  {
   "cell_type": "code",
   "execution_count": 20,
   "metadata": {},
   "outputs": [
    {
     "name": "stdout",
     "output_type": "stream",
     "text": [
      "Уникальные значения количества детей: [-1  0  1  2  3  4  5 20]\n"
     ]
    }
   ],
   "source": [
    "#рассмотрим подробнее значения количества детей\n",
    "print('Уникальные значения количества детей:', data['children'].sort_values().unique())"
   ]
  },
  {
   "cell_type": "code",
   "execution_count": 21,
   "metadata": {},
   "outputs": [],
   "source": [
    "#между 5 и 20 промежуточных значений нет, очевидно, это опечатка, как и -1\n",
    "data.loc[data['children'] == -1, 'children'] = 1\n",
    "data.loc[data['children'] == 20, 'children'] = 2"
   ]
  },
  {
   "cell_type": "code",
   "execution_count": 22,
   "metadata": {},
   "outputs": [
    {
     "name": "stdout",
     "output_type": "stream",
     "text": [
      "Значения количества детей: MIN 0 | MAX 5\n",
      "Уникальные значения количества детей: [0 1 2 3 4 5]\n"
     ]
    }
   ],
   "source": [
    "print('Значения количества детей: MIN {} | MAX {}'.format(data['children'].min(), data['children'].max()))\n",
    "print('Уникальные значения количества детей:', data['children'].sort_values().unique())"
   ]
  },
  {
   "cell_type": "markdown",
   "metadata": {},
   "source": [
    "Подробнее рассмотрим значения возраста клиентов:"
   ]
  },
  {
   "cell_type": "code",
   "execution_count": 23,
   "metadata": {},
   "outputs": [
    {
     "data": {
      "text/plain": [
       "dob_years\n",
       "0     101\n",
       "19     14\n",
       "20     51\n",
       "21    111\n",
       "22    183\n",
       "Name: dob_years, dtype: int64"
      ]
     },
     "metadata": {},
     "output_type": "display_data"
    }
   ],
   "source": [
    "display(data.groupby('dob_years')['dob_years'].count().head(5)) #значение возраста 101 клиента составляет 0"
   ]
  },
  {
   "cell_type": "markdown",
   "metadata": {},
   "source": [
    "Заполним нулевые значения возраста в зависимости от типа занятости клиента (пенсионер или не пенсионер):"
   ]
  },
  {
   "cell_type": "code",
   "execution_count": 24,
   "metadata": {},
   "outputs": [],
   "source": [
    "#выбрали средние значения, так как сильно отклоняющихся значений в возрасте не будет\n",
    "#методом astype заранее переводим float в int\n",
    "senior_age_mean = data.loc[(data['income_type'] == 'пенсионер') & (data['dob_years'] != 0), 'dob_years'].mean().astype('int')\n",
    "non_senior_age_mean = data.loc[(data['income_type'] != 'пенсионер') & (data['dob_years'] != 0), 'dob_years'].mean().astype('int')\n",
    "data.loc[(data['dob_years'] == 0) & (data['income_type'] == 'пенсионер'), 'dob_years'] = senior_age_mean\n",
    "data.loc[(data['dob_years'] == 0) & (data['income_type'] != 'пенсионер'), 'dob_years'] = non_senior_age_mean"
   ]
  },
  {
   "cell_type": "code",
   "execution_count": 25,
   "metadata": {},
   "outputs": [
    {
     "data": {
      "text/plain": [
       "dob_years\n",
       "19     14\n",
       "20     51\n",
       "21    111\n",
       "22    183\n",
       "23    254\n",
       "Name: dob_years, dtype: int64"
      ]
     },
     "metadata": {},
     "output_type": "display_data"
    }
   ],
   "source": [
    "display(data.groupby('dob_years')['dob_years'].count().head(5))"
   ]
  },
  {
   "cell_type": "markdown",
   "metadata": {},
   "source": [
    "Проверим строковые категориальные данные на наличие значений типа прочерков, \"None\", \"N/A\" и т.п."
   ]
  },
  {
   "cell_type": "code",
   "execution_count": 26,
   "metadata": {},
   "outputs": [
    {
     "name": "stdout",
     "output_type": "stream",
     "text": [
      "education\n",
      "['высшее' 'среднее' 'Среднее' 'СРЕДНЕЕ' 'ВЫСШЕЕ' 'неоконченное высшее'\n",
      " 'начальное' 'Высшее' 'НЕОКОНЧЕННОЕ ВЫСШЕЕ' 'Неоконченное высшее'\n",
      " 'НАЧАЛЬНОЕ' 'Начальное' 'Ученая степень' 'УЧЕНАЯ СТЕПЕНЬ'\n",
      " 'ученая степень']\n",
      "---------------------------------------------\n",
      "family_status\n",
      "['женат / замужем' 'гражданский брак' 'вдовец / вдова' 'в разводе'\n",
      " 'Не женат / не замужем']\n",
      "---------------------------------------------\n",
      "gender\n",
      "['F' 'M' 'XNA']\n",
      "---------------------------------------------\n",
      "income_type\n",
      "['сотрудник' 'пенсионер' 'компаньон' 'госслужащий' 'безработный'\n",
      " 'предприниматель' 'студент' 'в декрете']\n",
      "---------------------------------------------\n",
      "purpose\n",
      "['покупка жилья' 'приобретение автомобиля' 'дополнительное образование'\n",
      " 'сыграть свадьбу' 'операции с жильем' 'образование'\n",
      " 'на проведение свадьбы' 'покупка жилья для семьи' 'покупка недвижимости'\n",
      " 'покупка коммерческой недвижимости' 'покупка жилой недвижимости'\n",
      " 'строительство собственной недвижимости' 'недвижимость'\n",
      " 'строительство недвижимости' 'на покупку подержанного автомобиля'\n",
      " 'на покупку своего автомобиля' 'операции с коммерческой недвижимостью'\n",
      " 'строительство жилой недвижимости' 'жилье'\n",
      " 'операции со своей недвижимостью' 'автомобили' 'заняться образованием'\n",
      " 'сделка с подержанным автомобилем' 'получение образования' 'автомобиль'\n",
      " 'свадьба' 'получение дополнительного образования' 'покупка своего жилья'\n",
      " 'операции с недвижимостью' 'получение высшего образования'\n",
      " 'свой автомобиль' 'сделка с автомобилем' 'профильное образование'\n",
      " 'высшее образование' 'покупка жилья для сдачи' 'на покупку автомобиля'\n",
      " 'ремонт жилью' 'заняться высшим образованием']\n",
      "---------------------------------------------\n"
     ]
    }
   ],
   "source": [
    "category_columns = ['education', 'family_status', 'gender', 'income_type', 'purpose']\n",
    "for column in category_columns:\n",
    "    print(column)\n",
    "    print(data[column].unique())\n",
    "    print('---' * 15)"
   ]
  },
  {
   "cell_type": "markdown",
   "metadata": {},
   "source": [
    "Просмотрев уникальные значения выше, видим 'XNA' в значениях пола клиентов. Рассмотрим данные об этом клиенте подробнее\n"
   ]
  },
  {
   "cell_type": "code",
   "execution_count": 27,
   "metadata": {},
   "outputs": [
    {
     "data": {
      "text/html": [
       "<div>\n",
       "<style scoped>\n",
       "    .dataframe tbody tr th:only-of-type {\n",
       "        vertical-align: middle;\n",
       "    }\n",
       "\n",
       "    .dataframe tbody tr th {\n",
       "        vertical-align: top;\n",
       "    }\n",
       "\n",
       "    .dataframe thead th {\n",
       "        text-align: right;\n",
       "    }\n",
       "</style>\n",
       "<table border=\"1\" class=\"dataframe\">\n",
       "  <thead>\n",
       "    <tr style=\"text-align: right;\">\n",
       "      <th></th>\n",
       "      <th>children</th>\n",
       "      <th>days_employed</th>\n",
       "      <th>dob_years</th>\n",
       "      <th>education</th>\n",
       "      <th>education_id</th>\n",
       "      <th>family_status</th>\n",
       "      <th>family_status_id</th>\n",
       "      <th>gender</th>\n",
       "      <th>income_type</th>\n",
       "      <th>debt</th>\n",
       "      <th>total_income</th>\n",
       "      <th>purpose</th>\n",
       "    </tr>\n",
       "  </thead>\n",
       "  <tbody>\n",
       "    <tr>\n",
       "      <th>10701</th>\n",
       "      <td>0</td>\n",
       "      <td>2358.600502</td>\n",
       "      <td>24</td>\n",
       "      <td>неоконченное высшее</td>\n",
       "      <td>2</td>\n",
       "      <td>гражданский брак</td>\n",
       "      <td>1</td>\n",
       "      <td>XNA</td>\n",
       "      <td>компаньон</td>\n",
       "      <td>0</td>\n",
       "      <td>203905.157261</td>\n",
       "      <td>покупка недвижимости</td>\n",
       "    </tr>\n",
       "  </tbody>\n",
       "</table>\n",
       "</div>"
      ],
      "text/plain": [
       "       children  days_employed  dob_years            education  education_id  \\\n",
       "10701         0    2358.600502         24  неоконченное высшее             2   \n",
       "\n",
       "          family_status  family_status_id gender income_type  debt  \\\n",
       "10701  гражданский брак                 1    XNA   компаньон     0   \n",
       "\n",
       "        total_income               purpose  \n",
       "10701  203905.157261  покупка недвижимости  "
      ]
     },
     "execution_count": 27,
     "metadata": {},
     "output_type": "execute_result"
    }
   ],
   "source": [
    "data.loc[data['gender'] == 'XNA']"
   ]
  },
  {
   "cell_type": "markdown",
   "metadata": {},
   "source": [
    "Попробуем установить неиболее вероятный пол клиента, используя значение типа занятости."
   ]
  },
  {
   "cell_type": "code",
   "execution_count": 28,
   "metadata": {},
   "outputs": [
    {
     "data": {
      "text/plain": [
       "F      3197\n",
       "M      1887\n",
       "XNA       1\n",
       "Name: gender, dtype: int64"
      ]
     },
     "execution_count": 28,
     "metadata": {},
     "output_type": "execute_result"
    }
   ],
   "source": [
    "data.loc[data['income_type'] == 'компаньон', 'gender'].value_counts()"
   ]
  },
  {
   "cell_type": "code",
   "execution_count": 29,
   "metadata": {},
   "outputs": [],
   "source": [
    "#компаньонами в 1,7 раза чаще выступают женщины, поэтому более вероятно, что клиент XNA женского пола\n",
    "data.loc[data['gender'] == 'XNA', 'gender'] = 'F'"
   ]
  },
  {
   "cell_type": "code",
   "execution_count": 30,
   "metadata": {},
   "outputs": [
    {
     "name": "stdout",
     "output_type": "stream",
     "text": [
      "['F' 'M']\n"
     ]
    }
   ],
   "source": [
    "#проверяем уникальные значения пола\n",
    "print(data['gender'].unique())"
   ]
  },
  {
   "cell_type": "markdown",
   "metadata": {},
   "source": [
    "**Вывод**"
   ]
  },
  {
   "cell_type": "markdown",
   "metadata": {},
   "source": [
    "Мы проверили методом isna() наличие пропущенных значений, а также просмотрели уникальные значения категориальных данных, чтобы найти среди них \"нереальные\" (например, возраст клиентов 0) либо пропуски, обозначенные строкой (пол 'XNA').\n",
    "\n",
    "Таким образом, были обнаружены пропущенные значения в виде NaN (для стажа и доходов), а также в форматах int (возраст) и строковых значений (пол). При этом попутно были обнаружены и исправлены некорректные данные (отрицательный  и \"тысячелетний\" стаж, количество детей).\n",
    "\n",
    "Удалив все строки, в которых встречается NaN, мы бы лишили себя почти 10% данных, что негативно отразится на выводах. Поэтому пропуски должны были быть заполнены.\n",
    "\n",
    "Для заполнения пропусков в стаже использована медиана трудового стажа по всем клиентам и метод fillna().  Для заполнения пропусков дохода использована медиана дохода по категории, к которой относится клиент. Среднее значение для заполнения пропусков не использовалось, так как на сильно него влияют отклоняющиеся значения.\n",
    "\n",
    "Пропуск пола был заполнен на основании типа занятости клиента (тип занятости клиента более распространен среди женщин).\n",
    "\n",
    "Нулевые значения возраста были заполнены на основании того, относится или нет клиент к пенсионерам, для заполнения использованы средние значения (так как сильно отклоняющиеся значения в возрасте встретить сомнительно).\n",
    "\n",
    "Возможные причины появления пропусков данных:\n",
    "\n",
    "- данные по случайности не были внесены\n",
    "- данные были намеренно сокрыты\n",
    "- значение не существует, поэтому его нельзя внести\n",
    "- технический сбой\n",
    "- удаление уже внесенных данных"
   ]
  },
  {
   "cell_type": "markdown",
   "metadata": {},
   "source": [
    "### Замена типа данных"
   ]
  },
  {
   "cell_type": "code",
   "execution_count": 31,
   "metadata": {},
   "outputs": [],
   "source": [
    "data['days_employed'] = data['days_employed'].astype('int')\n",
    "data['total_income'] = data['total_income'].astype('int')"
   ]
  },
  {
   "cell_type": "code",
   "execution_count": 32,
   "metadata": {},
   "outputs": [
    {
     "name": "stdout",
     "output_type": "stream",
     "text": [
      "<class 'pandas.core.frame.DataFrame'>\n",
      "RangeIndex: 21525 entries, 0 to 21524\n",
      "Data columns (total 12 columns):\n",
      " #   Column            Non-Null Count  Dtype \n",
      "---  ------            --------------  ----- \n",
      " 0   children          21525 non-null  int64 \n",
      " 1   days_employed     21525 non-null  int32 \n",
      " 2   dob_years         21525 non-null  int64 \n",
      " 3   education         21525 non-null  object\n",
      " 4   education_id      21525 non-null  int64 \n",
      " 5   family_status     21525 non-null  object\n",
      " 6   family_status_id  21525 non-null  int64 \n",
      " 7   gender            21525 non-null  object\n",
      " 8   income_type       21525 non-null  object\n",
      " 9   debt              21525 non-null  int64 \n",
      " 10  total_income      21525 non-null  int32 \n",
      " 11  purpose           21525 non-null  object\n",
      "dtypes: int32(2), int64(5), object(5)\n",
      "memory usage: 1.4+ MB\n"
     ]
    }
   ],
   "source": [
    "data.info() #проверка замены типа"
   ]
  },
  {
   "cell_type": "markdown",
   "metadata": {},
   "source": [
    "**Вывод**"
   ]
  },
  {
   "cell_type": "markdown",
   "metadata": {},
   "source": [
    "На этапе изучения информации о файле было установлено, что вещественный тип данных float имеют столбцы days_employed И total_income.\n",
    "\n",
    "Для изменения типа данных использован метод astype() с аргументом 'int'. Метод to_numeric() для данной задачи не подходит, так как преобразовывает данные в вещественный тип float, тогда как нам необходимо было преобразование из вещественного в целочисленный int."
   ]
  },
  {
   "cell_type": "markdown",
   "metadata": {},
   "source": [
    "### Обработка дубликатов"
   ]
  },
  {
   "cell_type": "code",
   "execution_count": 33,
   "metadata": {},
   "outputs": [],
   "source": [
    "#перед поиском и удалением дубликатов приведем строковые значения education к единому регистру\n",
    "data['education'] = data['education'].str.lower()"
   ]
  },
  {
   "cell_type": "code",
   "execution_count": 34,
   "metadata": {},
   "outputs": [
    {
     "name": "stdout",
     "output_type": "stream",
     "text": [
      "['высшее' 'среднее' 'неоконченное высшее' 'начальное' 'ученая степень']\n"
     ]
    }
   ],
   "source": [
    "print(data['education'].unique()) #проверяем уникальные значения family_status"
   ]
  },
  {
   "cell_type": "code",
   "execution_count": 35,
   "metadata": {},
   "outputs": [
    {
     "data": {
      "text/plain": [
       "71"
      ]
     },
     "execution_count": 35,
     "metadata": {},
     "output_type": "execute_result"
    }
   ],
   "source": [
    "data.duplicated().sum() #поиск дубликатов, их количество"
   ]
  },
  {
   "cell_type": "code",
   "execution_count": 36,
   "metadata": {},
   "outputs": [],
   "source": [
    "data = data.drop_duplicates().reset_index(drop=True) #удаление дубликатов"
   ]
  },
  {
   "cell_type": "code",
   "execution_count": 37,
   "metadata": {},
   "outputs": [
    {
     "data": {
      "text/plain": [
       "0"
      ]
     },
     "execution_count": 37,
     "metadata": {},
     "output_type": "execute_result"
    }
   ],
   "source": [
    "data.duplicated().sum() #проверка наличия дубликатов"
   ]
  },
  {
   "cell_type": "markdown",
   "metadata": {},
   "source": [
    "**Вывод**"
   ]
  },
  {
   "cell_type": "markdown",
   "metadata": {},
   "source": [
    "Перед поиском дубликатов значения столбца education (в нем на более ранних этапах проекта выявлены одинаковые значения в разном регистре) приведены к нижнему регистру цепочкой методов str.lower(), после чего методом duplicated() выявлено наличие дубликатов, которые были удалены методом drop_duplicates() в связке с методом reset_index() (сброс индекса).\n",
    "\n",
    "Возможные причины появления дубликатов в данных:\n",
    "- случайный повторный ввод данных\n",
    "- ввод одинаковых данных со строковыми значениями в разном регистре (отсутствие единой формы для значений)\n",
    "- технический сбой\n",
    "- ошибки при копировании данных"
   ]
  },
  {
   "cell_type": "markdown",
   "metadata": {},
   "source": [
    "### Лемматизация"
   ]
  },
  {
   "cell_type": "code",
   "execution_count": 38,
   "metadata": {},
   "outputs": [],
   "source": [
    "m = Mystem() "
   ]
  },
  {
   "cell_type": "code",
   "execution_count": 39,
   "metadata": {},
   "outputs": [],
   "source": [
    "unique_purposes = data['purpose'].unique()"
   ]
  },
  {
   "cell_type": "markdown",
   "metadata": {},
   "source": [
    "Лемматизируем только уникальные цели получения кредита."
   ]
  },
  {
   "cell_type": "code",
   "execution_count": 40,
   "metadata": {},
   "outputs": [
    {
     "name": "stdout",
     "output_type": "stream",
     "text": [
      "['покупка жилья' 'приобретение автомобиля' 'дополнительное образование'\n",
      " 'сыграть свадьбу' 'операции с жильем' 'образование'\n",
      " 'на проведение свадьбы' 'покупка жилья для семьи' 'покупка недвижимости'\n",
      " 'покупка коммерческой недвижимости' 'покупка жилой недвижимости'\n",
      " 'строительство собственной недвижимости' 'недвижимость'\n",
      " 'строительство недвижимости' 'на покупку подержанного автомобиля'\n",
      " 'на покупку своего автомобиля' 'операции с коммерческой недвижимостью'\n",
      " 'строительство жилой недвижимости' 'жилье'\n",
      " 'операции со своей недвижимостью' 'автомобили' 'заняться образованием'\n",
      " 'сделка с подержанным автомобилем' 'получение образования' 'автомобиль'\n",
      " 'свадьба' 'получение дополнительного образования' 'покупка своего жилья'\n",
      " 'операции с недвижимостью' 'получение высшего образования'\n",
      " 'свой автомобиль' 'сделка с автомобилем' 'профильное образование'\n",
      " 'высшее образование' 'покупка жилья для сдачи' 'на покупку автомобиля'\n",
      " 'ремонт жилью' 'заняться высшим образованием']\n"
     ]
    }
   ],
   "source": [
    "print(unique_purposes)"
   ]
  },
  {
   "cell_type": "code",
   "execution_count": 41,
   "metadata": {},
   "outputs": [],
   "source": [
    "lemmas = []\n",
    "for p in unique_purposes: #для каждой цели в уникальных целях получения кредита\n",
    "    lemmas += m.lemmatize(p) #добавляем лемматизированную строку в список"
   ]
  },
  {
   "cell_type": "code",
   "execution_count": 42,
   "metadata": {},
   "outputs": [
    {
     "name": "stdout",
     "output_type": "stream",
     "text": [
      "Counter({' ': 59, '\\n': 38, 'покупка': 10, 'недвижимость': 10, 'автомобиль': 9, 'образование': 9, 'жилье': 7, 'с': 5, 'операция': 4, 'на': 4, 'свой': 4, 'свадьба': 3, 'строительство': 3, 'получение': 3, 'высокий': 3, 'дополнительный': 2, 'для': 2, 'коммерческий': 2, 'жилой': 2, 'заниматься': 2, 'сделка': 2, 'приобретение': 1, 'сыграть': 1, 'проведение': 1, 'семья': 1, 'собственный': 1, 'подержать': 1, 'со': 1, 'подержанный': 1, 'профильный': 1, 'сдача': 1, 'ремонт': 1})\n"
     ]
    }
   ],
   "source": [
    "print(Counter(lemmas))"
   ]
  },
  {
   "cell_type": "markdown",
   "metadata": {},
   "source": [
    "Из лемм становятся ясны основные цели получения кредита."
   ]
  },
  {
   "cell_type": "markdown",
   "metadata": {},
   "source": [
    "Подробнее рассмотрим \"недвижимость\", \"жилье\", а также \"ремонт\" (кредит на ремонт чего? не пересекаются ли слова?)."
   ]
  },
  {
   "cell_type": "code",
   "execution_count": 43,
   "metadata": {},
   "outputs": [],
   "source": [
    "lemmas_detailed = []\n",
    "for string in unique_purposes:\n",
    "    lemmatized = m.lemmatize(string)\n",
    "    if (('ремонт' in lemmatized) or \\\n",
    "        ('недвижимость' in lemmatized) or \\\n",
    "        ('жилье' in lemmatized) or \\\n",
    "        ('операция' in lemmatized)) & (lemmatized not in lemmas_detailed):\n",
    "        lemmas_detailed.append(lemmatized)"
   ]
  },
  {
   "cell_type": "code",
   "execution_count": 44,
   "metadata": {},
   "outputs": [
    {
     "name": "stdout",
     "output_type": "stream",
     "text": [
      "['покупка', ' ', 'жилье', '\\n']\n",
      "['операция', ' ', 'с', ' ', 'жилье', '\\n']\n",
      "['покупка', ' ', 'жилье', ' ', 'для', ' ', 'семья', '\\n']\n",
      "['покупка', ' ', 'недвижимость', '\\n']\n",
      "['покупка', ' ', 'коммерческий', ' ', 'недвижимость', '\\n']\n",
      "['покупка', ' ', 'жилой', ' ', 'недвижимость', '\\n']\n",
      "['строительство', ' ', 'собственный', ' ', 'недвижимость', '\\n']\n",
      "['недвижимость', '\\n']\n",
      "['строительство', ' ', 'недвижимость', '\\n']\n",
      "['операция', ' ', 'с', ' ', 'коммерческий', ' ', 'недвижимость', '\\n']\n",
      "['строительство', ' ', 'жилой', ' ', 'недвижимость', '\\n']\n",
      "['жилье', '\\n']\n",
      "['операция', ' ', 'со', ' ', 'свой', ' ', 'недвижимость', '\\n']\n",
      "['покупка', ' ', 'свой', ' ', 'жилье', '\\n']\n",
      "['операция', ' ', 'с', ' ', 'недвижимость', '\\n']\n",
      "['покупка', ' ', 'жилье', ' ', 'для', ' ', 'сдача', '\\n']\n",
      "['ремонт', ' ', 'жилье', '\\n']\n"
     ]
    }
   ],
   "source": [
    "for lemma_purpose in lemmas_detailed:\n",
    "    print(lemma_purpose)"
   ]
  },
  {
   "cell_type": "markdown",
   "metadata": {},
   "source": [
    "Объединим причины с леммами \"недвижимость\" и \"жилье\": жилье является недвижимостью, кроме того, это понятие растяжимое.\n",
    "\n",
    "Ремонт является отдельной причиной получения кредита и будет выделен в собственную категорию."
   ]
  },
  {
   "cell_type": "code",
   "execution_count": 45,
   "metadata": {},
   "outputs": [],
   "source": [
    "#создадим столбец с краткими причинами получения кредита\n",
    "def purpose_compactize(purpose):\n",
    "    if 'ремонт' in purpose:\n",
    "        return 'жилищный ремонт' #ремонт будет первым условием, чтобы строки с ним не были отнесены к покупке недвижимости\n",
    "    elif 'недвижимост' in purpose or 'жиль' in purpose:\n",
    "        return 'приобретение недвижимости'\n",
    "    elif 'автомобил' in purpose:\n",
    "        return 'приобретение автомобиля'\n",
    "    elif 'образовани' in purpose:\n",
    "        return 'оплата образовательных услуг'\n",
    "    elif 'свадьб' in purpose:\n",
    "        return 'свадьба'"
   ]
  },
  {
   "cell_type": "code",
   "execution_count": 46,
   "metadata": {},
   "outputs": [],
   "source": [
    "data['compact_purpose'] = data['purpose'].apply(purpose_compactize)"
   ]
  },
  {
   "cell_type": "markdown",
   "metadata": {},
   "source": [
    "Проверим наличие пропусков в `compact_purpose`:"
   ]
  },
  {
   "cell_type": "code",
   "execution_count": 47,
   "metadata": {},
   "outputs": [
    {
     "data": {
      "text/plain": [
       "0"
      ]
     },
     "execution_count": 47,
     "metadata": {},
     "output_type": "execute_result"
    }
   ],
   "source": [
    "data['compact_purpose'].isna().sum()"
   ]
  },
  {
   "cell_type": "markdown",
   "metadata": {},
   "source": [
    "Проверим, какие уникальные значения записаны в `compact_purpose`:"
   ]
  },
  {
   "cell_type": "code",
   "execution_count": 48,
   "metadata": {},
   "outputs": [
    {
     "data": {
      "text/plain": [
       "array(['приобретение недвижимости', 'приобретение автомобиля',\n",
       "       'оплата образовательных услуг', 'свадьба', 'жилищный ремонт'],\n",
       "      dtype=object)"
      ]
     },
     "execution_count": 48,
     "metadata": {},
     "output_type": "execute_result"
    }
   ],
   "source": [
    "data['compact_purpose'].unique()"
   ]
  },
  {
   "cell_type": "markdown",
   "metadata": {},
   "source": [
    "Проверим соответствие `purpose` и `compact_purpose`:"
   ]
  },
  {
   "cell_type": "code",
   "execution_count": 49,
   "metadata": {
    "scrolled": true
   },
   "outputs": [
    {
     "data": {
      "text/html": [
       "<div>\n",
       "<style scoped>\n",
       "    .dataframe tbody tr th:only-of-type {\n",
       "        vertical-align: middle;\n",
       "    }\n",
       "\n",
       "    .dataframe tbody tr th {\n",
       "        vertical-align: top;\n",
       "    }\n",
       "\n",
       "    .dataframe thead th {\n",
       "        text-align: right;\n",
       "    }\n",
       "</style>\n",
       "<table border=\"1\" class=\"dataframe\">\n",
       "  <thead>\n",
       "    <tr style=\"text-align: right;\">\n",
       "      <th></th>\n",
       "      <th>purpose</th>\n",
       "      <th>compact_purpose</th>\n",
       "    </tr>\n",
       "  </thead>\n",
       "  <tbody>\n",
       "    <tr>\n",
       "      <th>0</th>\n",
       "      <td>покупка жилья</td>\n",
       "      <td>приобретение недвижимости</td>\n",
       "    </tr>\n",
       "    <tr>\n",
       "      <th>1</th>\n",
       "      <td>приобретение автомобиля</td>\n",
       "      <td>приобретение автомобиля</td>\n",
       "    </tr>\n",
       "    <tr>\n",
       "      <th>2</th>\n",
       "      <td>покупка жилья</td>\n",
       "      <td>приобретение недвижимости</td>\n",
       "    </tr>\n",
       "    <tr>\n",
       "      <th>3</th>\n",
       "      <td>дополнительное образование</td>\n",
       "      <td>оплата образовательных услуг</td>\n",
       "    </tr>\n",
       "    <tr>\n",
       "      <th>4</th>\n",
       "      <td>сыграть свадьбу</td>\n",
       "      <td>свадьба</td>\n",
       "    </tr>\n",
       "    <tr>\n",
       "      <th>5</th>\n",
       "      <td>покупка жилья</td>\n",
       "      <td>приобретение недвижимости</td>\n",
       "    </tr>\n",
       "    <tr>\n",
       "      <th>6</th>\n",
       "      <td>операции с жильем</td>\n",
       "      <td>приобретение недвижимости</td>\n",
       "    </tr>\n",
       "    <tr>\n",
       "      <th>7</th>\n",
       "      <td>образование</td>\n",
       "      <td>оплата образовательных услуг</td>\n",
       "    </tr>\n",
       "    <tr>\n",
       "      <th>8</th>\n",
       "      <td>на проведение свадьбы</td>\n",
       "      <td>свадьба</td>\n",
       "    </tr>\n",
       "    <tr>\n",
       "      <th>9</th>\n",
       "      <td>покупка жилья для семьи</td>\n",
       "      <td>приобретение недвижимости</td>\n",
       "    </tr>\n",
       "  </tbody>\n",
       "</table>\n",
       "</div>"
      ],
      "text/plain": [
       "                      purpose               compact_purpose\n",
       "0               покупка жилья     приобретение недвижимости\n",
       "1     приобретение автомобиля       приобретение автомобиля\n",
       "2               покупка жилья     приобретение недвижимости\n",
       "3  дополнительное образование  оплата образовательных услуг\n",
       "4             сыграть свадьбу                       свадьба\n",
       "5               покупка жилья     приобретение недвижимости\n",
       "6           операции с жильем     приобретение недвижимости\n",
       "7                 образование  оплата образовательных услуг\n",
       "8       на проведение свадьбы                       свадьба\n",
       "9     покупка жилья для семьи     приобретение недвижимости"
      ]
     },
     "execution_count": 49,
     "metadata": {},
     "output_type": "execute_result"
    }
   ],
   "source": [
    "data[['purpose', 'compact_purpose']].head(10) #проверяем соответствие"
   ]
  },
  {
   "cell_type": "markdown",
   "metadata": {},
   "source": [
    "Проверим, соответствие значений для кредита на ремонт:"
   ]
  },
  {
   "cell_type": "code",
   "execution_count": 50,
   "metadata": {},
   "outputs": [
    {
     "data": {
      "text/html": [
       "<div>\n",
       "<style scoped>\n",
       "    .dataframe tbody tr th:only-of-type {\n",
       "        vertical-align: middle;\n",
       "    }\n",
       "\n",
       "    .dataframe tbody tr th {\n",
       "        vertical-align: top;\n",
       "    }\n",
       "\n",
       "    .dataframe thead th {\n",
       "        text-align: right;\n",
       "    }\n",
       "</style>\n",
       "<table border=\"1\" class=\"dataframe\">\n",
       "  <thead>\n",
       "    <tr style=\"text-align: right;\">\n",
       "      <th></th>\n",
       "      <th>purpose</th>\n",
       "      <th>compact_purpose</th>\n",
       "    </tr>\n",
       "  </thead>\n",
       "  <tbody>\n",
       "    <tr>\n",
       "      <th>139</th>\n",
       "      <td>ремонт жилью</td>\n",
       "      <td>жилищный ремонт</td>\n",
       "    </tr>\n",
       "    <tr>\n",
       "      <th>163</th>\n",
       "      <td>ремонт жилью</td>\n",
       "      <td>жилищный ремонт</td>\n",
       "    </tr>\n",
       "    <tr>\n",
       "      <th>228</th>\n",
       "      <td>ремонт жилью</td>\n",
       "      <td>жилищный ремонт</td>\n",
       "    </tr>\n",
       "    <tr>\n",
       "      <th>270</th>\n",
       "      <td>ремонт жилью</td>\n",
       "      <td>жилищный ремонт</td>\n",
       "    </tr>\n",
       "    <tr>\n",
       "      <th>276</th>\n",
       "      <td>ремонт жилью</td>\n",
       "      <td>жилищный ремонт</td>\n",
       "    </tr>\n",
       "  </tbody>\n",
       "</table>\n",
       "</div>"
      ],
      "text/plain": [
       "          purpose  compact_purpose\n",
       "139  ремонт жилью  жилищный ремонт\n",
       "163  ремонт жилью  жилищный ремонт\n",
       "228  ремонт жилью  жилищный ремонт\n",
       "270  ремонт жилью  жилищный ремонт\n",
       "276  ремонт жилью  жилищный ремонт"
      ]
     },
     "execution_count": 50,
     "metadata": {},
     "output_type": "execute_result"
    }
   ],
   "source": [
    "data.loc[data['compact_purpose'] == 'жилищный ремонт', ['purpose', 'compact_purpose']].head(5)"
   ]
  },
  {
   "cell_type": "markdown",
   "metadata": {},
   "source": [
    "**Вывод**"
   ]
  },
  {
   "cell_type": "markdown",
   "metadata": {},
   "source": [
    "Для систематизации целей получения кредита значения столбца purpose были лемматизированы с помощью средств библиотеки pymystem3. На основании часто встречающихся лемм, посчитанных в контейнере Counter, были выделены 5 кратких категорий целей получения кредита, а с помощью функции, примененной к purpose методом apply, для них создан отдельный столбец с соответствующими целями."
   ]
  },
  {
   "cell_type": "markdown",
   "metadata": {},
   "source": [
    "### Категоризация данных"
   ]
  },
  {
   "cell_type": "markdown",
   "metadata": {},
   "source": [
    "Назначим для признаков, записанных в датафрейме, категории в числовом выражении, в словарях запишем соответствие числа и значения."
   ]
  },
  {
   "cell_type": "code",
   "execution_count": 51,
   "metadata": {},
   "outputs": [],
   "source": [
    "compact_purposes = data['compact_purpose'].unique()\n",
    "purpose_dict = pd.DataFrame({'purpose_id': range(5), 'compact_purpose': compact_purposes})"
   ]
  },
  {
   "cell_type": "code",
   "execution_count": 52,
   "metadata": {},
   "outputs": [
    {
     "data": {
      "text/html": [
       "<div>\n",
       "<style scoped>\n",
       "    .dataframe tbody tr th:only-of-type {\n",
       "        vertical-align: middle;\n",
       "    }\n",
       "\n",
       "    .dataframe tbody tr th {\n",
       "        vertical-align: top;\n",
       "    }\n",
       "\n",
       "    .dataframe thead th {\n",
       "        text-align: right;\n",
       "    }\n",
       "</style>\n",
       "<table border=\"1\" class=\"dataframe\">\n",
       "  <thead>\n",
       "    <tr style=\"text-align: right;\">\n",
       "      <th></th>\n",
       "      <th>purpose_id</th>\n",
       "      <th>compact_purpose</th>\n",
       "    </tr>\n",
       "  </thead>\n",
       "  <tbody>\n",
       "    <tr>\n",
       "      <th>0</th>\n",
       "      <td>0</td>\n",
       "      <td>приобретение недвижимости</td>\n",
       "    </tr>\n",
       "    <tr>\n",
       "      <th>1</th>\n",
       "      <td>1</td>\n",
       "      <td>приобретение автомобиля</td>\n",
       "    </tr>\n",
       "    <tr>\n",
       "      <th>2</th>\n",
       "      <td>2</td>\n",
       "      <td>оплата образовательных услуг</td>\n",
       "    </tr>\n",
       "    <tr>\n",
       "      <th>3</th>\n",
       "      <td>3</td>\n",
       "      <td>свадьба</td>\n",
       "    </tr>\n",
       "    <tr>\n",
       "      <th>4</th>\n",
       "      <td>4</td>\n",
       "      <td>жилищный ремонт</td>\n",
       "    </tr>\n",
       "  </tbody>\n",
       "</table>\n",
       "</div>"
      ],
      "text/plain": [
       "   purpose_id               compact_purpose\n",
       "0           0     приобретение недвижимости\n",
       "1           1       приобретение автомобиля\n",
       "2           2  оплата образовательных услуг\n",
       "3           3                       свадьба\n",
       "4           4               жилищный ремонт"
      ]
     },
     "execution_count": 52,
     "metadata": {},
     "output_type": "execute_result"
    }
   ],
   "source": [
    "purpose_dict"
   ]
  },
  {
   "cell_type": "markdown",
   "metadata": {},
   "source": [
    "Добавляем id цели получения кредита в датафрейм:"
   ]
  },
  {
   "cell_type": "code",
   "execution_count": 53,
   "metadata": {},
   "outputs": [],
   "source": [
    "data = data.merge(purpose_dict, on='compact_purpose', how='left') "
   ]
  },
  {
   "cell_type": "code",
   "execution_count": 54,
   "metadata": {},
   "outputs": [
    {
     "data": {
      "text/html": [
       "<div>\n",
       "<style scoped>\n",
       "    .dataframe tbody tr th:only-of-type {\n",
       "        vertical-align: middle;\n",
       "    }\n",
       "\n",
       "    .dataframe tbody tr th {\n",
       "        vertical-align: top;\n",
       "    }\n",
       "\n",
       "    .dataframe thead th {\n",
       "        text-align: right;\n",
       "    }\n",
       "</style>\n",
       "<table border=\"1\" class=\"dataframe\">\n",
       "  <thead>\n",
       "    <tr style=\"text-align: right;\">\n",
       "      <th></th>\n",
       "      <th>compact_purpose</th>\n",
       "      <th>purpose_id</th>\n",
       "    </tr>\n",
       "  </thead>\n",
       "  <tbody>\n",
       "    <tr>\n",
       "      <th>0</th>\n",
       "      <td>приобретение недвижимости</td>\n",
       "      <td>0</td>\n",
       "    </tr>\n",
       "    <tr>\n",
       "      <th>1</th>\n",
       "      <td>приобретение автомобиля</td>\n",
       "      <td>1</td>\n",
       "    </tr>\n",
       "    <tr>\n",
       "      <th>2</th>\n",
       "      <td>приобретение недвижимости</td>\n",
       "      <td>0</td>\n",
       "    </tr>\n",
       "    <tr>\n",
       "      <th>3</th>\n",
       "      <td>оплата образовательных услуг</td>\n",
       "      <td>2</td>\n",
       "    </tr>\n",
       "    <tr>\n",
       "      <th>4</th>\n",
       "      <td>свадьба</td>\n",
       "      <td>3</td>\n",
       "    </tr>\n",
       "    <tr>\n",
       "      <th>5</th>\n",
       "      <td>приобретение недвижимости</td>\n",
       "      <td>0</td>\n",
       "    </tr>\n",
       "    <tr>\n",
       "      <th>6</th>\n",
       "      <td>приобретение недвижимости</td>\n",
       "      <td>0</td>\n",
       "    </tr>\n",
       "    <tr>\n",
       "      <th>7</th>\n",
       "      <td>оплата образовательных услуг</td>\n",
       "      <td>2</td>\n",
       "    </tr>\n",
       "    <tr>\n",
       "      <th>8</th>\n",
       "      <td>свадьба</td>\n",
       "      <td>3</td>\n",
       "    </tr>\n",
       "    <tr>\n",
       "      <th>9</th>\n",
       "      <td>приобретение недвижимости</td>\n",
       "      <td>0</td>\n",
       "    </tr>\n",
       "  </tbody>\n",
       "</table>\n",
       "</div>"
      ],
      "text/plain": [
       "                compact_purpose  purpose_id\n",
       "0     приобретение недвижимости           0\n",
       "1       приобретение автомобиля           1\n",
       "2     приобретение недвижимости           0\n",
       "3  оплата образовательных услуг           2\n",
       "4                       свадьба           3\n",
       "5     приобретение недвижимости           0\n",
       "6     приобретение недвижимости           0\n",
       "7  оплата образовательных услуг           2\n",
       "8                       свадьба           3\n",
       "9     приобретение недвижимости           0"
      ]
     },
     "execution_count": 54,
     "metadata": {},
     "output_type": "execute_result"
    }
   ],
   "source": [
    "data[['compact_purpose', 'purpose_id']].head(10) #проверяем соответствие"
   ]
  },
  {
   "cell_type": "code",
   "execution_count": 55,
   "metadata": {},
   "outputs": [
    {
     "data": {
      "text/plain": [
       "139    жилищный ремонт\n",
       "163    жилищный ремонт\n",
       "228    жилищный ремонт\n",
       "270    жилищный ремонт\n",
       "276    жилищный ремонт\n",
       "Name: compact_purpose, dtype: object"
      ]
     },
     "execution_count": 55,
     "metadata": {},
     "output_type": "execute_result"
    }
   ],
   "source": [
    "data.loc[data['purpose_id'] == 4, 'compact_purpose'].head()"
   ]
  },
  {
   "cell_type": "markdown",
   "metadata": {},
   "source": [
    "Составим словари для каждого признака заемщика:"
   ]
  },
  {
   "cell_type": "code",
   "execution_count": 56,
   "metadata": {},
   "outputs": [
    {
     "data": {
      "text/html": [
       "<div>\n",
       "<style scoped>\n",
       "    .dataframe tbody tr th:only-of-type {\n",
       "        vertical-align: middle;\n",
       "    }\n",
       "\n",
       "    .dataframe tbody tr th {\n",
       "        vertical-align: top;\n",
       "    }\n",
       "\n",
       "    .dataframe thead th {\n",
       "        text-align: right;\n",
       "    }\n",
       "</style>\n",
       "<table border=\"1\" class=\"dataframe\">\n",
       "  <thead>\n",
       "    <tr style=\"text-align: right;\">\n",
       "      <th></th>\n",
       "      <th>education_id</th>\n",
       "      <th>education</th>\n",
       "    </tr>\n",
       "  </thead>\n",
       "  <tbody>\n",
       "    <tr>\n",
       "      <th>0</th>\n",
       "      <td>0</td>\n",
       "      <td>высшее</td>\n",
       "    </tr>\n",
       "    <tr>\n",
       "      <th>1</th>\n",
       "      <td>1</td>\n",
       "      <td>среднее</td>\n",
       "    </tr>\n",
       "    <tr>\n",
       "      <th>2</th>\n",
       "      <td>2</td>\n",
       "      <td>неоконченное высшее</td>\n",
       "    </tr>\n",
       "    <tr>\n",
       "      <th>3</th>\n",
       "      <td>3</td>\n",
       "      <td>начальное</td>\n",
       "    </tr>\n",
       "    <tr>\n",
       "      <th>4</th>\n",
       "      <td>4</td>\n",
       "      <td>ученая степень</td>\n",
       "    </tr>\n",
       "  </tbody>\n",
       "</table>\n",
       "</div>"
      ],
      "text/plain": [
       "   education_id            education\n",
       "0             0               высшее\n",
       "1             1              среднее\n",
       "2             2  неоконченное высшее\n",
       "3             3            начальное\n",
       "4             4       ученая степень"
      ]
     },
     "execution_count": 56,
     "metadata": {},
     "output_type": "execute_result"
    }
   ],
   "source": [
    "education_dict = data[['education_id', 'education']].drop_duplicates().reset_index(drop=True)\n",
    "education_dict"
   ]
  },
  {
   "cell_type": "code",
   "execution_count": 57,
   "metadata": {},
   "outputs": [
    {
     "data": {
      "text/html": [
       "<div>\n",
       "<style scoped>\n",
       "    .dataframe tbody tr th:only-of-type {\n",
       "        vertical-align: middle;\n",
       "    }\n",
       "\n",
       "    .dataframe tbody tr th {\n",
       "        vertical-align: top;\n",
       "    }\n",
       "\n",
       "    .dataframe thead th {\n",
       "        text-align: right;\n",
       "    }\n",
       "</style>\n",
       "<table border=\"1\" class=\"dataframe\">\n",
       "  <thead>\n",
       "    <tr style=\"text-align: right;\">\n",
       "      <th></th>\n",
       "      <th>family_status_id</th>\n",
       "      <th>family_status</th>\n",
       "    </tr>\n",
       "  </thead>\n",
       "  <tbody>\n",
       "    <tr>\n",
       "      <th>0</th>\n",
       "      <td>0</td>\n",
       "      <td>женат / замужем</td>\n",
       "    </tr>\n",
       "    <tr>\n",
       "      <th>1</th>\n",
       "      <td>1</td>\n",
       "      <td>гражданский брак</td>\n",
       "    </tr>\n",
       "    <tr>\n",
       "      <th>2</th>\n",
       "      <td>2</td>\n",
       "      <td>вдовец / вдова</td>\n",
       "    </tr>\n",
       "    <tr>\n",
       "      <th>3</th>\n",
       "      <td>3</td>\n",
       "      <td>в разводе</td>\n",
       "    </tr>\n",
       "    <tr>\n",
       "      <th>4</th>\n",
       "      <td>4</td>\n",
       "      <td>не женат / не замужем</td>\n",
       "    </tr>\n",
       "  </tbody>\n",
       "</table>\n",
       "</div>"
      ],
      "text/plain": [
       "   family_status_id          family_status\n",
       "0                 0        женат / замужем\n",
       "1                 1       гражданский брак\n",
       "2                 2         вдовец / вдова\n",
       "3                 3              в разводе\n",
       "4                 4  не женат / не замужем"
      ]
     },
     "execution_count": 57,
     "metadata": {},
     "output_type": "execute_result"
    }
   ],
   "source": [
    "family_status_dict = data[['family_status_id', 'family_status']].drop_duplicates().reset_index(drop=True)\n",
    "family_status_dict['family_status'] = family_status_dict['family_status'].str.lower() #нижний регистр\n",
    "family_status_dict"
   ]
  },
  {
   "cell_type": "code",
   "execution_count": 58,
   "metadata": {},
   "outputs": [
    {
     "data": {
      "text/html": [
       "<div>\n",
       "<style scoped>\n",
       "    .dataframe tbody tr th:only-of-type {\n",
       "        vertical-align: middle;\n",
       "    }\n",
       "\n",
       "    .dataframe tbody tr th {\n",
       "        vertical-align: top;\n",
       "    }\n",
       "\n",
       "    .dataframe thead th {\n",
       "        text-align: right;\n",
       "    }\n",
       "</style>\n",
       "<table border=\"1\" class=\"dataframe\">\n",
       "  <thead>\n",
       "    <tr style=\"text-align: right;\">\n",
       "      <th></th>\n",
       "      <th>gender_id</th>\n",
       "      <th>gender</th>\n",
       "    </tr>\n",
       "  </thead>\n",
       "  <tbody>\n",
       "    <tr>\n",
       "      <th>0</th>\n",
       "      <td>0</td>\n",
       "      <td>F</td>\n",
       "    </tr>\n",
       "    <tr>\n",
       "      <th>1</th>\n",
       "      <td>1</td>\n",
       "      <td>M</td>\n",
       "    </tr>\n",
       "  </tbody>\n",
       "</table>\n",
       "</div>"
      ],
      "text/plain": [
       "   gender_id gender\n",
       "0          0      F\n",
       "1          1      M"
      ]
     },
     "execution_count": 58,
     "metadata": {},
     "output_type": "execute_result"
    }
   ],
   "source": [
    "gender_dict = pd.DataFrame({'gender_id': [0, 1], 'gender': ['F', 'M']})\n",
    "gender_dict"
   ]
  },
  {
   "cell_type": "code",
   "execution_count": 59,
   "metadata": {},
   "outputs": [],
   "source": [
    "data = data.merge(gender_dict, on='gender', how='left')"
   ]
  },
  {
   "cell_type": "markdown",
   "metadata": {},
   "source": [
    "Проверим количество клиентов каждого типа занятости:"
   ]
  },
  {
   "cell_type": "code",
   "execution_count": 60,
   "metadata": {},
   "outputs": [
    {
     "data": {
      "text/plain": [
       "сотрудник          11084\n",
       "компаньон           5078\n",
       "пенсионер           3829\n",
       "госслужащий         1457\n",
       "безработный            2\n",
       "предприниматель        2\n",
       "студент                1\n",
       "в декрете              1\n",
       "Name: income_type, dtype: int64"
      ]
     },
     "execution_count": 60,
     "metadata": {},
     "output_type": "execute_result"
    }
   ],
   "source": [
    "data['income_type'].value_counts()"
   ]
  },
  {
   "cell_type": "markdown",
   "metadata": {},
   "source": [
    "Необходимо распределить клиентов на более широкие категории типа занятости.\n",
    "\n",
    "Сотрудник может быть госслужащим, это более широкая категория, сотрудница в декрете официально трудоустроена, но находится в отпуске, а предприниматель не может быть признан государством безработным.\n",
    "\n",
    "\"Напрашиваются\" 3 категории: работающий, пенсионер, не трудоустроен:"
   ]
  },
  {
   "cell_type": "code",
   "execution_count": 61,
   "metadata": {},
   "outputs": [
    {
     "data": {
      "text/html": [
       "<div>\n",
       "<style scoped>\n",
       "    .dataframe tbody tr th:only-of-type {\n",
       "        vertical-align: middle;\n",
       "    }\n",
       "\n",
       "    .dataframe tbody tr th {\n",
       "        vertical-align: top;\n",
       "    }\n",
       "\n",
       "    .dataframe thead th {\n",
       "        text-align: right;\n",
       "    }\n",
       "</style>\n",
       "<table border=\"1\" class=\"dataframe\">\n",
       "  <thead>\n",
       "    <tr style=\"text-align: right;\">\n",
       "      <th></th>\n",
       "      <th>employment_id</th>\n",
       "      <th>employment</th>\n",
       "    </tr>\n",
       "  </thead>\n",
       "  <tbody>\n",
       "    <tr>\n",
       "      <th>0</th>\n",
       "      <td>0</td>\n",
       "      <td>работающий</td>\n",
       "    </tr>\n",
       "    <tr>\n",
       "      <th>1</th>\n",
       "      <td>1</td>\n",
       "      <td>пенсионер</td>\n",
       "    </tr>\n",
       "    <tr>\n",
       "      <th>2</th>\n",
       "      <td>2</td>\n",
       "      <td>не трудоустроен</td>\n",
       "    </tr>\n",
       "  </tbody>\n",
       "</table>\n",
       "</div>"
      ],
      "text/plain": [
       "   employment_id       employment\n",
       "0              0       работающий\n",
       "1              1        пенсионер\n",
       "2              2  не трудоустроен"
      ]
     },
     "execution_count": 61,
     "metadata": {},
     "output_type": "execute_result"
    }
   ],
   "source": [
    "employment_dict = pd.DataFrame({'employment_id': range(3), 'employment': ['работающий', 'пенсионер', 'не трудоустроен']})\n",
    "employment_dict"
   ]
  },
  {
   "cell_type": "code",
   "execution_count": 62,
   "metadata": {},
   "outputs": [],
   "source": [
    "def sort_employment(type_of_income): # функция, которая возвращает категорию занятости\n",
    "    if type_of_income == 'компаньон' or type_of_income == 'безработный' or type_of_income == 'студент':\n",
    "        return 'не трудоустроен'\n",
    "    elif type_of_income == 'пенсионер':\n",
    "        return type_of_income\n",
    "    else:\n",
    "        return 'работающий'"
   ]
  },
  {
   "cell_type": "code",
   "execution_count": 63,
   "metadata": {},
   "outputs": [],
   "source": [
    "data['employment'] = data['income_type'].apply(sort_employment)"
   ]
  },
  {
   "cell_type": "code",
   "execution_count": 64,
   "metadata": {},
   "outputs": [],
   "source": [
    "data = data.merge(employment_dict, on='employment', how='left')"
   ]
  },
  {
   "cell_type": "markdown",
   "metadata": {},
   "source": [
    "Соответствие типа занятости новым столбцам:"
   ]
  },
  {
   "cell_type": "code",
   "execution_count": 65,
   "metadata": {},
   "outputs": [
    {
     "data": {
      "text/html": [
       "<div>\n",
       "<style scoped>\n",
       "    .dataframe tbody tr th:only-of-type {\n",
       "        vertical-align: middle;\n",
       "    }\n",
       "\n",
       "    .dataframe tbody tr th {\n",
       "        vertical-align: top;\n",
       "    }\n",
       "\n",
       "    .dataframe thead th {\n",
       "        text-align: right;\n",
       "    }\n",
       "</style>\n",
       "<table border=\"1\" class=\"dataframe\">\n",
       "  <thead>\n",
       "    <tr style=\"text-align: right;\">\n",
       "      <th></th>\n",
       "      <th>income_type</th>\n",
       "      <th>employment_id</th>\n",
       "      <th>employment</th>\n",
       "    </tr>\n",
       "  </thead>\n",
       "  <tbody>\n",
       "    <tr>\n",
       "      <th>0</th>\n",
       "      <td>сотрудник</td>\n",
       "      <td>0</td>\n",
       "      <td>работающий</td>\n",
       "    </tr>\n",
       "    <tr>\n",
       "      <th>1</th>\n",
       "      <td>сотрудник</td>\n",
       "      <td>0</td>\n",
       "      <td>работающий</td>\n",
       "    </tr>\n",
       "    <tr>\n",
       "      <th>2</th>\n",
       "      <td>сотрудник</td>\n",
       "      <td>0</td>\n",
       "      <td>работающий</td>\n",
       "    </tr>\n",
       "    <tr>\n",
       "      <th>3</th>\n",
       "      <td>сотрудник</td>\n",
       "      <td>0</td>\n",
       "      <td>работающий</td>\n",
       "    </tr>\n",
       "    <tr>\n",
       "      <th>4</th>\n",
       "      <td>пенсионер</td>\n",
       "      <td>1</td>\n",
       "      <td>пенсионер</td>\n",
       "    </tr>\n",
       "    <tr>\n",
       "      <th>5</th>\n",
       "      <td>компаньон</td>\n",
       "      <td>2</td>\n",
       "      <td>не трудоустроен</td>\n",
       "    </tr>\n",
       "    <tr>\n",
       "      <th>6</th>\n",
       "      <td>компаньон</td>\n",
       "      <td>2</td>\n",
       "      <td>не трудоустроен</td>\n",
       "    </tr>\n",
       "    <tr>\n",
       "      <th>7</th>\n",
       "      <td>сотрудник</td>\n",
       "      <td>0</td>\n",
       "      <td>работающий</td>\n",
       "    </tr>\n",
       "    <tr>\n",
       "      <th>8</th>\n",
       "      <td>сотрудник</td>\n",
       "      <td>0</td>\n",
       "      <td>работающий</td>\n",
       "    </tr>\n",
       "    <tr>\n",
       "      <th>9</th>\n",
       "      <td>сотрудник</td>\n",
       "      <td>0</td>\n",
       "      <td>работающий</td>\n",
       "    </tr>\n",
       "  </tbody>\n",
       "</table>\n",
       "</div>"
      ],
      "text/plain": [
       "  income_type  employment_id       employment\n",
       "0   сотрудник              0       работающий\n",
       "1   сотрудник              0       работающий\n",
       "2   сотрудник              0       работающий\n",
       "3   сотрудник              0       работающий\n",
       "4   пенсионер              1        пенсионер\n",
       "5   компаньон              2  не трудоустроен\n",
       "6   компаньон              2  не трудоустроен\n",
       "7   сотрудник              0       работающий\n",
       "8   сотрудник              0       работающий\n",
       "9   сотрудник              0       работающий"
      ]
     },
     "execution_count": 65,
     "metadata": {},
     "output_type": "execute_result"
    }
   ],
   "source": [
    "data[['income_type', 'employment_id', 'employment']].head(10)"
   ]
  },
  {
   "cell_type": "markdown",
   "metadata": {},
   "source": [
    "25-й, 50-й и 75-й процентили для дней трудового стажа:"
   ]
  },
  {
   "cell_type": "code",
   "execution_count": 66,
   "metadata": {},
   "outputs": [
    {
     "name": "stdout",
     "output_type": "stream",
     "text": [
      "1023.0 | 2194.0 | 4797.0\n"
     ]
    }
   ],
   "source": [
    "middle_employ_median = data.loc[:, 'days_employed'].median()\n",
    "low_employ_25 = data.loc[:, 'days_employed'].quantile(q=0.25)\n",
    "high_employ_75 = data.loc[:, 'days_employed'].quantile(q=0.75)\n",
    "print(low_employ_25, '|', middle_employ_median, '|', high_employ_75)"
   ]
  },
  {
   "cell_type": "code",
   "execution_count": 67,
   "metadata": {},
   "outputs": [
    {
     "name": "stdout",
     "output_type": "stream",
     "text": [
      "2.802739726027397\n",
      "6.010958904109589\n",
      "13.142465753424657\n"
     ]
    }
   ],
   "source": [
    "#для удобства переведем дни стажа в года\n",
    "print(low_employ_25 / 365)\n",
    "print(middle_employ_median / 365)\n",
    "print(high_employ_75 / 365)"
   ]
  },
  {
   "cell_type": "markdown",
   "metadata": {},
   "source": [
    "В соответствии со значениями квартилей составим категоризацию заемщиков по годам трудового стажа:"
   ]
  },
  {
   "cell_type": "code",
   "execution_count": 68,
   "metadata": {},
   "outputs": [],
   "source": [
    "work_experience_dict = pd.DataFrame({'work_experience_id': range(4), \n",
    "                                     'work_experience': ['менее 2.8 лет', '2.8-6 лет', '>6-13.2 лет', 'более 13.2 лет']})"
   ]
  },
  {
   "cell_type": "code",
   "execution_count": 69,
   "metadata": {},
   "outputs": [
    {
     "data": {
      "text/html": [
       "<div>\n",
       "<style scoped>\n",
       "    .dataframe tbody tr th:only-of-type {\n",
       "        vertical-align: middle;\n",
       "    }\n",
       "\n",
       "    .dataframe tbody tr th {\n",
       "        vertical-align: top;\n",
       "    }\n",
       "\n",
       "    .dataframe thead th {\n",
       "        text-align: right;\n",
       "    }\n",
       "</style>\n",
       "<table border=\"1\" class=\"dataframe\">\n",
       "  <thead>\n",
       "    <tr style=\"text-align: right;\">\n",
       "      <th></th>\n",
       "      <th>work_experience_id</th>\n",
       "      <th>work_experience</th>\n",
       "    </tr>\n",
       "  </thead>\n",
       "  <tbody>\n",
       "    <tr>\n",
       "      <th>0</th>\n",
       "      <td>0</td>\n",
       "      <td>менее 2.8 лет</td>\n",
       "    </tr>\n",
       "    <tr>\n",
       "      <th>1</th>\n",
       "      <td>1</td>\n",
       "      <td>2.8-6 лет</td>\n",
       "    </tr>\n",
       "    <tr>\n",
       "      <th>2</th>\n",
       "      <td>2</td>\n",
       "      <td>&gt;6-13.2 лет</td>\n",
       "    </tr>\n",
       "    <tr>\n",
       "      <th>3</th>\n",
       "      <td>3</td>\n",
       "      <td>более 13.2 лет</td>\n",
       "    </tr>\n",
       "  </tbody>\n",
       "</table>\n",
       "</div>"
      ],
      "text/plain": [
       "   work_experience_id work_experience\n",
       "0                   0   менее 2.8 лет\n",
       "1                   1       2.8-6 лет\n",
       "2                   2     >6-13.2 лет\n",
       "3                   3  более 13.2 лет"
      ]
     },
     "execution_count": 69,
     "metadata": {},
     "output_type": "execute_result"
    }
   ],
   "source": [
    "work_experience_dict"
   ]
  },
  {
   "cell_type": "code",
   "execution_count": 70,
   "metadata": {},
   "outputs": [],
   "source": [
    "def sort_experience(days): # функция для присвоения категории трудового стажа\n",
    "    try:\n",
    "        if days < (2.8 * 365):\n",
    "            return 0\n",
    "        elif (2.8 * 365) <= days <= (6 * 365):\n",
    "            return 1\n",
    "        elif (6 * 365) < days <= (13.2 * 365):\n",
    "            return 2\n",
    "        else:\n",
    "            return 3\n",
    "    except:\n",
    "        print('значения нет')\n",
    "        \n",
    "data['work_experience_id'] = data['days_employed'].apply(sort_experience)"
   ]
  },
  {
   "cell_type": "code",
   "execution_count": 71,
   "metadata": {},
   "outputs": [
    {
     "data": {
      "text/html": [
       "<div>\n",
       "<style scoped>\n",
       "    .dataframe tbody tr th:only-of-type {\n",
       "        vertical-align: middle;\n",
       "    }\n",
       "\n",
       "    .dataframe tbody tr th {\n",
       "        vertical-align: top;\n",
       "    }\n",
       "\n",
       "    .dataframe thead th {\n",
       "        text-align: right;\n",
       "    }\n",
       "</style>\n",
       "<table border=\"1\" class=\"dataframe\">\n",
       "  <thead>\n",
       "    <tr style=\"text-align: right;\">\n",
       "      <th></th>\n",
       "      <th>work_experience_id</th>\n",
       "      <th>days_employed</th>\n",
       "    </tr>\n",
       "  </thead>\n",
       "  <tbody>\n",
       "    <tr>\n",
       "      <th>0</th>\n",
       "      <td>3</td>\n",
       "      <td>8437</td>\n",
       "    </tr>\n",
       "    <tr>\n",
       "      <th>1</th>\n",
       "      <td>2</td>\n",
       "      <td>4024</td>\n",
       "    </tr>\n",
       "    <tr>\n",
       "      <th>2</th>\n",
       "      <td>3</td>\n",
       "      <td>5623</td>\n",
       "    </tr>\n",
       "    <tr>\n",
       "      <th>3</th>\n",
       "      <td>2</td>\n",
       "      <td>4124</td>\n",
       "    </tr>\n",
       "    <tr>\n",
       "      <th>4</th>\n",
       "      <td>3</td>\n",
       "      <td>14177</td>\n",
       "    </tr>\n",
       "  </tbody>\n",
       "</table>\n",
       "</div>"
      ],
      "text/plain": [
       "   work_experience_id  days_employed\n",
       "0                   3           8437\n",
       "1                   2           4024\n",
       "2                   3           5623\n",
       "3                   2           4124\n",
       "4                   3          14177"
      ]
     },
     "execution_count": 71,
     "metadata": {},
     "output_type": "execute_result"
    }
   ],
   "source": [
    "data[['work_experience_id', 'days_employed']].head()"
   ]
  },
  {
   "cell_type": "markdown",
   "metadata": {},
   "source": [
    "Составим категории для дохода. Вычислим квартили и на их основе создадим словарь категоризации дохода заемщиков."
   ]
  },
  {
   "cell_type": "code",
   "execution_count": 72,
   "metadata": {},
   "outputs": [
    {
     "name": "stdout",
     "output_type": "stream",
     "text": [
      "\tКвартили для дохода:\n",
      " 107623.0 | 142594.0 | 195820.25\n"
     ]
    }
   ],
   "source": [
    "middle_income_median = data['total_income'].median()\n",
    "low_income_25 = data.loc[:, 'total_income'].quantile(q=0.25)\n",
    "high_income_75 = data.loc[:, 'total_income'].quantile(q=0.75)\n",
    "print('\\tКвартили для дохода:\\n', low_income_25, '|', middle_income_median, '|', high_income_75)"
   ]
  },
  {
   "cell_type": "code",
   "execution_count": 73,
   "metadata": {},
   "outputs": [],
   "source": [
    "income_dict = pd.DataFrame({'income_id': range(4), \n",
    "                            'income': ['lowest', 'lower middle', 'higher middle', 'highest']})"
   ]
  },
  {
   "cell_type": "code",
   "execution_count": 74,
   "metadata": {},
   "outputs": [
    {
     "data": {
      "text/html": [
       "<div>\n",
       "<style scoped>\n",
       "    .dataframe tbody tr th:only-of-type {\n",
       "        vertical-align: middle;\n",
       "    }\n",
       "\n",
       "    .dataframe tbody tr th {\n",
       "        vertical-align: top;\n",
       "    }\n",
       "\n",
       "    .dataframe thead th {\n",
       "        text-align: right;\n",
       "    }\n",
       "</style>\n",
       "<table border=\"1\" class=\"dataframe\">\n",
       "  <thead>\n",
       "    <tr style=\"text-align: right;\">\n",
       "      <th></th>\n",
       "      <th>income_id</th>\n",
       "      <th>income</th>\n",
       "    </tr>\n",
       "  </thead>\n",
       "  <tbody>\n",
       "    <tr>\n",
       "      <th>0</th>\n",
       "      <td>0</td>\n",
       "      <td>lowest</td>\n",
       "    </tr>\n",
       "    <tr>\n",
       "      <th>1</th>\n",
       "      <td>1</td>\n",
       "      <td>lower middle</td>\n",
       "    </tr>\n",
       "    <tr>\n",
       "      <th>2</th>\n",
       "      <td>2</td>\n",
       "      <td>higher middle</td>\n",
       "    </tr>\n",
       "    <tr>\n",
       "      <th>3</th>\n",
       "      <td>3</td>\n",
       "      <td>highest</td>\n",
       "    </tr>\n",
       "  </tbody>\n",
       "</table>\n",
       "</div>"
      ],
      "text/plain": [
       "   income_id         income\n",
       "0          0         lowest\n",
       "1          1   lower middle\n",
       "2          2  higher middle\n",
       "3          3        highest"
      ]
     },
     "execution_count": 74,
     "metadata": {},
     "output_type": "execute_result"
    }
   ],
   "source": [
    "income_dict"
   ]
  },
  {
   "cell_type": "code",
   "execution_count": 75,
   "metadata": {},
   "outputs": [],
   "source": [
    "def sort_income(income): # функция для категоризации по уровню ежемесячного дохода\n",
    "    try:\n",
    "        if income < low_income_25:\n",
    "            return 'lowest'\n",
    "        elif low_income_25 <= income <= middle_income_median:\n",
    "            return 'lower middle'\n",
    "        elif middle_income_median < income < high_income_75:\n",
    "            return 'higher middle'\n",
    "        else:\n",
    "            return 'highest'\n",
    "    except:\n",
    "        print('значения нет')\n",
    "        \n",
    "data['income'] = data['total_income'].apply(sort_income)\n",
    "data = data.merge(income_dict, on='income', how='left')"
   ]
  },
  {
   "cell_type": "code",
   "execution_count": 76,
   "metadata": {},
   "outputs": [
    {
     "data": {
      "text/html": [
       "<div>\n",
       "<style scoped>\n",
       "    .dataframe tbody tr th:only-of-type {\n",
       "        vertical-align: middle;\n",
       "    }\n",
       "\n",
       "    .dataframe tbody tr th {\n",
       "        vertical-align: top;\n",
       "    }\n",
       "\n",
       "    .dataframe thead th {\n",
       "        text-align: right;\n",
       "    }\n",
       "</style>\n",
       "<table border=\"1\" class=\"dataframe\">\n",
       "  <thead>\n",
       "    <tr style=\"text-align: right;\">\n",
       "      <th></th>\n",
       "      <th>total_income</th>\n",
       "      <th>income_id</th>\n",
       "      <th>income</th>\n",
       "    </tr>\n",
       "  </thead>\n",
       "  <tbody>\n",
       "    <tr>\n",
       "      <th>0</th>\n",
       "      <td>253875</td>\n",
       "      <td>3</td>\n",
       "      <td>highest</td>\n",
       "    </tr>\n",
       "    <tr>\n",
       "      <th>1</th>\n",
       "      <td>112080</td>\n",
       "      <td>1</td>\n",
       "      <td>lower middle</td>\n",
       "    </tr>\n",
       "    <tr>\n",
       "      <th>2</th>\n",
       "      <td>145885</td>\n",
       "      <td>2</td>\n",
       "      <td>higher middle</td>\n",
       "    </tr>\n",
       "    <tr>\n",
       "      <th>3</th>\n",
       "      <td>267628</td>\n",
       "      <td>3</td>\n",
       "      <td>highest</td>\n",
       "    </tr>\n",
       "    <tr>\n",
       "      <th>4</th>\n",
       "      <td>158616</td>\n",
       "      <td>2</td>\n",
       "      <td>higher middle</td>\n",
       "    </tr>\n",
       "  </tbody>\n",
       "</table>\n",
       "</div>"
      ],
      "text/plain": [
       "   total_income  income_id         income\n",
       "0        253875          3        highest\n",
       "1        112080          1   lower middle\n",
       "2        145885          2  higher middle\n",
       "3        267628          3        highest\n",
       "4        158616          2  higher middle"
      ]
     },
     "execution_count": 76,
     "metadata": {},
     "output_type": "execute_result"
    }
   ],
   "source": [
    "data[['total_income', 'income_id', 'income']].head()"
   ]
  },
  {
   "cell_type": "markdown",
   "metadata": {},
   "source": [
    "Для категоризации возраста используем классификацию возрастов ВОЗ"
   ]
  },
  {
   "cell_type": "code",
   "execution_count": 77,
   "metadata": {},
   "outputs": [],
   "source": [
    "age_dict = pd.DataFrame({'age_id': range(4),\n",
    "                         'age': ['юный', 'молодой', 'зрелый', 'пенсионный']})"
   ]
  },
  {
   "cell_type": "code",
   "execution_count": 78,
   "metadata": {},
   "outputs": [
    {
     "data": {
      "text/html": [
       "<div>\n",
       "<style scoped>\n",
       "    .dataframe tbody tr th:only-of-type {\n",
       "        vertical-align: middle;\n",
       "    }\n",
       "\n",
       "    .dataframe tbody tr th {\n",
       "        vertical-align: top;\n",
       "    }\n",
       "\n",
       "    .dataframe thead th {\n",
       "        text-align: right;\n",
       "    }\n",
       "</style>\n",
       "<table border=\"1\" class=\"dataframe\">\n",
       "  <thead>\n",
       "    <tr style=\"text-align: right;\">\n",
       "      <th></th>\n",
       "      <th>age_id</th>\n",
       "      <th>age</th>\n",
       "    </tr>\n",
       "  </thead>\n",
       "  <tbody>\n",
       "    <tr>\n",
       "      <th>0</th>\n",
       "      <td>0</td>\n",
       "      <td>юный</td>\n",
       "    </tr>\n",
       "    <tr>\n",
       "      <th>1</th>\n",
       "      <td>1</td>\n",
       "      <td>молодой</td>\n",
       "    </tr>\n",
       "    <tr>\n",
       "      <th>2</th>\n",
       "      <td>2</td>\n",
       "      <td>зрелый</td>\n",
       "    </tr>\n",
       "    <tr>\n",
       "      <th>3</th>\n",
       "      <td>3</td>\n",
       "      <td>пенсионный</td>\n",
       "    </tr>\n",
       "  </tbody>\n",
       "</table>\n",
       "</div>"
      ],
      "text/plain": [
       "   age_id         age\n",
       "0       0        юный\n",
       "1       1     молодой\n",
       "2       2      зрелый\n",
       "3       3  пенсионный"
      ]
     },
     "execution_count": 78,
     "metadata": {},
     "output_type": "execute_result"
    }
   ],
   "source": [
    "age_dict"
   ]
  },
  {
   "cell_type": "code",
   "execution_count": 79,
   "metadata": {},
   "outputs": [],
   "source": [
    "def sort_age(age): # функция для категоризации заемщиков по возрасту\n",
    "    try:\n",
    "        if age < 30:\n",
    "            return 0\n",
    "        elif age < 45:\n",
    "            return 1\n",
    "        elif age < 60:\n",
    "            return 2\n",
    "        else:\n",
    "            return 3\n",
    "    except:\n",
    "        print('значения нет')\n",
    "        \n",
    "data['age_id'] = data['dob_years'].apply(sort_age)"
   ]
  },
  {
   "cell_type": "code",
   "execution_count": 80,
   "metadata": {},
   "outputs": [
    {
     "data": {
      "text/html": [
       "<div>\n",
       "<style scoped>\n",
       "    .dataframe tbody tr th:only-of-type {\n",
       "        vertical-align: middle;\n",
       "    }\n",
       "\n",
       "    .dataframe tbody tr th {\n",
       "        vertical-align: top;\n",
       "    }\n",
       "\n",
       "    .dataframe thead th {\n",
       "        text-align: right;\n",
       "    }\n",
       "</style>\n",
       "<table border=\"1\" class=\"dataframe\">\n",
       "  <thead>\n",
       "    <tr style=\"text-align: right;\">\n",
       "      <th></th>\n",
       "      <th>age_id</th>\n",
       "      <th>dob_years</th>\n",
       "      <th>age</th>\n",
       "    </tr>\n",
       "  </thead>\n",
       "  <tbody>\n",
       "    <tr>\n",
       "      <th>21444</th>\n",
       "      <td>0</td>\n",
       "      <td>28</td>\n",
       "      <td>юный</td>\n",
       "    </tr>\n",
       "    <tr>\n",
       "      <th>21445</th>\n",
       "      <td>1</td>\n",
       "      <td>42</td>\n",
       "      <td>молодой</td>\n",
       "    </tr>\n",
       "    <tr>\n",
       "      <th>21446</th>\n",
       "      <td>1</td>\n",
       "      <td>42</td>\n",
       "      <td>молодой</td>\n",
       "    </tr>\n",
       "    <tr>\n",
       "      <th>21447</th>\n",
       "      <td>2</td>\n",
       "      <td>59</td>\n",
       "      <td>зрелый</td>\n",
       "    </tr>\n",
       "    <tr>\n",
       "      <th>21448</th>\n",
       "      <td>1</td>\n",
       "      <td>37</td>\n",
       "      <td>молодой</td>\n",
       "    </tr>\n",
       "    <tr>\n",
       "      <th>21449</th>\n",
       "      <td>1</td>\n",
       "      <td>43</td>\n",
       "      <td>молодой</td>\n",
       "    </tr>\n",
       "    <tr>\n",
       "      <th>21450</th>\n",
       "      <td>3</td>\n",
       "      <td>67</td>\n",
       "      <td>пенсионный</td>\n",
       "    </tr>\n",
       "    <tr>\n",
       "      <th>21451</th>\n",
       "      <td>1</td>\n",
       "      <td>38</td>\n",
       "      <td>молодой</td>\n",
       "    </tr>\n",
       "    <tr>\n",
       "      <th>21452</th>\n",
       "      <td>1</td>\n",
       "      <td>38</td>\n",
       "      <td>молодой</td>\n",
       "    </tr>\n",
       "    <tr>\n",
       "      <th>21453</th>\n",
       "      <td>1</td>\n",
       "      <td>40</td>\n",
       "      <td>молодой</td>\n",
       "    </tr>\n",
       "  </tbody>\n",
       "</table>\n",
       "</div>"
      ],
      "text/plain": [
       "       age_id  dob_years         age\n",
       "21444       0         28        юный\n",
       "21445       1         42     молодой\n",
       "21446       1         42     молодой\n",
       "21447       2         59      зрелый\n",
       "21448       1         37     молодой\n",
       "21449       1         43     молодой\n",
       "21450       3         67  пенсионный\n",
       "21451       1         38     молодой\n",
       "21452       1         38     молодой\n",
       "21453       1         40     молодой"
      ]
     },
     "execution_count": 80,
     "metadata": {},
     "output_type": "execute_result"
    }
   ],
   "source": [
    "data[['age_id', 'dob_years']].merge(age_dict, how='left').tail(10) #проверка соответствия"
   ]
  },
  {
   "cell_type": "markdown",
   "metadata": {},
   "source": [
    "Так выглядит датафрейм из категорий без строковых значений, расшифровка для всех значений записана в соответствующих словарях:"
   ]
  },
  {
   "cell_type": "code",
   "execution_count": 81,
   "metadata": {},
   "outputs": [
    {
     "data": {
      "text/html": [
       "<div>\n",
       "<style scoped>\n",
       "    .dataframe tbody tr th:only-of-type {\n",
       "        vertical-align: middle;\n",
       "    }\n",
       "\n",
       "    .dataframe tbody tr th {\n",
       "        vertical-align: top;\n",
       "    }\n",
       "\n",
       "    .dataframe thead th {\n",
       "        text-align: right;\n",
       "    }\n",
       "</style>\n",
       "<table border=\"1\" class=\"dataframe\">\n",
       "  <thead>\n",
       "    <tr style=\"text-align: right;\">\n",
       "      <th></th>\n",
       "      <th>children</th>\n",
       "      <th>family_status_id</th>\n",
       "      <th>employment_id</th>\n",
       "      <th>work_experience_id</th>\n",
       "      <th>income_id</th>\n",
       "      <th>age_id</th>\n",
       "      <th>gender_id</th>\n",
       "      <th>education_id</th>\n",
       "      <th>purpose_id</th>\n",
       "      <th>debt</th>\n",
       "    </tr>\n",
       "  </thead>\n",
       "  <tbody>\n",
       "    <tr>\n",
       "      <th>0</th>\n",
       "      <td>1</td>\n",
       "      <td>0</td>\n",
       "      <td>0</td>\n",
       "      <td>3</td>\n",
       "      <td>3</td>\n",
       "      <td>1</td>\n",
       "      <td>0</td>\n",
       "      <td>0</td>\n",
       "      <td>0</td>\n",
       "      <td>0</td>\n",
       "    </tr>\n",
       "    <tr>\n",
       "      <th>1</th>\n",
       "      <td>1</td>\n",
       "      <td>0</td>\n",
       "      <td>0</td>\n",
       "      <td>2</td>\n",
       "      <td>1</td>\n",
       "      <td>1</td>\n",
       "      <td>0</td>\n",
       "      <td>1</td>\n",
       "      <td>1</td>\n",
       "      <td>0</td>\n",
       "    </tr>\n",
       "    <tr>\n",
       "      <th>2</th>\n",
       "      <td>0</td>\n",
       "      <td>0</td>\n",
       "      <td>0</td>\n",
       "      <td>3</td>\n",
       "      <td>2</td>\n",
       "      <td>1</td>\n",
       "      <td>1</td>\n",
       "      <td>1</td>\n",
       "      <td>0</td>\n",
       "      <td>0</td>\n",
       "    </tr>\n",
       "    <tr>\n",
       "      <th>3</th>\n",
       "      <td>3</td>\n",
       "      <td>0</td>\n",
       "      <td>0</td>\n",
       "      <td>2</td>\n",
       "      <td>3</td>\n",
       "      <td>1</td>\n",
       "      <td>1</td>\n",
       "      <td>1</td>\n",
       "      <td>2</td>\n",
       "      <td>0</td>\n",
       "    </tr>\n",
       "    <tr>\n",
       "      <th>4</th>\n",
       "      <td>0</td>\n",
       "      <td>1</td>\n",
       "      <td>1</td>\n",
       "      <td>3</td>\n",
       "      <td>2</td>\n",
       "      <td>2</td>\n",
       "      <td>0</td>\n",
       "      <td>1</td>\n",
       "      <td>3</td>\n",
       "      <td>0</td>\n",
       "    </tr>\n",
       "  </tbody>\n",
       "</table>\n",
       "</div>"
      ],
      "text/plain": [
       "   children  family_status_id  employment_id  work_experience_id  income_id  \\\n",
       "0         1                 0              0                   3          3   \n",
       "1         1                 0              0                   2          1   \n",
       "2         0                 0              0                   3          2   \n",
       "3         3                 0              0                   2          3   \n",
       "4         0                 1              1                   3          2   \n",
       "\n",
       "   age_id  gender_id  education_id  purpose_id  debt  \n",
       "0       1          0             0           0     0  \n",
       "1       1          0             1           1     0  \n",
       "2       1          1             1           0     0  \n",
       "3       1          1             1           2     0  \n",
       "4       2          0             1           3     0  "
      ]
     },
     "execution_count": 81,
     "metadata": {},
     "output_type": "execute_result"
    }
   ],
   "source": [
    "data[['children', \n",
    "      'family_status_id', \n",
    "      'employment_id', \n",
    "      'work_experience_id', \n",
    "      'income_id', \n",
    "      'age_id',\n",
    "      'gender_id', \n",
    "      'education_id', \n",
    "      'purpose_id',\n",
    "      'debt']].head(5) "
   ]
  },
  {
   "cell_type": "markdown",
   "metadata": {},
   "source": [
    "### Вывод"
   ]
  },
  {
   "cell_type": "markdown",
   "metadata": {},
   "source": [
    "Строковые значения усложняют работу с данными, в связи с чем для каждого столбца со строковыми значениями создан столбец с соответствующими id. Для каждой категории создан словарь.\n",
    "\n",
    "Доходы и стаж категоризированы на основании разделения их на 4 равные части (стаж для удобства переведен в года), а возраст категоризирован на основании классификации возрастов ВОЗ.\n",
    "\n",
    "Кроме того, были категоризированы типы занятости: распределены между 3 большими категориями (работающий, пенсионер и не трудоустроен)."
   ]
  },
  {
   "cell_type": "markdown",
   "metadata": {},
   "source": [
    "## Связь присущих заемщикам признаков и возврата кредита в срок"
   ]
  },
  {
   "cell_type": "markdown",
   "metadata": {},
   "source": [
    "### Есть ли зависимость между наличием детей и возвратом кредита в срок?"
   ]
  },
  {
   "cell_type": "code",
   "execution_count": 82,
   "metadata": {},
   "outputs": [],
   "source": [
    "children_debt = data.groupby('children')['debt'].agg({'sum', 'count'})\n",
    "children_debt = children_debt.rename(columns={'count': 'total_borrowers', 'sum': 'non_payment'})\n",
    "children_debt['debt_ratio'] = children_debt['non_payment'] / children_debt['total_borrowers']"
   ]
  },
  {
   "cell_type": "code",
   "execution_count": 83,
   "metadata": {},
   "outputs": [
    {
     "data": {
      "text/html": [
       "<style type=\"text/css\">\n",
       "</style>\n",
       "<table id=\"T_879bf\">\n",
       "  <thead>\n",
       "    <tr>\n",
       "      <th class=\"blank level0\" >&nbsp;</th>\n",
       "      <th id=\"T_879bf_level0_col0\" class=\"col_heading level0 col0\" >non_payment</th>\n",
       "      <th id=\"T_879bf_level0_col1\" class=\"col_heading level0 col1\" >total_borrowers</th>\n",
       "      <th id=\"T_879bf_level0_col2\" class=\"col_heading level0 col2\" >debt_ratio</th>\n",
       "    </tr>\n",
       "    <tr>\n",
       "      <th class=\"index_name level0\" >children</th>\n",
       "      <th class=\"blank col0\" >&nbsp;</th>\n",
       "      <th class=\"blank col1\" >&nbsp;</th>\n",
       "      <th class=\"blank col2\" >&nbsp;</th>\n",
       "    </tr>\n",
       "  </thead>\n",
       "  <tbody>\n",
       "    <tr>\n",
       "      <th id=\"T_879bf_level0_row0\" class=\"row_heading level0 row0\" >4</th>\n",
       "      <td id=\"T_879bf_row0_col0\" class=\"data row0 col0\" >4</td>\n",
       "      <td id=\"T_879bf_row0_col1\" class=\"data row0 col1\" >41</td>\n",
       "      <td id=\"T_879bf_row0_col2\" class=\"data row0 col2\" >9.76%</td>\n",
       "    </tr>\n",
       "    <tr>\n",
       "      <th id=\"T_879bf_level0_row1\" class=\"row_heading level0 row1\" >2</th>\n",
       "      <td id=\"T_879bf_row1_col0\" class=\"data row1 col0\" >202</td>\n",
       "      <td id=\"T_879bf_row1_col1\" class=\"data row1 col1\" >2128</td>\n",
       "      <td id=\"T_879bf_row1_col2\" class=\"data row1 col2\" >9.49%</td>\n",
       "    </tr>\n",
       "    <tr>\n",
       "      <th id=\"T_879bf_level0_row2\" class=\"row_heading level0 row2\" >1</th>\n",
       "      <td id=\"T_879bf_row2_col0\" class=\"data row2 col0\" >445</td>\n",
       "      <td id=\"T_879bf_row2_col1\" class=\"data row2 col1\" >4855</td>\n",
       "      <td id=\"T_879bf_row2_col2\" class=\"data row2 col2\" >9.17%</td>\n",
       "    </tr>\n",
       "    <tr>\n",
       "      <th id=\"T_879bf_level0_row3\" class=\"row_heading level0 row3\" >3</th>\n",
       "      <td id=\"T_879bf_row3_col0\" class=\"data row3 col0\" >27</td>\n",
       "      <td id=\"T_879bf_row3_col1\" class=\"data row3 col1\" >330</td>\n",
       "      <td id=\"T_879bf_row3_col2\" class=\"data row3 col2\" >8.18%</td>\n",
       "    </tr>\n",
       "    <tr>\n",
       "      <th id=\"T_879bf_level0_row4\" class=\"row_heading level0 row4\" >0</th>\n",
       "      <td id=\"T_879bf_row4_col0\" class=\"data row4 col0\" >1063</td>\n",
       "      <td id=\"T_879bf_row4_col1\" class=\"data row4 col1\" >14091</td>\n",
       "      <td id=\"T_879bf_row4_col2\" class=\"data row4 col2\" >7.54%</td>\n",
       "    </tr>\n",
       "    <tr>\n",
       "      <th id=\"T_879bf_level0_row5\" class=\"row_heading level0 row5\" >5</th>\n",
       "      <td id=\"T_879bf_row5_col0\" class=\"data row5 col0\" >0</td>\n",
       "      <td id=\"T_879bf_row5_col1\" class=\"data row5 col1\" >9</td>\n",
       "      <td id=\"T_879bf_row5_col2\" class=\"data row5 col2\" >0.00%</td>\n",
       "    </tr>\n",
       "  </tbody>\n",
       "</table>\n"
      ],
      "text/plain": [
       "<pandas.io.formats.style.Styler at 0x123d520>"
      ]
     },
     "execution_count": 83,
     "metadata": {},
     "output_type": "execute_result"
    }
   ],
   "source": [
    "children_debt.sort_values('debt_ratio', ascending=False).style.format({'debt_ratio': '{:.2%}'})"
   ]
  },
  {
   "cell_type": "markdown",
   "metadata": {},
   "source": [
    "#### Вывод"
   ]
  },
  {
   "cell_type": "markdown",
   "metadata": {},
   "source": [
    "Взаимосвязь между наличием детей и возвратом кредита в срок есть. \n",
    "\n",
    "Бездетные клиенты возвращают кредит в срок чаще на 1.5 процентных пункта, чем клиенты, у которых есть хотя бы один ребенок. Хотя клиенты с 5 детьми ни разу не просрочили возврат кредита, на основании этого делать выводы не стоит - таких клиентов всего 9."
   ]
  },
  {
   "cell_type": "markdown",
   "metadata": {},
   "source": [
    "### Есть ли зависимость между семейным положением и возвратом кредита в срок?"
   ]
  },
  {
   "cell_type": "code",
   "execution_count": 84,
   "metadata": {},
   "outputs": [],
   "source": [
    "family_status_debt = data.groupby('family_status_id')['debt'].agg({'sum', 'count'})\n",
    "family_status_debt = family_status_debt.rename(columns={'count': 'total_borrowers', 'sum': 'non_payment'})\n",
    "family_status_debt['debt_ratio'] = family_status_debt['non_payment'] / family_status_debt['total_borrowers']"
   ]
  },
  {
   "cell_type": "code",
   "execution_count": 85,
   "metadata": {},
   "outputs": [
    {
     "data": {
      "text/html": [
       "<style type=\"text/css\">\n",
       "</style>\n",
       "<table id=\"T_e4189\">\n",
       "  <thead>\n",
       "    <tr>\n",
       "      <th class=\"blank level0\" >&nbsp;</th>\n",
       "      <th id=\"T_e4189_level0_col0\" class=\"col_heading level0 col0\" >family_status_id</th>\n",
       "      <th id=\"T_e4189_level0_col1\" class=\"col_heading level0 col1\" >non_payment</th>\n",
       "      <th id=\"T_e4189_level0_col2\" class=\"col_heading level0 col2\" >total_borrowers</th>\n",
       "      <th id=\"T_e4189_level0_col3\" class=\"col_heading level0 col3\" >debt_ratio</th>\n",
       "      <th id=\"T_e4189_level0_col4\" class=\"col_heading level0 col4\" >family_status</th>\n",
       "    </tr>\n",
       "  </thead>\n",
       "  <tbody>\n",
       "    <tr>\n",
       "      <th id=\"T_e4189_level0_row0\" class=\"row_heading level0 row0\" >0</th>\n",
       "      <td id=\"T_e4189_row0_col0\" class=\"data row0 col0\" >4</td>\n",
       "      <td id=\"T_e4189_row0_col1\" class=\"data row0 col1\" >274</td>\n",
       "      <td id=\"T_e4189_row0_col2\" class=\"data row0 col2\" >2810</td>\n",
       "      <td id=\"T_e4189_row0_col3\" class=\"data row0 col3\" >9.75%</td>\n",
       "      <td id=\"T_e4189_row0_col4\" class=\"data row0 col4\" >не женат / не замужем</td>\n",
       "    </tr>\n",
       "    <tr>\n",
       "      <th id=\"T_e4189_level0_row1\" class=\"row_heading level0 row1\" >1</th>\n",
       "      <td id=\"T_e4189_row1_col0\" class=\"data row1 col0\" >1</td>\n",
       "      <td id=\"T_e4189_row1_col1\" class=\"data row1 col1\" >388</td>\n",
       "      <td id=\"T_e4189_row1_col2\" class=\"data row1 col2\" >4151</td>\n",
       "      <td id=\"T_e4189_row1_col3\" class=\"data row1 col3\" >9.35%</td>\n",
       "      <td id=\"T_e4189_row1_col4\" class=\"data row1 col4\" >гражданский брак</td>\n",
       "    </tr>\n",
       "    <tr>\n",
       "      <th id=\"T_e4189_level0_row2\" class=\"row_heading level0 row2\" >2</th>\n",
       "      <td id=\"T_e4189_row2_col0\" class=\"data row2 col0\" >0</td>\n",
       "      <td id=\"T_e4189_row2_col1\" class=\"data row2 col1\" >931</td>\n",
       "      <td id=\"T_e4189_row2_col2\" class=\"data row2 col2\" >12339</td>\n",
       "      <td id=\"T_e4189_row2_col3\" class=\"data row2 col3\" >7.55%</td>\n",
       "      <td id=\"T_e4189_row2_col4\" class=\"data row2 col4\" >женат / замужем</td>\n",
       "    </tr>\n",
       "    <tr>\n",
       "      <th id=\"T_e4189_level0_row3\" class=\"row_heading level0 row3\" >3</th>\n",
       "      <td id=\"T_e4189_row3_col0\" class=\"data row3 col0\" >3</td>\n",
       "      <td id=\"T_e4189_row3_col1\" class=\"data row3 col1\" >85</td>\n",
       "      <td id=\"T_e4189_row3_col2\" class=\"data row3 col2\" >1195</td>\n",
       "      <td id=\"T_e4189_row3_col3\" class=\"data row3 col3\" >7.11%</td>\n",
       "      <td id=\"T_e4189_row3_col4\" class=\"data row3 col4\" >в разводе</td>\n",
       "    </tr>\n",
       "    <tr>\n",
       "      <th id=\"T_e4189_level0_row4\" class=\"row_heading level0 row4\" >4</th>\n",
       "      <td id=\"T_e4189_row4_col0\" class=\"data row4 col0\" >2</td>\n",
       "      <td id=\"T_e4189_row4_col1\" class=\"data row4 col1\" >63</td>\n",
       "      <td id=\"T_e4189_row4_col2\" class=\"data row4 col2\" >959</td>\n",
       "      <td id=\"T_e4189_row4_col3\" class=\"data row4 col3\" >6.57%</td>\n",
       "      <td id=\"T_e4189_row4_col4\" class=\"data row4 col4\" >вдовец / вдова</td>\n",
       "    </tr>\n",
       "  </tbody>\n",
       "</table>\n"
      ],
      "text/plain": [
       "<pandas.io.formats.style.Styler at 0x123d6b8>"
      ]
     },
     "execution_count": 85,
     "metadata": {},
     "output_type": "execute_result"
    }
   ],
   "source": [
    "family_status_debt.sort_values('debt_ratio', ascending=False).merge(family_status_dict, on='family_status_id')\\\n",
    "                  .style.format({'debt_ratio': '{:.2%}'})"
   ]
  },
  {
   "cell_type": "markdown",
   "metadata": {},
   "source": [
    "#### Вывод"
   ]
  },
  {
   "cell_type": "markdown",
   "metadata": {},
   "source": [
    "Самый низкий индекс невозврата кредита имеют клиенты категории \"вдовец / вдова\", самый высокий индекс у категории \"гражданский брак\" и \"не женат / не замужем\". Просрочка по кредиту у них бывает чаще чем у клиентов когда-либо бывших или состоящих в официальном браке почти на 2 процентных пункта.\n",
    "\n",
    "Таким образом, взаимосвязь между семейным положением и возвратом кредита в срок есть: реже всего кредит возвращают в срок клиенты, которые никогда не состояли в официально зарегистрированном браке."
   ]
  },
  {
   "cell_type": "markdown",
   "metadata": {},
   "source": [
    "### Есть ли зависимость между уровнем дохода и возвратом кредита в срок?"
   ]
  },
  {
   "cell_type": "code",
   "execution_count": 86,
   "metadata": {},
   "outputs": [],
   "source": [
    "income_debt = data.groupby('income_id')['debt'].agg({'sum', 'count'})\n",
    "income_debt = income_debt.rename(columns={'count': 'total_borrowers', 'sum': 'non_payment'})\n",
    "income_debt['debt_ratio'] = income_debt['non_payment'] / income_debt['total_borrowers']"
   ]
  },
  {
   "cell_type": "code",
   "execution_count": 87,
   "metadata": {},
   "outputs": [
    {
     "data": {
      "text/html": [
       "<style type=\"text/css\">\n",
       "</style>\n",
       "<table id=\"T_839f7\">\n",
       "  <thead>\n",
       "    <tr>\n",
       "      <th class=\"blank level0\" >&nbsp;</th>\n",
       "      <th id=\"T_839f7_level0_col0\" class=\"col_heading level0 col0\" >income_id</th>\n",
       "      <th id=\"T_839f7_level0_col1\" class=\"col_heading level0 col1\" >non_payment</th>\n",
       "      <th id=\"T_839f7_level0_col2\" class=\"col_heading level0 col2\" >total_borrowers</th>\n",
       "      <th id=\"T_839f7_level0_col3\" class=\"col_heading level0 col3\" >debt_ratio</th>\n",
       "      <th id=\"T_839f7_level0_col4\" class=\"col_heading level0 col4\" >income</th>\n",
       "    </tr>\n",
       "  </thead>\n",
       "  <tbody>\n",
       "    <tr>\n",
       "      <th id=\"T_839f7_level0_row0\" class=\"row_heading level0 row0\" >0</th>\n",
       "      <td id=\"T_839f7_row0_col0\" class=\"data row0 col0\" >1</td>\n",
       "      <td id=\"T_839f7_row0_col1\" class=\"data row0 col1\" >483</td>\n",
       "      <td id=\"T_839f7_row0_col2\" class=\"data row0 col2\" >5479</td>\n",
       "      <td id=\"T_839f7_row0_col3\" class=\"data row0 col3\" >8.82%</td>\n",
       "      <td id=\"T_839f7_row0_col4\" class=\"data row0 col4\" >lower middle</td>\n",
       "    </tr>\n",
       "    <tr>\n",
       "      <th id=\"T_839f7_level0_row1\" class=\"row_heading level0 row1\" >1</th>\n",
       "      <td id=\"T_839f7_row1_col0\" class=\"data row1 col0\" >2</td>\n",
       "      <td id=\"T_839f7_row1_col1\" class=\"data row1 col1\" >448</td>\n",
       "      <td id=\"T_839f7_row1_col2\" class=\"data row1 col2\" >5247</td>\n",
       "      <td id=\"T_839f7_row1_col3\" class=\"data row1 col3\" >8.54%</td>\n",
       "      <td id=\"T_839f7_row1_col4\" class=\"data row1 col4\" >higher middle</td>\n",
       "    </tr>\n",
       "    <tr>\n",
       "      <th id=\"T_839f7_level0_row2\" class=\"row_heading level0 row2\" >2</th>\n",
       "      <td id=\"T_839f7_row2_col0\" class=\"data row2 col0\" >0</td>\n",
       "      <td id=\"T_839f7_row2_col1\" class=\"data row2 col1\" >427</td>\n",
       "      <td id=\"T_839f7_row2_col2\" class=\"data row2 col2\" >5364</td>\n",
       "      <td id=\"T_839f7_row2_col3\" class=\"data row2 col3\" >7.96%</td>\n",
       "      <td id=\"T_839f7_row2_col4\" class=\"data row2 col4\" >lowest</td>\n",
       "    </tr>\n",
       "    <tr>\n",
       "      <th id=\"T_839f7_level0_row3\" class=\"row_heading level0 row3\" >3</th>\n",
       "      <td id=\"T_839f7_row3_col0\" class=\"data row3 col0\" >3</td>\n",
       "      <td id=\"T_839f7_row3_col1\" class=\"data row3 col1\" >383</td>\n",
       "      <td id=\"T_839f7_row3_col2\" class=\"data row3 col2\" >5364</td>\n",
       "      <td id=\"T_839f7_row3_col3\" class=\"data row3 col3\" >7.14%</td>\n",
       "      <td id=\"T_839f7_row3_col4\" class=\"data row3 col4\" >highest</td>\n",
       "    </tr>\n",
       "  </tbody>\n",
       "</table>\n"
      ],
      "text/plain": [
       "<pandas.io.formats.style.Styler at 0x11eaba18>"
      ]
     },
     "execution_count": 87,
     "metadata": {},
     "output_type": "execute_result"
    }
   ],
   "source": [
    "income_debt.sort_values('debt_ratio', ascending=False).merge(income_dict, on='income_id')\\\n",
    "           .style.format({'debt_ratio': '{:.2%}'})"
   ]
  },
  {
   "cell_type": "markdown",
   "metadata": {},
   "source": [
    "#### Вывод"
   ]
  },
  {
   "cell_type": "markdown",
   "metadata": {},
   "source": [
    "Зависимость между уровнем дохода и возвратом кредита в срок есть: как ни странно, в срок возвращают кредит чаще всего и клиенты с самыми высокими доходами, и клиенты с самыми низкими доходами. Возможно, дело в том, что клиенты с самыми низкими доходами берут кредит на небольшие суммы, которые легче вернуть.\n",
    "\n",
    "Клиенты из категорий среднего дохода возвращают кредит в срок реже на 0.7-1 процентных пункта.\n",
    "\n",
    "Таким образом, зависимость между уровнем дохода и возвратом кредита в срок есть: клиенты со средним доходом возвращают кредит в срок реже."
   ]
  },
  {
   "cell_type": "markdown",
   "metadata": {},
   "source": [
    "### Как разные цели кредита влияют на его возврат в срок?"
   ]
  },
  {
   "cell_type": "code",
   "execution_count": 88,
   "metadata": {},
   "outputs": [],
   "source": [
    "purpose_debt = data.groupby('compact_purpose')['debt'].agg({'sum', 'count'})\n",
    "purpose_debt = purpose_debt.rename(columns={'count': 'total_borrowers', 'sum': 'non_payment'})\n",
    "purpose_debt['debt_ratio'] = purpose_debt['non_payment'] / purpose_debt['total_borrowers']"
   ]
  },
  {
   "cell_type": "code",
   "execution_count": 89,
   "metadata": {},
   "outputs": [
    {
     "data": {
      "text/html": [
       "<style type=\"text/css\">\n",
       "</style>\n",
       "<table id=\"T_154fc\">\n",
       "  <thead>\n",
       "    <tr>\n",
       "      <th class=\"blank level0\" >&nbsp;</th>\n",
       "      <th id=\"T_154fc_level0_col0\" class=\"col_heading level0 col0\" >non_payment</th>\n",
       "      <th id=\"T_154fc_level0_col1\" class=\"col_heading level0 col1\" >total_borrowers</th>\n",
       "      <th id=\"T_154fc_level0_col2\" class=\"col_heading level0 col2\" >debt_ratio</th>\n",
       "    </tr>\n",
       "    <tr>\n",
       "      <th class=\"index_name level0\" >compact_purpose</th>\n",
       "      <th class=\"blank col0\" >&nbsp;</th>\n",
       "      <th class=\"blank col1\" >&nbsp;</th>\n",
       "      <th class=\"blank col2\" >&nbsp;</th>\n",
       "    </tr>\n",
       "  </thead>\n",
       "  <tbody>\n",
       "    <tr>\n",
       "      <th id=\"T_154fc_level0_row0\" class=\"row_heading level0 row0\" >приобретение автомобиля</th>\n",
       "      <td id=\"T_154fc_row0_col0\" class=\"data row0 col0\" >403</td>\n",
       "      <td id=\"T_154fc_row0_col1\" class=\"data row0 col1\" >4306</td>\n",
       "      <td id=\"T_154fc_row0_col2\" class=\"data row0 col2\" >9.36%</td>\n",
       "    </tr>\n",
       "    <tr>\n",
       "      <th id=\"T_154fc_level0_row1\" class=\"row_heading level0 row1\" >оплата образовательных услуг</th>\n",
       "      <td id=\"T_154fc_row1_col0\" class=\"data row1 col0\" >370</td>\n",
       "      <td id=\"T_154fc_row1_col1\" class=\"data row1 col1\" >4013</td>\n",
       "      <td id=\"T_154fc_row1_col2\" class=\"data row1 col2\" >9.22%</td>\n",
       "    </tr>\n",
       "    <tr>\n",
       "      <th id=\"T_154fc_level0_row2\" class=\"row_heading level0 row2\" >свадьба</th>\n",
       "      <td id=\"T_154fc_row2_col0\" class=\"data row2 col0\" >186</td>\n",
       "      <td id=\"T_154fc_row2_col1\" class=\"data row2 col1\" >2324</td>\n",
       "      <td id=\"T_154fc_row2_col2\" class=\"data row2 col2\" >8.00%</td>\n",
       "    </tr>\n",
       "    <tr>\n",
       "      <th id=\"T_154fc_level0_row3\" class=\"row_heading level0 row3\" >приобретение недвижимости</th>\n",
       "      <td id=\"T_154fc_row3_col0\" class=\"data row3 col0\" >747</td>\n",
       "      <td id=\"T_154fc_row3_col1\" class=\"data row3 col1\" >10204</td>\n",
       "      <td id=\"T_154fc_row3_col2\" class=\"data row3 col2\" >7.32%</td>\n",
       "    </tr>\n",
       "    <tr>\n",
       "      <th id=\"T_154fc_level0_row4\" class=\"row_heading level0 row4\" >жилищный ремонт</th>\n",
       "      <td id=\"T_154fc_row4_col0\" class=\"data row4 col0\" >35</td>\n",
       "      <td id=\"T_154fc_row4_col1\" class=\"data row4 col1\" >607</td>\n",
       "      <td id=\"T_154fc_row4_col2\" class=\"data row4 col2\" >5.77%</td>\n",
       "    </tr>\n",
       "  </tbody>\n",
       "</table>\n"
      ],
      "text/plain": [
       "<pandas.io.formats.style.Styler at 0x11eac280>"
      ]
     },
     "execution_count": 89,
     "metadata": {},
     "output_type": "execute_result"
    }
   ],
   "source": [
    "purpose_debt.sort_values('debt_ratio', ascending=False).style.format({'debt_ratio': '{:.2%}'})"
   ]
  },
  {
   "cell_type": "markdown",
   "metadata": {},
   "source": [
    "#### Вывод"
   ]
  },
  {
   "cell_type": "markdown",
   "metadata": {},
   "source": [
    "Чаще всего возвращают кредит в срок клиенты, которые брали его на жилищный ремонт - менее 6 процентных пунктов невозврата в срок.\n",
    "\n",
    "Реже всего в срок возвращают кредит клиенты, которые брали его на автомобиль и на оплату образовательных услуг (что неудивительно, клиенты, получающиеся образование, наверняка нечасто имеют возможность трудоустроиться на полную ставку), они возвращают кредит в срок реже, чем кредиты на ремонт, на 3.5 процентных пункта."
   ]
  },
  {
   "cell_type": "markdown",
   "metadata": {},
   "source": [
    "## Общий вывод"
   ]
  },
  {
   "cell_type": "markdown",
   "metadata": {},
   "source": [
    "В ходе анализа были изучены, обработаны и категоризированы данные, что в итоге дало возможность найти взаимосвязи между возвратом кредита в срок и наличием детей, семейным положением, уровнем дохода, целями кредита:\n",
    "\n",
    "- заемщики, у которых нет детей, возвращают кредит в срок чаще на 1.5 процентных пункта, чем те, у кого есть хотя бы один ребенок;\n",
    "\n",
    "- реже всего кредит возвращают в срок клиенты, которые никогда не состояли в официально зарегистрированном браке, клиенты со средним доходом и те, кто брал кредит на автомобиль и на оплату образовательных услуг.\n",
    "\n",
    "Кроме того, благодаря категоризации, возможен дальнейший поиск взаимосвязей (например, связь с образованием, типом занятости), которые можно использовать для построения моделей."
   ]
  }
 ],
 "metadata": {
  "ExecuteTimeLog": [
   {
    "duration": 643,
    "start_time": "2021-09-26T10:16:36.691Z"
   },
   {
    "duration": 58,
    "start_time": "2021-09-26T10:18:50.013Z"
   },
   {
    "duration": 795,
    "start_time": "2021-09-27T07:39:28.090Z"
   },
   {
    "duration": 698,
    "start_time": "2021-09-27T07:39:53.437Z"
   },
   {
    "duration": 80,
    "start_time": "2021-09-27T07:40:02.834Z"
   },
   {
    "duration": 79,
    "start_time": "2021-09-27T07:49:51.485Z"
   },
   {
    "duration": 77,
    "start_time": "2021-09-27T07:49:57.257Z"
   },
   {
    "duration": 78,
    "start_time": "2021-09-27T07:50:01.092Z"
   },
   {
    "duration": 77,
    "start_time": "2021-09-27T07:50:06.565Z"
   },
   {
    "duration": 84,
    "start_time": "2021-09-27T07:50:17.997Z"
   },
   {
    "duration": 79,
    "start_time": "2021-09-27T07:50:42.478Z"
   },
   {
    "duration": 79,
    "start_time": "2021-09-27T07:51:00.725Z"
   },
   {
    "duration": 79,
    "start_time": "2021-09-27T07:51:10.515Z"
   },
   {
    "duration": 3,
    "start_time": "2021-09-27T08:10:13.914Z"
   },
   {
    "duration": 77,
    "start_time": "2021-09-27T08:10:18.166Z"
   },
   {
    "duration": 78,
    "start_time": "2021-09-27T08:14:28.861Z"
   },
   {
    "duration": 14,
    "start_time": "2021-09-27T10:14:08.689Z"
   },
   {
    "duration": 392,
    "start_time": "2021-09-27T10:14:32.083Z"
   },
   {
    "duration": 11,
    "start_time": "2021-09-27T10:14:54.301Z"
   },
   {
    "duration": 8,
    "start_time": "2021-09-27T10:15:05.447Z"
   },
   {
    "duration": 352,
    "start_time": "2021-09-27T10:15:35.070Z"
   },
   {
    "duration": 16,
    "start_time": "2021-09-27T10:15:51.014Z"
   },
   {
    "duration": 22,
    "start_time": "2021-09-27T10:15:59.945Z"
   },
   {
    "duration": 18,
    "start_time": "2021-09-27T10:18:26.195Z"
   },
   {
    "duration": 21,
    "start_time": "2021-09-27T10:18:39.646Z"
   },
   {
    "duration": 19,
    "start_time": "2021-09-27T10:19:20.010Z"
   },
   {
    "duration": 19,
    "start_time": "2021-09-27T10:19:51.690Z"
   },
   {
    "duration": 16,
    "start_time": "2021-09-27T10:20:04.375Z"
   },
   {
    "duration": 15,
    "start_time": "2021-09-27T10:20:14.459Z"
   },
   {
    "duration": 15,
    "start_time": "2021-09-27T10:20:19.087Z"
   },
   {
    "duration": 16,
    "start_time": "2021-09-27T10:21:58.369Z"
   },
   {
    "duration": 15,
    "start_time": "2021-09-27T10:22:16.005Z"
   },
   {
    "duration": 14,
    "start_time": "2021-09-27T10:22:37.898Z"
   },
   {
    "duration": 14,
    "start_time": "2021-09-27T10:22:48.744Z"
   },
   {
    "duration": 21,
    "start_time": "2021-09-27T10:29:08.400Z"
   },
   {
    "duration": 126,
    "start_time": "2021-09-27T10:30:22.767Z"
   },
   {
    "duration": 146,
    "start_time": "2021-09-27T10:30:28.646Z"
   },
   {
    "duration": 16,
    "start_time": "2021-09-27T10:30:31.565Z"
   },
   {
    "duration": 16,
    "start_time": "2021-09-27T10:30:40.439Z"
   },
   {
    "duration": 348,
    "start_time": "2021-09-27T10:30:49.302Z"
   },
   {
    "duration": 15,
    "start_time": "2021-09-27T10:30:53.775Z"
   },
   {
    "duration": 15,
    "start_time": "2021-09-27T10:30:58.394Z"
   },
   {
    "duration": 15,
    "start_time": "2021-09-27T10:31:06.516Z"
   },
   {
    "duration": 14,
    "start_time": "2021-09-27T10:31:58.987Z"
   },
   {
    "duration": 15,
    "start_time": "2021-09-27T10:32:09.496Z"
   },
   {
    "duration": 15,
    "start_time": "2021-09-27T10:35:54.477Z"
   },
   {
    "duration": 330,
    "start_time": "2021-09-27T10:45:41.544Z"
   },
   {
    "duration": 16,
    "start_time": "2021-09-27T10:45:48.618Z"
   },
   {
    "duration": 15,
    "start_time": "2021-09-27T10:45:59.140Z"
   },
   {
    "duration": 16,
    "start_time": "2021-09-27T10:47:00.351Z"
   },
   {
    "duration": 21,
    "start_time": "2021-09-27T10:47:33.831Z"
   },
   {
    "duration": 21,
    "start_time": "2021-09-27T10:47:50.383Z"
   },
   {
    "duration": 14,
    "start_time": "2021-09-27T10:48:41.483Z"
   },
   {
    "duration": 16,
    "start_time": "2021-09-27T10:49:39.033Z"
   },
   {
    "duration": 16,
    "start_time": "2021-09-27T10:50:08.324Z"
   },
   {
    "duration": 16,
    "start_time": "2021-09-27T10:50:14.604Z"
   },
   {
    "duration": 16,
    "start_time": "2021-09-27T10:50:23.343Z"
   },
   {
    "duration": 313,
    "start_time": "2021-09-27T10:50:32.084Z"
   },
   {
    "duration": 32,
    "start_time": "2021-09-27T10:50:47.953Z"
   },
   {
    "duration": 16,
    "start_time": "2021-09-27T10:51:16.065Z"
   },
   {
    "duration": 15,
    "start_time": "2021-09-27T10:51:30.389Z"
   },
   {
    "duration": 21,
    "start_time": "2021-09-27T10:58:33.217Z"
   },
   {
    "duration": 14,
    "start_time": "2021-09-27T10:58:44.383Z"
   },
   {
    "duration": 14,
    "start_time": "2021-09-27T11:03:31.338Z"
   },
   {
    "duration": 14,
    "start_time": "2021-09-27T11:03:37.872Z"
   },
   {
    "duration": 14,
    "start_time": "2021-09-27T11:03:44.410Z"
   },
   {
    "duration": 14,
    "start_time": "2021-09-27T11:03:48.264Z"
   },
   {
    "duration": 21,
    "start_time": "2021-09-27T11:17:19.284Z"
   },
   {
    "duration": 21,
    "start_time": "2021-09-27T11:21:27.854Z"
   },
   {
    "duration": 328,
    "start_time": "2021-09-27T11:22:47.954Z"
   },
   {
    "duration": 19,
    "start_time": "2021-09-27T11:23:46.868Z"
   },
   {
    "duration": 20,
    "start_time": "2021-09-27T11:24:16.279Z"
   },
   {
    "duration": 18,
    "start_time": "2021-09-27T11:24:21.031Z"
   },
   {
    "duration": 22,
    "start_time": "2021-09-27T11:26:00.121Z"
   },
   {
    "duration": 25,
    "start_time": "2021-09-27T11:27:41.183Z"
   },
   {
    "duration": 26,
    "start_time": "2021-09-27T11:28:02.923Z"
   },
   {
    "duration": 3927,
    "start_time": "2021-09-27T11:29:48.467Z"
   },
   {
    "duration": 3825,
    "start_time": "2021-09-27T11:32:08.473Z"
   },
   {
    "duration": 27,
    "start_time": "2021-09-27T11:39:16.189Z"
   },
   {
    "duration": 2868,
    "start_time": "2021-09-27T11:49:25.054Z"
   },
   {
    "duration": 2846,
    "start_time": "2021-09-27T11:49:45.619Z"
   },
   {
    "duration": 334,
    "start_time": "2021-09-27T12:10:30.783Z"
   },
   {
    "duration": 32,
    "start_time": "2021-09-27T12:23:15.019Z"
   },
   {
    "duration": 21,
    "start_time": "2021-09-27T12:23:26.611Z"
   },
   {
    "duration": 28,
    "start_time": "2021-09-27T12:24:14.930Z"
   },
   {
    "duration": 21,
    "start_time": "2021-09-27T12:24:21.778Z"
   },
   {
    "duration": 21,
    "start_time": "2021-09-27T12:26:20.720Z"
   },
   {
    "duration": 30,
    "start_time": "2021-09-27T12:26:48.785Z"
   },
   {
    "duration": 31,
    "start_time": "2021-09-27T12:27:00.468Z"
   },
   {
    "duration": 78,
    "start_time": "2021-09-27T12:27:26.696Z"
   },
   {
    "duration": 32,
    "start_time": "2021-09-27T12:27:30.935Z"
   },
   {
    "duration": 32,
    "start_time": "2021-09-27T12:42:27.899Z"
   },
   {
    "duration": 34,
    "start_time": "2021-09-27T12:52:24.760Z"
   },
   {
    "duration": 32,
    "start_time": "2021-09-27T12:52:28.400Z"
   },
   {
    "duration": 34,
    "start_time": "2021-09-27T12:52:38.458Z"
   },
   {
    "duration": 35,
    "start_time": "2021-09-27T12:52:52.837Z"
   },
   {
    "duration": 35,
    "start_time": "2021-09-27T12:53:22.377Z"
   },
   {
    "duration": 86,
    "start_time": "2021-09-27T13:04:32.610Z"
   },
   {
    "duration": 88,
    "start_time": "2021-09-27T13:05:20.123Z"
   },
   {
    "duration": 37,
    "start_time": "2021-09-27T13:09:08.382Z"
   },
   {
    "duration": 27,
    "start_time": "2021-09-27T13:09:43.558Z"
   },
   {
    "duration": 30,
    "start_time": "2021-09-27T13:10:33.474Z"
   },
   {
    "duration": 23,
    "start_time": "2021-09-27T13:12:05.509Z"
   },
   {
    "duration": 80,
    "start_time": "2021-09-27T13:16:15.353Z"
   },
   {
    "duration": 25,
    "start_time": "2021-09-27T13:16:38.657Z"
   },
   {
    "duration": 82,
    "start_time": "2021-09-27T13:17:03.161Z"
   },
   {
    "duration": 24,
    "start_time": "2021-09-27T13:17:07.937Z"
   },
   {
    "duration": 24,
    "start_time": "2021-09-27T13:19:18.393Z"
   },
   {
    "duration": 27,
    "start_time": "2021-09-27T13:19:32.363Z"
   },
   {
    "duration": 26,
    "start_time": "2021-09-27T13:20:00.706Z"
   },
   {
    "duration": 82,
    "start_time": "2021-09-27T13:23:00.778Z"
   },
   {
    "duration": 25,
    "start_time": "2021-09-27T13:23:27.123Z"
   },
   {
    "duration": 26,
    "start_time": "2021-09-27T13:28:58.181Z"
   },
   {
    "duration": 85,
    "start_time": "2021-09-27T13:29:41.907Z"
   },
   {
    "duration": 33,
    "start_time": "2021-09-27T13:29:46.802Z"
   },
   {
    "duration": 28,
    "start_time": "2021-09-27T13:30:08.369Z"
   },
   {
    "duration": 1590,
    "start_time": "2021-09-27T13:30:16.579Z"
   },
   {
    "duration": 86,
    "start_time": "2021-09-27T13:30:29.198Z"
   },
   {
    "duration": 83,
    "start_time": "2021-09-27T13:31:04.966Z"
   },
   {
    "duration": 19,
    "start_time": "2021-09-27T13:31:10.503Z"
   },
   {
    "duration": 86,
    "start_time": "2021-09-27T13:32:24.133Z"
   },
   {
    "duration": 19,
    "start_time": "2021-09-27T13:32:27.196Z"
   },
   {
    "duration": 13,
    "start_time": "2021-09-27T13:32:34.756Z"
   },
   {
    "duration": 88,
    "start_time": "2021-09-27T13:33:53.762Z"
   },
   {
    "duration": 22,
    "start_time": "2021-09-27T13:33:57.775Z"
   },
   {
    "duration": 85,
    "start_time": "2021-09-27T13:34:26.273Z"
   },
   {
    "duration": 21,
    "start_time": "2021-09-27T13:34:30.825Z"
   },
   {
    "duration": 14,
    "start_time": "2021-09-27T13:34:34.149Z"
   },
   {
    "duration": 81,
    "start_time": "2021-09-27T13:35:09.090Z"
   },
   {
    "duration": 20,
    "start_time": "2021-09-27T13:35:13.252Z"
   },
   {
    "duration": 12,
    "start_time": "2021-09-27T13:35:16.006Z"
   },
   {
    "duration": 83,
    "start_time": "2021-09-27T13:35:37.097Z"
   },
   {
    "duration": 21,
    "start_time": "2021-09-27T13:35:44.147Z"
   },
   {
    "duration": 13,
    "start_time": "2021-09-27T13:35:47.888Z"
   },
   {
    "duration": 23,
    "start_time": "2021-09-27T13:36:14.150Z"
   },
   {
    "duration": 14,
    "start_time": "2021-09-27T13:36:26.811Z"
   },
   {
    "duration": 89,
    "start_time": "2021-09-27T13:37:21.460Z"
   },
   {
    "duration": 16,
    "start_time": "2021-09-27T13:37:26.735Z"
   },
   {
    "duration": 12,
    "start_time": "2021-09-27T13:37:32.818Z"
   },
   {
    "duration": 22,
    "start_time": "2021-09-27T13:37:54.080Z"
   },
   {
    "duration": 17,
    "start_time": "2021-09-27T13:37:55.923Z"
   },
   {
    "duration": 84,
    "start_time": "2021-09-27T13:38:03.264Z"
   },
   {
    "duration": 24,
    "start_time": "2021-09-27T13:38:07.765Z"
   },
   {
    "duration": 12,
    "start_time": "2021-09-27T13:38:09.642Z"
   },
   {
    "duration": 77,
    "start_time": "2021-09-27T13:39:24.423Z"
   },
   {
    "duration": 24,
    "start_time": "2021-09-27T13:39:28.357Z"
   },
   {
    "duration": 12,
    "start_time": "2021-09-27T13:39:34.120Z"
   },
   {
    "duration": 15,
    "start_time": "2021-09-27T13:47:14.579Z"
   },
   {
    "duration": 63,
    "start_time": "2021-09-27T13:48:31.304Z"
   },
   {
    "duration": 21,
    "start_time": "2021-09-27T13:48:31.369Z"
   },
   {
    "duration": 9,
    "start_time": "2021-09-27T13:48:31.393Z"
   },
   {
    "duration": 27,
    "start_time": "2021-09-27T13:48:31.404Z"
   },
   {
    "duration": 50,
    "start_time": "2021-09-27T13:48:31.434Z"
   },
   {
    "duration": 6,
    "start_time": "2021-09-27T13:55:07.999Z"
   },
   {
    "duration": 8,
    "start_time": "2021-09-27T13:55:15.607Z"
   },
   {
    "duration": 7,
    "start_time": "2021-09-27T13:55:19.201Z"
   },
   {
    "duration": 7,
    "start_time": "2021-09-27T13:56:46.651Z"
   },
   {
    "duration": 10,
    "start_time": "2021-09-27T14:01:04.119Z"
   },
   {
    "duration": 12,
    "start_time": "2021-09-27T14:01:26.386Z"
   },
   {
    "duration": 313,
    "start_time": "2021-09-27T14:09:02.421Z"
   },
   {
    "duration": 10,
    "start_time": "2021-09-27T14:09:05.702Z"
   },
   {
    "duration": 10,
    "start_time": "2021-09-27T14:09:09.992Z"
   },
   {
    "duration": 11,
    "start_time": "2021-09-27T14:09:20.860Z"
   },
   {
    "duration": 11,
    "start_time": "2021-09-27T14:09:26.351Z"
   },
   {
    "duration": 10,
    "start_time": "2021-09-27T14:10:12.492Z"
   },
   {
    "duration": 9,
    "start_time": "2021-09-27T14:10:49.821Z"
   },
   {
    "duration": 9,
    "start_time": "2021-09-27T14:10:57.718Z"
   },
   {
    "duration": 10,
    "start_time": "2021-09-27T14:11:13.478Z"
   },
   {
    "duration": 9,
    "start_time": "2021-09-27T14:11:35.206Z"
   },
   {
    "duration": 10,
    "start_time": "2021-09-27T14:12:27.151Z"
   },
   {
    "duration": 11,
    "start_time": "2021-09-27T14:14:31.453Z"
   },
   {
    "duration": 6,
    "start_time": "2021-09-27T14:15:33.281Z"
   },
   {
    "duration": 22,
    "start_time": "2021-09-27T14:16:22.795Z"
   },
   {
    "duration": 311,
    "start_time": "2021-10-01T20:19:33.848Z"
   },
   {
    "duration": 666,
    "start_time": "2021-10-01T20:19:36.602Z"
   },
   {
    "duration": 17,
    "start_time": "2021-10-01T20:19:40.972Z"
   },
   {
    "duration": 90,
    "start_time": "2021-10-01T20:22:29.413Z"
   },
   {
    "duration": 8,
    "start_time": "2021-10-01T20:25:19.008Z"
   },
   {
    "duration": 13,
    "start_time": "2021-10-01T20:26:00.426Z"
   },
   {
    "duration": 4,
    "start_time": "2021-10-01T20:30:38.778Z"
   },
   {
    "duration": 4,
    "start_time": "2021-10-01T20:31:17.289Z"
   },
   {
    "duration": 3,
    "start_time": "2021-10-01T20:31:20.627Z"
   },
   {
    "duration": 291,
    "start_time": "2021-10-01T20:31:23.580Z"
   },
   {
    "duration": 4,
    "start_time": "2021-10-01T20:31:25.861Z"
   },
   {
    "duration": 4,
    "start_time": "2021-10-01T20:31:30.953Z"
   },
   {
    "duration": 4,
    "start_time": "2021-10-01T20:31:35.529Z"
   },
   {
    "duration": 4,
    "start_time": "2021-10-01T20:31:40.355Z"
   },
   {
    "duration": 4,
    "start_time": "2021-10-01T20:31:43.677Z"
   },
   {
    "duration": 3,
    "start_time": "2021-10-01T20:32:22.139Z"
   },
   {
    "duration": 315,
    "start_time": "2021-10-01T20:33:34.217Z"
   },
   {
    "duration": 263,
    "start_time": "2021-10-01T20:33:36.575Z"
   },
   {
    "duration": 305,
    "start_time": "2021-10-01T20:33:44.520Z"
   },
   {
    "duration": 4,
    "start_time": "2021-10-01T20:33:46.744Z"
   },
   {
    "duration": 262,
    "start_time": "2021-10-01T20:34:11.059Z"
   },
   {
    "duration": 4,
    "start_time": "2021-10-01T20:34:22.483Z"
   },
   {
    "duration": 326,
    "start_time": "2021-10-01T20:34:48.901Z"
   },
   {
    "duration": 88,
    "start_time": "2021-10-01T20:35:20.474Z"
   },
   {
    "duration": 281,
    "start_time": "2021-10-01T20:35:25.367Z"
   },
   {
    "duration": 330,
    "start_time": "2021-10-01T20:36:27.839Z"
   },
   {
    "duration": 3,
    "start_time": "2021-10-01T20:36:34.769Z"
   },
   {
    "duration": 4,
    "start_time": "2021-10-01T20:36:40.650Z"
   },
   {
    "duration": 4,
    "start_time": "2021-10-01T20:36:49.162Z"
   },
   {
    "duration": 3,
    "start_time": "2021-10-01T20:37:02.852Z"
   },
   {
    "duration": 3,
    "start_time": "2021-10-01T20:37:16.075Z"
   },
   {
    "duration": 889,
    "start_time": "2021-10-02T07:44:06.292Z"
   },
   {
    "duration": 19,
    "start_time": "2021-10-02T07:44:07.184Z"
   },
   {
    "duration": 13,
    "start_time": "2021-10-02T07:44:07.216Z"
   },
   {
    "duration": 21,
    "start_time": "2021-10-02T07:44:07.232Z"
   },
   {
    "duration": 8,
    "start_time": "2021-10-02T07:44:07.256Z"
   },
   {
    "duration": 6,
    "start_time": "2021-10-02T07:44:07.266Z"
   },
   {
    "duration": 6,
    "start_time": "2021-10-02T07:44:19.659Z"
   },
   {
    "duration": 15,
    "start_time": "2021-10-02T07:44:42.022Z"
   },
   {
    "duration": 8,
    "start_time": "2021-10-02T07:47:05.870Z"
   },
   {
    "duration": 8,
    "start_time": "2021-10-02T07:47:42.067Z"
   },
   {
    "duration": 10,
    "start_time": "2021-10-02T07:48:56.240Z"
   },
   {
    "duration": 9,
    "start_time": "2021-10-02T07:49:08.377Z"
   },
   {
    "duration": 11,
    "start_time": "2021-10-02T07:50:22.286Z"
   },
   {
    "duration": 11,
    "start_time": "2021-10-02T07:50:41.776Z"
   },
   {
    "duration": 11,
    "start_time": "2021-10-02T07:50:51.121Z"
   },
   {
    "duration": 5,
    "start_time": "2021-10-02T07:52:50.559Z"
   },
   {
    "duration": 9,
    "start_time": "2021-10-02T07:54:37.555Z"
   },
   {
    "duration": 387,
    "start_time": "2021-10-02T08:00:03.563Z"
   },
   {
    "duration": 7,
    "start_time": "2021-10-02T08:00:47.721Z"
   },
   {
    "duration": 17,
    "start_time": "2021-10-02T08:00:53.894Z"
   },
   {
    "duration": 7,
    "start_time": "2021-10-02T08:01:10.934Z"
   },
   {
    "duration": 14,
    "start_time": "2021-10-02T08:01:18.438Z"
   },
   {
    "duration": 10,
    "start_time": "2021-10-02T08:01:23.393Z"
   },
   {
    "duration": 314,
    "start_time": "2021-10-02T08:01:38.609Z"
   },
   {
    "duration": 10,
    "start_time": "2021-10-02T08:01:44.107Z"
   },
   {
    "duration": 104,
    "start_time": "2021-10-02T08:02:54.746Z"
   },
   {
    "duration": 23,
    "start_time": "2021-10-02T08:02:59.461Z"
   },
   {
    "duration": 9,
    "start_time": "2021-10-02T08:04:02.236Z"
   },
   {
    "duration": 34,
    "start_time": "2021-10-02T08:06:53.862Z"
   },
   {
    "duration": 8,
    "start_time": "2021-10-02T08:07:32.777Z"
   },
   {
    "duration": 7,
    "start_time": "2021-10-02T08:07:38.727Z"
   },
   {
    "duration": 14,
    "start_time": "2021-10-02T08:07:50.443Z"
   },
   {
    "duration": 34,
    "start_time": "2021-10-02T08:07:56.293Z"
   },
   {
    "duration": 64,
    "start_time": "2021-10-02T08:08:22.658Z"
   },
   {
    "duration": 15,
    "start_time": "2021-10-02T08:08:22.725Z"
   },
   {
    "duration": 5,
    "start_time": "2021-10-02T08:08:22.743Z"
   },
   {
    "duration": 18,
    "start_time": "2021-10-02T08:08:22.751Z"
   },
   {
    "duration": 53,
    "start_time": "2021-10-02T08:08:22.772Z"
   },
   {
    "duration": 10,
    "start_time": "2021-10-02T08:08:22.828Z"
   },
   {
    "duration": 5,
    "start_time": "2021-10-02T08:08:22.841Z"
   },
   {
    "duration": 16,
    "start_time": "2021-10-02T08:08:22.849Z"
   },
   {
    "duration": 54,
    "start_time": "2021-10-02T08:08:22.868Z"
   },
   {
    "duration": 8,
    "start_time": "2021-10-02T08:08:22.925Z"
   },
   {
    "duration": 10,
    "start_time": "2021-10-02T08:08:22.936Z"
   },
   {
    "duration": 8,
    "start_time": "2021-10-02T08:08:22.949Z"
   },
   {
    "duration": 9,
    "start_time": "2021-10-02T08:08:28.079Z"
   },
   {
    "duration": 9,
    "start_time": "2021-10-02T08:08:35.793Z"
   },
   {
    "duration": 10,
    "start_time": "2021-10-02T08:08:37.859Z"
   },
   {
    "duration": 36,
    "start_time": "2021-10-02T08:08:43.033Z"
   },
   {
    "duration": 19,
    "start_time": "2021-10-02T08:12:46.573Z"
   },
   {
    "duration": 13,
    "start_time": "2021-10-02T08:12:54.515Z"
   },
   {
    "duration": 14,
    "start_time": "2021-10-02T08:13:23.616Z"
   },
   {
    "duration": 8,
    "start_time": "2021-10-02T08:13:37.134Z"
   },
   {
    "duration": 1317,
    "start_time": "2021-10-02T08:26:30.263Z"
   },
   {
    "duration": 116,
    "start_time": "2021-10-02T08:26:36.499Z"
   },
   {
    "duration": 10,
    "start_time": "2021-10-02T08:26:38.618Z"
   },
   {
    "duration": 103,
    "start_time": "2021-10-02T08:26:40.968Z"
   },
   {
    "duration": 7,
    "start_time": "2021-10-02T08:26:44.148Z"
   },
   {
    "duration": 7566,
    "start_time": "2021-10-02T08:26:47.079Z"
   },
   {
    "duration": 9646,
    "start_time": "2021-10-02T08:27:28.067Z"
   },
   {
    "duration": 9519,
    "start_time": "2021-10-02T08:27:43.091Z"
   },
   {
    "duration": 7923,
    "start_time": "2021-10-02T08:28:21.809Z"
   },
   {
    "duration": 7725,
    "start_time": "2021-10-02T08:28:50.663Z"
   },
   {
    "duration": 8419,
    "start_time": "2021-10-02T08:29:13.850Z"
   },
   {
    "duration": 7,
    "start_time": "2021-10-02T08:29:37.050Z"
   },
   {
    "duration": 7,
    "start_time": "2021-10-02T08:29:43.138Z"
   },
   {
    "duration": 8357,
    "start_time": "2021-10-02T08:29:58.400Z"
   },
   {
    "duration": 8262,
    "start_time": "2021-10-02T08:56:16.790Z"
   },
   {
    "duration": 7950,
    "start_time": "2021-10-02T08:56:57.482Z"
   },
   {
    "duration": 8925,
    "start_time": "2021-10-02T08:57:21.085Z"
   },
   {
    "duration": 65,
    "start_time": "2021-10-02T08:57:40.834Z"
   },
   {
    "duration": 15,
    "start_time": "2021-10-02T08:57:40.902Z"
   },
   {
    "duration": 15,
    "start_time": "2021-10-02T08:57:40.920Z"
   },
   {
    "duration": 37,
    "start_time": "2021-10-02T08:57:40.937Z"
   },
   {
    "duration": 10,
    "start_time": "2021-10-02T08:57:40.977Z"
   },
   {
    "duration": 31,
    "start_time": "2021-10-02T08:57:40.989Z"
   },
   {
    "duration": 6,
    "start_time": "2021-10-02T08:57:41.022Z"
   },
   {
    "duration": 28,
    "start_time": "2021-10-02T08:57:41.030Z"
   },
   {
    "duration": 39,
    "start_time": "2021-10-02T08:57:41.062Z"
   },
   {
    "duration": 20,
    "start_time": "2021-10-02T08:57:41.104Z"
   },
   {
    "duration": 19,
    "start_time": "2021-10-02T08:57:41.126Z"
   },
   {
    "duration": 17,
    "start_time": "2021-10-02T08:57:41.147Z"
   },
   {
    "duration": 8946,
    "start_time": "2021-10-02T08:57:48.464Z"
   },
   {
    "duration": 27,
    "start_time": "2021-10-02T08:59:12.294Z"
   },
   {
    "duration": 22,
    "start_time": "2021-10-02T08:59:22.702Z"
   },
   {
    "duration": 38,
    "start_time": "2021-10-02T09:11:38.767Z"
   },
   {
    "duration": 5,
    "start_time": "2021-10-02T09:11:48.946Z"
   },
   {
    "duration": 9,
    "start_time": "2021-10-02T09:12:10.778Z"
   },
   {
    "duration": 62,
    "start_time": "2021-10-02T09:16:37.492Z"
   },
   {
    "duration": 14,
    "start_time": "2021-10-02T09:16:37.557Z"
   },
   {
    "duration": 5,
    "start_time": "2021-10-02T09:16:37.574Z"
   },
   {
    "duration": 50,
    "start_time": "2021-10-02T09:16:37.583Z"
   },
   {
    "duration": 10,
    "start_time": "2021-10-02T09:16:37.636Z"
   },
   {
    "duration": 10,
    "start_time": "2021-10-02T09:16:37.649Z"
   },
   {
    "duration": 5,
    "start_time": "2021-10-02T09:16:37.661Z"
   },
   {
    "duration": 58,
    "start_time": "2021-10-02T09:16:37.669Z"
   },
   {
    "duration": 8,
    "start_time": "2021-10-02T09:16:37.731Z"
   },
   {
    "duration": 8,
    "start_time": "2021-10-02T09:16:37.742Z"
   },
   {
    "duration": 69,
    "start_time": "2021-10-02T09:16:37.752Z"
   },
   {
    "duration": 10,
    "start_time": "2021-10-02T09:16:37.823Z"
   },
   {
    "duration": 43,
    "start_time": "2021-10-02T09:17:18.953Z"
   },
   {
    "duration": 6,
    "start_time": "2021-10-02T09:17:21.511Z"
   },
   {
    "duration": 17,
    "start_time": "2021-10-02T09:45:35.899Z"
   },
   {
    "duration": 21,
    "start_time": "2021-10-02T10:10:40.409Z"
   },
   {
    "duration": 310,
    "start_time": "2021-10-02T10:17:23.490Z"
   },
   {
    "duration": 333,
    "start_time": "2021-10-02T10:17:58.098Z"
   },
   {
    "duration": 8,
    "start_time": "2021-10-02T10:18:15.954Z"
   },
   {
    "duration": 7686,
    "start_time": "2021-10-02T10:18:26.871Z"
   },
   {
    "duration": 10,
    "start_time": "2021-10-02T10:18:38.361Z"
   },
   {
    "duration": 20,
    "start_time": "2021-10-02T10:18:50.430Z"
   },
   {
    "duration": 13,
    "start_time": "2021-10-02T10:18:56.446Z"
   },
   {
    "duration": 20,
    "start_time": "2021-10-02T10:19:04.436Z"
   },
   {
    "duration": 182,
    "start_time": "2021-10-02T10:19:19.850Z"
   },
   {
    "duration": 324,
    "start_time": "2021-10-02T10:19:22.347Z"
   },
   {
    "duration": 304,
    "start_time": "2021-10-02T10:19:24.812Z"
   },
   {
    "duration": 7,
    "start_time": "2021-10-02T10:19:51.895Z"
   },
   {
    "duration": 7,
    "start_time": "2021-10-02T10:20:04.570Z"
   },
   {
    "duration": 18,
    "start_time": "2021-10-02T10:28:30.384Z"
   },
   {
    "duration": 404,
    "start_time": "2021-10-02T10:28:44.291Z"
   },
   {
    "duration": 316,
    "start_time": "2021-10-02T10:28:58.992Z"
   },
   {
    "duration": 732,
    "start_time": "2021-10-02T10:30:32.304Z"
   },
   {
    "duration": 31,
    "start_time": "2021-10-02T10:30:35.638Z"
   },
   {
    "duration": 347,
    "start_time": "2021-10-02T10:30:49.643Z"
   },
   {
    "duration": 419,
    "start_time": "2021-10-02T10:31:04.174Z"
   },
   {
    "duration": 117,
    "start_time": "2021-10-02T10:31:10.025Z"
   },
   {
    "duration": 344,
    "start_time": "2021-10-02T10:31:12.526Z"
   },
   {
    "duration": 314,
    "start_time": "2021-10-02T10:31:14.965Z"
   },
   {
    "duration": 312,
    "start_time": "2021-10-02T10:33:25.836Z"
   },
   {
    "duration": 12,
    "start_time": "2021-10-02T10:33:30.935Z"
   },
   {
    "duration": 14,
    "start_time": "2021-10-02T10:33:42.438Z"
   },
   {
    "duration": 16,
    "start_time": "2021-10-02T10:33:51.941Z"
   },
   {
    "duration": 15,
    "start_time": "2021-10-02T10:34:04.513Z"
   },
   {
    "duration": 17,
    "start_time": "2021-10-02T10:36:06.184Z"
   },
   {
    "duration": 16,
    "start_time": "2021-10-02T10:36:30.886Z"
   },
   {
    "duration": 8,
    "start_time": "2021-10-02T10:46:35.042Z"
   },
   {
    "duration": 6,
    "start_time": "2021-10-02T10:47:18.231Z"
   },
   {
    "duration": 5,
    "start_time": "2021-10-02T10:47:25.284Z"
   },
   {
    "duration": 397,
    "start_time": "2021-10-02T10:47:45.340Z"
   },
   {
    "duration": 5,
    "start_time": "2021-10-02T10:47:49.245Z"
   },
   {
    "duration": 5,
    "start_time": "2021-10-02T10:48:29.365Z"
   },
   {
    "duration": 6,
    "start_time": "2021-10-02T10:48:45.439Z"
   },
   {
    "duration": 9,
    "start_time": "2021-10-02T10:49:14.030Z"
   },
   {
    "duration": 6,
    "start_time": "2021-10-02T10:49:32.867Z"
   },
   {
    "duration": 313,
    "start_time": "2021-10-02T10:49:47.900Z"
   },
   {
    "duration": 7,
    "start_time": "2021-10-02T10:49:57.473Z"
   },
   {
    "duration": 13,
    "start_time": "2021-10-02T10:51:12.451Z"
   },
   {
    "duration": 8,
    "start_time": "2021-10-02T10:51:24.034Z"
   },
   {
    "duration": 11,
    "start_time": "2021-10-02T10:51:40.106Z"
   },
   {
    "duration": 12,
    "start_time": "2021-10-02T10:52:14.437Z"
   },
   {
    "duration": 8,
    "start_time": "2021-10-02T10:52:18.841Z"
   },
   {
    "duration": 7,
    "start_time": "2021-10-02T10:53:15.089Z"
   },
   {
    "duration": 376,
    "start_time": "2021-10-02T10:53:40.199Z"
   },
   {
    "duration": 315,
    "start_time": "2021-10-02T10:53:51.685Z"
   },
   {
    "duration": 309,
    "start_time": "2021-10-02T10:54:05.333Z"
   },
   {
    "duration": 8,
    "start_time": "2021-10-02T10:54:17.582Z"
   },
   {
    "duration": 7,
    "start_time": "2021-10-02T10:54:42.281Z"
   },
   {
    "duration": 8,
    "start_time": "2021-10-02T10:54:52.118Z"
   },
   {
    "duration": 8,
    "start_time": "2021-10-02T10:55:13.813Z"
   },
   {
    "duration": 83,
    "start_time": "2021-10-02T12:39:11.673Z"
   },
   {
    "duration": 19,
    "start_time": "2021-10-02T12:39:11.760Z"
   },
   {
    "duration": 7,
    "start_time": "2021-10-02T12:39:11.783Z"
   },
   {
    "duration": 47,
    "start_time": "2021-10-02T12:39:11.793Z"
   },
   {
    "duration": 9,
    "start_time": "2021-10-02T12:39:11.843Z"
   },
   {
    "duration": 11,
    "start_time": "2021-10-02T12:39:11.855Z"
   },
   {
    "duration": 6,
    "start_time": "2021-10-02T12:39:11.916Z"
   },
   {
    "duration": 25,
    "start_time": "2021-10-02T12:39:11.925Z"
   },
   {
    "duration": 12,
    "start_time": "2021-10-02T12:39:11.956Z"
   },
   {
    "duration": 17,
    "start_time": "2021-10-02T12:39:12.018Z"
   },
   {
    "duration": 14,
    "start_time": "2021-10-02T12:39:12.038Z"
   },
   {
    "duration": 17,
    "start_time": "2021-10-02T12:39:12.054Z"
   },
   {
    "duration": 76,
    "start_time": "2021-10-02T12:39:12.073Z"
   },
   {
    "duration": 5,
    "start_time": "2021-10-02T12:39:12.151Z"
   },
   {
    "duration": 26,
    "start_time": "2021-10-02T12:39:12.158Z"
   },
   {
    "duration": 31,
    "start_time": "2021-10-02T12:39:12.186Z"
   },
   {
    "duration": 7,
    "start_time": "2021-10-02T12:39:12.220Z"
   },
   {
    "duration": 15,
    "start_time": "2021-10-02T12:39:12.229Z"
   },
   {
    "duration": 11,
    "start_time": "2021-10-02T12:39:17.463Z"
   },
   {
    "duration": 37,
    "start_time": "2021-10-02T13:15:03.566Z"
   },
   {
    "duration": 15,
    "start_time": "2021-10-02T13:15:29.646Z"
   },
   {
    "duration": 10,
    "start_time": "2021-10-02T13:15:34.097Z"
   },
   {
    "duration": 10,
    "start_time": "2021-10-02T13:15:47.532Z"
   },
   {
    "duration": 10,
    "start_time": "2021-10-02T13:15:52.962Z"
   },
   {
    "duration": 16,
    "start_time": "2021-10-02T13:23:46.487Z"
   },
   {
    "duration": 24,
    "start_time": "2021-10-02T13:30:18.185Z"
   },
   {
    "duration": 8,
    "start_time": "2021-10-02T13:30:21.707Z"
   },
   {
    "duration": 18,
    "start_time": "2021-10-02T13:51:31.985Z"
   },
   {
    "duration": 337,
    "start_time": "2021-10-02T14:11:05.528Z"
   },
   {
    "duration": 12,
    "start_time": "2021-10-02T14:11:26.584Z"
   },
   {
    "duration": 12,
    "start_time": "2021-10-02T14:11:40.818Z"
   },
   {
    "duration": 9,
    "start_time": "2021-10-02T14:13:29.397Z"
   },
   {
    "duration": 9,
    "start_time": "2021-10-02T14:13:36.653Z"
   },
   {
    "duration": 6,
    "start_time": "2021-10-02T14:32:00.430Z"
   },
   {
    "duration": 6,
    "start_time": "2021-10-02T14:32:08.653Z"
   },
   {
    "duration": 19,
    "start_time": "2021-10-02T16:26:16.680Z"
   },
   {
    "duration": 15,
    "start_time": "2021-10-02T16:26:20.148Z"
   },
   {
    "duration": 5,
    "start_time": "2021-10-02T16:27:46.216Z"
   },
   {
    "duration": 6,
    "start_time": "2021-10-02T16:28:03.492Z"
   },
   {
    "duration": 6,
    "start_time": "2021-10-02T16:28:05.029Z"
   },
   {
    "duration": 16,
    "start_time": "2021-10-02T16:28:14.084Z"
   },
   {
    "duration": 14,
    "start_time": "2021-10-02T16:28:33.364Z"
   },
   {
    "duration": 18,
    "start_time": "2021-10-02T16:35:21.153Z"
   },
   {
    "duration": 8,
    "start_time": "2021-10-02T16:35:29.939Z"
   },
   {
    "duration": 25,
    "start_time": "2021-10-02T16:36:01.003Z"
   },
   {
    "duration": 20,
    "start_time": "2021-10-02T16:36:07.311Z"
   },
   {
    "duration": 25,
    "start_time": "2021-10-02T16:37:25.516Z"
   },
   {
    "duration": 28,
    "start_time": "2021-10-02T16:37:32.744Z"
   },
   {
    "duration": 22,
    "start_time": "2021-10-02T16:38:01.534Z"
   },
   {
    "duration": 21,
    "start_time": "2021-10-02T16:39:21.476Z"
   },
   {
    "duration": 79,
    "start_time": "2021-10-02T16:39:27.882Z"
   },
   {
    "duration": 18,
    "start_time": "2021-10-02T16:39:27.964Z"
   },
   {
    "duration": 37,
    "start_time": "2021-10-02T16:39:27.986Z"
   },
   {
    "duration": 21,
    "start_time": "2021-10-02T16:39:28.027Z"
   },
   {
    "duration": 14,
    "start_time": "2021-10-02T16:39:28.051Z"
   },
   {
    "duration": 11,
    "start_time": "2021-10-02T16:39:28.068Z"
   },
   {
    "duration": 4,
    "start_time": "2021-10-02T16:39:28.081Z"
   },
   {
    "duration": 19,
    "start_time": "2021-10-02T16:39:28.122Z"
   },
   {
    "duration": 9,
    "start_time": "2021-10-02T16:39:28.146Z"
   },
   {
    "duration": 7,
    "start_time": "2021-10-02T16:39:28.158Z"
   },
   {
    "duration": 62,
    "start_time": "2021-10-02T16:39:28.167Z"
   },
   {
    "duration": 9,
    "start_time": "2021-10-02T16:39:28.232Z"
   },
   {
    "duration": 42,
    "start_time": "2021-10-02T16:39:28.244Z"
   },
   {
    "duration": 7,
    "start_time": "2021-10-02T16:39:28.316Z"
   },
   {
    "duration": 19,
    "start_time": "2021-10-02T16:39:28.326Z"
   },
   {
    "duration": 7,
    "start_time": "2021-10-02T16:39:28.347Z"
   },
   {
    "duration": 9,
    "start_time": "2021-10-02T16:39:28.357Z"
   },
   {
    "duration": 58,
    "start_time": "2021-10-02T16:39:28.368Z"
   },
   {
    "duration": 11,
    "start_time": "2021-10-02T16:39:28.430Z"
   },
   {
    "duration": 13,
    "start_time": "2021-10-02T16:39:28.443Z"
   },
   {
    "duration": 57,
    "start_time": "2021-10-02T16:39:28.459Z"
   },
   {
    "duration": 15,
    "start_time": "2021-10-02T16:39:28.520Z"
   },
   {
    "duration": 16,
    "start_time": "2021-10-02T16:39:28.538Z"
   },
   {
    "duration": 20,
    "start_time": "2021-10-02T16:39:28.557Z"
   },
   {
    "duration": 51,
    "start_time": "2021-10-02T16:39:28.579Z"
   },
   {
    "duration": 11,
    "start_time": "2021-10-02T16:39:28.633Z"
   },
   {
    "duration": 8,
    "start_time": "2021-10-02T16:39:28.648Z"
   },
   {
    "duration": 6,
    "start_time": "2021-10-02T16:39:28.659Z"
   },
   {
    "duration": 57,
    "start_time": "2021-10-02T16:39:28.668Z"
   },
   {
    "duration": 24,
    "start_time": "2021-10-02T16:39:28.728Z"
   },
   {
    "duration": 30,
    "start_time": "2021-10-02T16:39:30.889Z"
   },
   {
    "duration": 28,
    "start_time": "2021-10-02T16:39:32.438Z"
   },
   {
    "duration": 31,
    "start_time": "2021-10-02T16:39:33.695Z"
   },
   {
    "duration": 12,
    "start_time": "2021-10-02T16:43:18.645Z"
   },
   {
    "duration": 310,
    "start_time": "2021-10-02T16:46:11.580Z"
   },
   {
    "duration": 101,
    "start_time": "2021-10-02T16:47:04.917Z"
   },
   {
    "duration": 4526,
    "start_time": "2021-10-02T16:47:08.518Z"
   },
   {
    "duration": 202,
    "start_time": "2021-10-02T16:47:17.056Z"
   },
   {
    "duration": 299,
    "start_time": "2021-10-02T16:48:23.495Z"
   },
   {
    "duration": 323,
    "start_time": "2021-10-02T16:48:42.609Z"
   },
   {
    "duration": 3712,
    "start_time": "2021-10-02T16:49:14.451Z"
   },
   {
    "duration": 21,
    "start_time": "2021-10-02T16:49:19.659Z"
   },
   {
    "duration": 629,
    "start_time": "2021-10-02T16:49:48.932Z"
   },
   {
    "duration": 23,
    "start_time": "2021-10-02T16:49:57.228Z"
   },
   {
    "duration": 3637,
    "start_time": "2021-10-02T16:50:04.603Z"
   },
   {
    "duration": 131,
    "start_time": "2021-10-02T16:50:09.520Z"
   },
   {
    "duration": 344,
    "start_time": "2021-10-02T16:51:58.438Z"
   },
   {
    "duration": 357,
    "start_time": "2021-10-02T16:52:07.607Z"
   },
   {
    "duration": 106,
    "start_time": "2021-10-02T16:52:53.624Z"
   },
   {
    "duration": 3678,
    "start_time": "2021-10-02T16:52:58.293Z"
   },
   {
    "duration": 22,
    "start_time": "2021-10-02T16:53:05.110Z"
   },
   {
    "duration": 19,
    "start_time": "2021-10-02T16:53:17.722Z"
   },
   {
    "duration": 13,
    "start_time": "2021-10-02T16:53:24.947Z"
   },
   {
    "duration": 3690,
    "start_time": "2021-10-02T16:59:52.977Z"
   },
   {
    "duration": 129,
    "start_time": "2021-10-02T17:00:06.462Z"
   },
   {
    "duration": 3611,
    "start_time": "2021-10-02T17:01:13.516Z"
   },
   {
    "duration": 10,
    "start_time": "2021-10-02T17:01:18.648Z"
   },
   {
    "duration": 5,
    "start_time": "2021-10-02T17:01:30.169Z"
   },
   {
    "duration": 4068,
    "start_time": "2021-10-02T17:03:37.319Z"
   },
   {
    "duration": 20,
    "start_time": "2021-10-02T17:03:43.443Z"
   },
   {
    "duration": 3610,
    "start_time": "2021-10-02T17:04:48.190Z"
   },
   {
    "duration": 4,
    "start_time": "2021-10-02T17:04:52.860Z"
   },
   {
    "duration": 3579,
    "start_time": "2021-10-02T17:07:58.126Z"
   },
   {
    "duration": 4,
    "start_time": "2021-10-02T17:08:03.222Z"
   },
   {
    "duration": 3595,
    "start_time": "2021-10-02T17:08:07.035Z"
   },
   {
    "duration": 4,
    "start_time": "2021-10-02T17:08:14.656Z"
   },
   {
    "duration": 12173,
    "start_time": "2021-10-02T17:09:19.371Z"
   },
   {
    "duration": 12942,
    "start_time": "2021-10-02T17:10:07.097Z"
   },
   {
    "duration": 4,
    "start_time": "2021-10-02T17:10:25.863Z"
   },
   {
    "duration": 12123,
    "start_time": "2021-10-02T17:12:17.848Z"
   },
   {
    "duration": 4,
    "start_time": "2021-10-02T17:12:30.682Z"
   },
   {
    "duration": 21,
    "start_time": "2021-10-02T17:13:41.186Z"
   },
   {
    "duration": 4,
    "start_time": "2021-10-02T17:13:53.508Z"
   },
   {
    "duration": 106,
    "start_time": "2021-10-02T17:14:12.590Z"
   },
   {
    "duration": 3632,
    "start_time": "2021-10-02T17:14:17.414Z"
   },
   {
    "duration": 5,
    "start_time": "2021-10-02T17:14:21.475Z"
   },
   {
    "duration": 7,
    "start_time": "2021-10-02T17:15:21.492Z"
   },
   {
    "duration": 3620,
    "start_time": "2021-10-02T18:37:48.929Z"
   },
   {
    "duration": 21,
    "start_time": "2021-10-02T18:38:18.990Z"
   },
   {
    "duration": 12,
    "start_time": "2021-10-02T18:38:44.872Z"
   },
   {
    "duration": 13,
    "start_time": "2021-10-02T18:38:56.358Z"
   },
   {
    "duration": 12,
    "start_time": "2021-10-02T18:39:06.947Z"
   },
   {
    "duration": 14,
    "start_time": "2021-10-02T18:39:09.865Z"
   },
   {
    "duration": 13,
    "start_time": "2021-10-02T18:39:53.937Z"
   },
   {
    "duration": 16,
    "start_time": "2021-10-02T18:40:07.589Z"
   },
   {
    "duration": 21,
    "start_time": "2021-10-02T18:41:00.731Z"
   },
   {
    "duration": 16,
    "start_time": "2021-10-02T18:41:24.391Z"
   },
   {
    "duration": 19,
    "start_time": "2021-10-02T18:41:42.279Z"
   },
   {
    "duration": 17,
    "start_time": "2021-10-02T18:41:54.075Z"
   },
   {
    "duration": 14,
    "start_time": "2021-10-02T18:41:58.002Z"
   },
   {
    "duration": 31,
    "start_time": "2021-10-02T18:54:17.401Z"
   },
   {
    "duration": 8,
    "start_time": "2021-10-02T18:55:17.728Z"
   },
   {
    "duration": 9,
    "start_time": "2021-10-02T18:55:27.278Z"
   },
   {
    "duration": 7,
    "start_time": "2021-10-02T18:55:36.038Z"
   },
   {
    "duration": 93,
    "start_time": "2021-10-02T18:56:16.535Z"
   },
   {
    "duration": 17,
    "start_time": "2021-10-02T18:56:16.631Z"
   },
   {
    "duration": 10,
    "start_time": "2021-10-02T18:56:16.652Z"
   },
   {
    "duration": 54,
    "start_time": "2021-10-02T18:56:16.665Z"
   },
   {
    "duration": 23,
    "start_time": "2021-10-02T18:56:16.722Z"
   },
   {
    "duration": 24,
    "start_time": "2021-10-02T18:56:16.748Z"
   },
   {
    "duration": 14,
    "start_time": "2021-10-02T18:56:16.775Z"
   },
   {
    "duration": 29,
    "start_time": "2021-10-02T18:56:16.793Z"
   },
   {
    "duration": 22,
    "start_time": "2021-10-02T18:56:16.826Z"
   },
   {
    "duration": 24,
    "start_time": "2021-10-02T18:56:16.850Z"
   },
   {
    "duration": 27,
    "start_time": "2021-10-02T18:56:16.876Z"
   },
   {
    "duration": 12,
    "start_time": "2021-10-02T18:56:16.906Z"
   },
   {
    "duration": 43,
    "start_time": "2021-10-02T18:56:16.921Z"
   },
   {
    "duration": 5,
    "start_time": "2021-10-02T18:56:16.966Z"
   },
   {
    "duration": 22,
    "start_time": "2021-10-02T18:56:16.974Z"
   },
   {
    "duration": 20,
    "start_time": "2021-10-02T18:56:16.998Z"
   },
   {
    "duration": 27,
    "start_time": "2021-10-02T18:56:17.020Z"
   },
   {
    "duration": 27,
    "start_time": "2021-10-02T18:56:17.049Z"
   },
   {
    "duration": 13,
    "start_time": "2021-10-02T18:56:17.078Z"
   },
   {
    "duration": 18,
    "start_time": "2021-10-02T18:56:17.093Z"
   },
   {
    "duration": 32,
    "start_time": "2021-10-02T18:56:17.113Z"
   },
   {
    "duration": 14,
    "start_time": "2021-10-02T18:56:17.148Z"
   },
   {
    "duration": 29,
    "start_time": "2021-10-02T18:56:17.166Z"
   },
   {
    "duration": 23,
    "start_time": "2021-10-02T18:56:17.198Z"
   },
   {
    "duration": 36,
    "start_time": "2021-10-02T18:56:17.223Z"
   },
   {
    "duration": 22,
    "start_time": "2021-10-02T18:56:17.261Z"
   },
   {
    "duration": 35,
    "start_time": "2021-10-02T18:56:17.286Z"
   },
   {
    "duration": 18,
    "start_time": "2021-10-02T18:56:17.324Z"
   },
   {
    "duration": 30,
    "start_time": "2021-10-02T18:56:17.344Z"
   },
   {
    "duration": 24,
    "start_time": "2021-10-02T18:56:17.376Z"
   },
   {
    "duration": 30,
    "start_time": "2021-10-02T18:56:17.403Z"
   },
   {
    "duration": 39,
    "start_time": "2021-10-02T18:56:17.435Z"
   },
   {
    "duration": 24,
    "start_time": "2021-10-02T18:56:17.476Z"
   },
   {
    "duration": 21,
    "start_time": "2021-10-02T18:56:17.503Z"
   },
   {
    "duration": 4,
    "start_time": "2021-10-02T18:56:17.527Z"
   },
   {
    "duration": 4536,
    "start_time": "2021-10-02T18:56:17.533Z"
   },
   {
    "duration": 17,
    "start_time": "2021-10-02T18:56:22.071Z"
   },
   {
    "duration": 3630,
    "start_time": "2021-10-02T18:56:22.090Z"
   },
   {
    "duration": 8,
    "start_time": "2021-10-02T18:56:25.722Z"
   },
   {
    "duration": 3692,
    "start_time": "2021-10-02T18:56:25.733Z"
   },
   {
    "duration": 19,
    "start_time": "2021-10-02T18:56:29.428Z"
   },
   {
    "duration": 12,
    "start_time": "2021-10-02T18:56:29.449Z"
   },
   {
    "duration": 15,
    "start_time": "2021-10-02T18:56:50.128Z"
   },
   {
    "duration": 13,
    "start_time": "2021-10-02T18:56:52.857Z"
   },
   {
    "duration": 29,
    "start_time": "2021-10-02T18:56:56.160Z"
   },
   {
    "duration": 65,
    "start_time": "2021-10-02T18:57:56.972Z"
   },
   {
    "duration": 15,
    "start_time": "2021-10-02T18:57:57.039Z"
   },
   {
    "duration": 5,
    "start_time": "2021-10-02T18:57:57.057Z"
   },
   {
    "duration": 56,
    "start_time": "2021-10-02T18:57:57.065Z"
   },
   {
    "duration": 9,
    "start_time": "2021-10-02T18:57:57.123Z"
   },
   {
    "duration": 11,
    "start_time": "2021-10-02T18:57:57.134Z"
   },
   {
    "duration": 6,
    "start_time": "2021-10-02T18:57:57.147Z"
   },
   {
    "duration": 64,
    "start_time": "2021-10-02T18:57:57.157Z"
   },
   {
    "duration": 9,
    "start_time": "2021-10-02T18:57:57.224Z"
   },
   {
    "duration": 7,
    "start_time": "2021-10-02T18:57:57.235Z"
   },
   {
    "duration": 11,
    "start_time": "2021-10-02T18:57:57.245Z"
   },
   {
    "duration": 57,
    "start_time": "2021-10-02T18:57:57.259Z"
   },
   {
    "duration": 39,
    "start_time": "2021-10-02T18:57:57.318Z"
   },
   {
    "duration": 5,
    "start_time": "2021-10-02T18:57:57.360Z"
   },
   {
    "duration": 48,
    "start_time": "2021-10-02T18:57:57.368Z"
   },
   {
    "duration": 7,
    "start_time": "2021-10-02T18:57:57.419Z"
   },
   {
    "duration": 10,
    "start_time": "2021-10-02T18:57:57.429Z"
   },
   {
    "duration": 20,
    "start_time": "2021-10-02T18:57:57.442Z"
   },
   {
    "duration": 9,
    "start_time": "2021-10-02T18:57:57.465Z"
   },
   {
    "duration": 39,
    "start_time": "2021-10-02T18:57:57.477Z"
   },
   {
    "duration": 25,
    "start_time": "2021-10-02T18:57:57.518Z"
   },
   {
    "duration": 7,
    "start_time": "2021-10-02T18:57:57.545Z"
   },
   {
    "duration": 21,
    "start_time": "2021-10-02T18:57:57.557Z"
   },
   {
    "duration": 51,
    "start_time": "2021-10-02T18:57:57.581Z"
   },
   {
    "duration": 11,
    "start_time": "2021-10-02T18:57:57.635Z"
   },
   {
    "duration": 12,
    "start_time": "2021-10-02T18:57:57.649Z"
   },
   {
    "duration": 8,
    "start_time": "2021-10-02T18:57:57.663Z"
   },
   {
    "duration": 44,
    "start_time": "2021-10-02T18:57:57.673Z"
   },
   {
    "duration": 19,
    "start_time": "2021-10-02T18:57:57.720Z"
   },
   {
    "duration": 17,
    "start_time": "2021-10-02T18:57:57.742Z"
   },
   {
    "duration": 10,
    "start_time": "2021-10-02T18:57:57.761Z"
   },
   {
    "duration": 55,
    "start_time": "2021-10-02T18:57:57.774Z"
   },
   {
    "duration": 24,
    "start_time": "2021-10-02T18:57:57.832Z"
   },
   {
    "duration": 21,
    "start_time": "2021-10-02T18:57:57.858Z"
   },
   {
    "duration": 62,
    "start_time": "2021-10-02T18:57:57.881Z"
   },
   {
    "duration": 4552,
    "start_time": "2021-10-02T18:57:57.945Z"
   },
   {
    "duration": 31,
    "start_time": "2021-10-02T18:58:02.500Z"
   },
   {
    "duration": 3905,
    "start_time": "2021-10-02T18:58:02.533Z"
   },
   {
    "duration": 6,
    "start_time": "2021-10-02T18:58:06.440Z"
   },
   {
    "duration": 3672,
    "start_time": "2021-10-02T18:58:06.448Z"
   },
   {
    "duration": 20,
    "start_time": "2021-10-02T18:58:10.123Z"
   },
   {
    "duration": 14,
    "start_time": "2021-10-02T18:58:10.146Z"
   },
   {
    "duration": 10,
    "start_time": "2021-10-02T18:58:10.163Z"
   },
   {
    "duration": 30,
    "start_time": "2021-10-02T18:58:15.046Z"
   },
   {
    "duration": 395,
    "start_time": "2021-10-02T19:33:17.720Z"
   },
   {
    "duration": 9657,
    "start_time": "2021-10-02T19:33:29.545Z"
   },
   {
    "duration": -62,
    "start_time": "2021-10-02T19:33:39.267Z"
   },
   {
    "duration": 11708,
    "start_time": "2021-10-02T19:34:58.134Z"
   },
   {
    "duration": 27,
    "start_time": "2021-10-02T19:35:11.283Z"
   },
   {
    "duration": 45,
    "start_time": "2021-10-02T19:35:13.726Z"
   },
   {
    "duration": 32,
    "start_time": "2021-10-02T19:35:32.346Z"
   },
   {
    "duration": 24,
    "start_time": "2021-10-02T19:38:44.106Z"
   },
   {
    "duration": 71,
    "start_time": "2021-10-02T19:38:49.195Z"
   },
   {
    "duration": 48,
    "start_time": "2021-10-02T19:38:49.269Z"
   },
   {
    "duration": 7,
    "start_time": "2021-10-02T19:38:49.322Z"
   },
   {
    "duration": 20,
    "start_time": "2021-10-02T19:38:49.333Z"
   },
   {
    "duration": 14,
    "start_time": "2021-10-02T19:38:49.356Z"
   },
   {
    "duration": 55,
    "start_time": "2021-10-02T19:38:49.373Z"
   },
   {
    "duration": 9,
    "start_time": "2021-10-02T19:38:49.431Z"
   },
   {
    "duration": 15,
    "start_time": "2021-10-02T19:38:49.446Z"
   },
   {
    "duration": 52,
    "start_time": "2021-10-02T19:38:49.464Z"
   },
   {
    "duration": 15,
    "start_time": "2021-10-02T19:38:49.519Z"
   },
   {
    "duration": 14,
    "start_time": "2021-10-02T19:38:49.537Z"
   },
   {
    "duration": 9,
    "start_time": "2021-10-02T19:38:49.554Z"
   },
   {
    "duration": 85,
    "start_time": "2021-10-02T19:38:49.565Z"
   },
   {
    "duration": 7,
    "start_time": "2021-10-02T19:38:49.653Z"
   },
   {
    "duration": 23,
    "start_time": "2021-10-02T19:38:49.662Z"
   },
   {
    "duration": 33,
    "start_time": "2021-10-02T19:38:49.688Z"
   },
   {
    "duration": 11,
    "start_time": "2021-10-02T19:38:49.724Z"
   },
   {
    "duration": 12,
    "start_time": "2021-10-02T19:38:49.738Z"
   },
   {
    "duration": 11,
    "start_time": "2021-10-02T19:38:49.752Z"
   },
   {
    "duration": 52,
    "start_time": "2021-10-02T19:38:49.765Z"
   },
   {
    "duration": 30,
    "start_time": "2021-10-02T19:38:49.819Z"
   },
   {
    "duration": 7,
    "start_time": "2021-10-02T19:38:49.852Z"
   },
   {
    "duration": 56,
    "start_time": "2021-10-02T19:38:49.864Z"
   },
   {
    "duration": 21,
    "start_time": "2021-10-02T19:38:49.924Z"
   },
   {
    "duration": 11,
    "start_time": "2021-10-02T19:38:49.948Z"
   },
   {
    "duration": 15,
    "start_time": "2021-10-02T19:38:49.961Z"
   },
   {
    "duration": 41,
    "start_time": "2021-10-02T19:38:49.979Z"
   },
   {
    "duration": 12,
    "start_time": "2021-10-02T19:38:50.022Z"
   },
   {
    "duration": 27,
    "start_time": "2021-10-02T19:38:50.037Z"
   },
   {
    "duration": 16,
    "start_time": "2021-10-02T19:38:50.066Z"
   },
   {
    "duration": 31,
    "start_time": "2021-10-02T19:38:50.085Z"
   },
   {
    "duration": 26,
    "start_time": "2021-10-02T19:38:50.120Z"
   },
   {
    "duration": 24,
    "start_time": "2021-10-02T19:38:50.149Z"
   },
   {
    "duration": 58,
    "start_time": "2021-10-02T19:38:50.176Z"
   },
   {
    "duration": 42,
    "start_time": "2021-10-02T19:38:50.237Z"
   },
   {
    "duration": 4948,
    "start_time": "2021-10-02T19:38:50.282Z"
   },
   {
    "duration": 18,
    "start_time": "2021-10-02T19:38:55.233Z"
   },
   {
    "duration": 4008,
    "start_time": "2021-10-02T19:38:55.254Z"
   },
   {
    "duration": 8,
    "start_time": "2021-10-02T19:38:59.264Z"
   },
   {
    "duration": 4053,
    "start_time": "2021-10-02T19:38:59.275Z"
   },
   {
    "duration": 25,
    "start_time": "2021-10-02T19:39:03.330Z"
   },
   {
    "duration": 13,
    "start_time": "2021-10-02T19:39:03.358Z"
   },
   {
    "duration": 32,
    "start_time": "2021-10-02T19:39:26.533Z"
   },
   {
    "duration": 30,
    "start_time": "2021-10-02T19:39:28.634Z"
   },
   {
    "duration": 64,
    "start_time": "2021-10-02T19:40:21.210Z"
   },
   {
    "duration": 43,
    "start_time": "2021-10-02T19:40:21.277Z"
   },
   {
    "duration": 5,
    "start_time": "2021-10-02T19:40:21.323Z"
   },
   {
    "duration": 26,
    "start_time": "2021-10-02T19:40:21.330Z"
   },
   {
    "duration": 11,
    "start_time": "2021-10-02T19:40:21.359Z"
   },
   {
    "duration": 44,
    "start_time": "2021-10-02T19:40:21.372Z"
   },
   {
    "duration": 6,
    "start_time": "2021-10-02T19:40:21.419Z"
   },
   {
    "duration": 30,
    "start_time": "2021-10-02T19:40:21.427Z"
   },
   {
    "duration": 10,
    "start_time": "2021-10-02T19:40:21.462Z"
   },
   {
    "duration": 7,
    "start_time": "2021-10-02T19:40:21.476Z"
   },
   {
    "duration": 40,
    "start_time": "2021-10-02T19:40:21.485Z"
   },
   {
    "duration": 11,
    "start_time": "2021-10-02T19:40:21.528Z"
   },
   {
    "duration": 45,
    "start_time": "2021-10-02T19:40:21.542Z"
   },
   {
    "duration": 31,
    "start_time": "2021-10-02T19:40:21.590Z"
   },
   {
    "duration": 20,
    "start_time": "2021-10-02T19:40:21.624Z"
   },
   {
    "duration": 7,
    "start_time": "2021-10-02T19:40:21.647Z"
   },
   {
    "duration": 10,
    "start_time": "2021-10-02T19:40:21.656Z"
   },
   {
    "duration": 57,
    "start_time": "2021-10-02T19:40:21.668Z"
   },
   {
    "duration": 15,
    "start_time": "2021-10-02T19:40:21.727Z"
   },
   {
    "duration": 8,
    "start_time": "2021-10-02T19:40:21.745Z"
   },
   {
    "duration": 28,
    "start_time": "2021-10-02T19:40:21.755Z"
   },
   {
    "duration": 36,
    "start_time": "2021-10-02T19:40:21.785Z"
   },
   {
    "duration": 17,
    "start_time": "2021-10-02T19:40:21.823Z"
   },
   {
    "duration": 19,
    "start_time": "2021-10-02T19:40:21.842Z"
   },
   {
    "duration": 19,
    "start_time": "2021-10-02T19:40:21.863Z"
   },
   {
    "duration": 9,
    "start_time": "2021-10-02T19:40:21.917Z"
   },
   {
    "duration": 12,
    "start_time": "2021-10-02T19:40:21.932Z"
   },
   {
    "duration": 7,
    "start_time": "2021-10-02T19:40:21.948Z"
   },
   {
    "duration": 20,
    "start_time": "2021-10-02T19:40:21.957Z"
   },
   {
    "duration": 49,
    "start_time": "2021-10-02T19:40:21.979Z"
   },
   {
    "duration": 15,
    "start_time": "2021-10-02T19:40:22.030Z"
   },
   {
    "duration": 31,
    "start_time": "2021-10-02T19:40:22.048Z"
   },
   {
    "duration": 48,
    "start_time": "2021-10-02T19:40:22.081Z"
   },
   {
    "duration": 23,
    "start_time": "2021-10-02T19:40:22.131Z"
   },
   {
    "duration": 60,
    "start_time": "2021-10-02T19:40:22.157Z"
   },
   {
    "duration": 4856,
    "start_time": "2021-10-02T19:40:22.220Z"
   },
   {
    "duration": 17,
    "start_time": "2021-10-02T19:40:27.080Z"
   },
   {
    "duration": 4037,
    "start_time": "2021-10-02T19:40:27.117Z"
   },
   {
    "duration": 6,
    "start_time": "2021-10-02T19:40:31.157Z"
   },
   {
    "duration": 3919,
    "start_time": "2021-10-02T19:40:31.165Z"
   },
   {
    "duration": 37,
    "start_time": "2021-10-02T19:40:35.086Z"
   },
   {
    "duration": 14,
    "start_time": "2021-10-02T19:40:35.125Z"
   },
   {
    "duration": 34,
    "start_time": "2021-10-02T19:41:12.338Z"
   },
   {
    "duration": 81,
    "start_time": "2021-10-02T19:41:18.594Z"
   },
   {
    "duration": 7,
    "start_time": "2021-10-02T19:42:03.638Z"
   },
   {
    "duration": 26,
    "start_time": "2021-10-02T19:42:31.203Z"
   },
   {
    "duration": 33,
    "start_time": "2021-10-02T19:42:33.517Z"
   },
   {
    "duration": 22,
    "start_time": "2021-10-02T19:43:04.908Z"
   },
   {
    "duration": 209,
    "start_time": "2021-10-02T19:46:09.203Z"
   },
   {
    "duration": 11,
    "start_time": "2021-10-02T19:46:19.058Z"
   },
   {
    "duration": 15,
    "start_time": "2021-10-02T19:46:47.513Z"
   },
   {
    "duration": 17,
    "start_time": "2021-10-02T19:47:05.529Z"
   },
   {
    "duration": 14,
    "start_time": "2021-10-02T19:47:25.232Z"
   },
   {
    "duration": 11,
    "start_time": "2021-10-02T19:47:51.821Z"
   },
   {
    "duration": 33,
    "start_time": "2021-10-02T19:48:13.534Z"
   },
   {
    "duration": 17,
    "start_time": "2021-10-02T19:49:29.664Z"
   },
   {
    "duration": 31,
    "start_time": "2021-10-02T19:49:48.012Z"
   },
   {
    "duration": 17,
    "start_time": "2021-10-02T19:50:23.926Z"
   },
   {
    "duration": 19,
    "start_time": "2021-10-02T19:51:23.772Z"
   },
   {
    "duration": 21,
    "start_time": "2021-10-02T19:51:36.561Z"
   },
   {
    "duration": 24,
    "start_time": "2021-10-02T19:52:19.711Z"
   },
   {
    "duration": 37,
    "start_time": "2021-10-02T19:52:43.113Z"
   },
   {
    "duration": 10,
    "start_time": "2021-10-02T19:59:35.770Z"
   },
   {
    "duration": 32,
    "start_time": "2021-10-02T19:59:43.360Z"
   },
   {
    "duration": 7,
    "start_time": "2021-10-02T20:00:25.174Z"
   },
   {
    "duration": 11,
    "start_time": "2021-10-02T20:00:35.366Z"
   },
   {
    "duration": 11,
    "start_time": "2021-10-02T20:18:54.365Z"
   },
   {
    "duration": 11,
    "start_time": "2021-10-02T20:25:40.125Z"
   },
   {
    "duration": 14,
    "start_time": "2021-10-02T20:26:32.810Z"
   },
   {
    "duration": 34,
    "start_time": "2021-10-02T20:26:37.478Z"
   },
   {
    "duration": 117,
    "start_time": "2021-10-02T20:27:22.969Z"
   },
   {
    "duration": 55,
    "start_time": "2021-10-02T20:27:26.227Z"
   },
   {
    "duration": 13,
    "start_time": "2021-10-02T20:28:18.105Z"
   },
   {
    "duration": 58,
    "start_time": "2021-10-02T20:28:20.383Z"
   },
   {
    "duration": 340,
    "start_time": "2021-10-02T20:29:31.632Z"
   },
   {
    "duration": 60,
    "start_time": "2021-10-02T20:30:01.892Z"
   },
   {
    "duration": 363,
    "start_time": "2021-10-02T20:30:22.999Z"
   },
   {
    "duration": 344,
    "start_time": "2021-10-02T20:30:37.780Z"
   },
   {
    "duration": 33,
    "start_time": "2021-10-02T20:30:55.090Z"
   },
   {
    "duration": 339,
    "start_time": "2021-10-02T20:31:02.268Z"
   },
   {
    "duration": 41,
    "start_time": "2021-10-02T20:31:34.356Z"
   },
   {
    "duration": 42,
    "start_time": "2021-10-02T20:32:12.126Z"
   },
   {
    "duration": 327,
    "start_time": "2021-10-02T20:34:27.091Z"
   },
   {
    "duration": 37,
    "start_time": "2021-10-02T20:34:30.751Z"
   },
   {
    "duration": 344,
    "start_time": "2021-10-02T20:38:39.682Z"
   },
   {
    "duration": 35,
    "start_time": "2021-10-02T20:38:59.657Z"
   },
   {
    "duration": 38,
    "start_time": "2021-10-02T21:41:13.645Z"
   },
   {
    "duration": 79,
    "start_time": "2021-10-02T21:41:29.905Z"
   },
   {
    "duration": 21,
    "start_time": "2021-10-02T21:41:30.018Z"
   },
   {
    "duration": 8,
    "start_time": "2021-10-02T21:41:30.043Z"
   },
   {
    "duration": 69,
    "start_time": "2021-10-02T21:41:30.055Z"
   },
   {
    "duration": 22,
    "start_time": "2021-10-02T21:41:30.128Z"
   },
   {
    "duration": 19,
    "start_time": "2021-10-02T21:41:30.153Z"
   },
   {
    "duration": 9,
    "start_time": "2021-10-02T21:41:30.175Z"
   },
   {
    "duration": 42,
    "start_time": "2021-10-02T21:41:30.190Z"
   },
   {
    "duration": 17,
    "start_time": "2021-10-02T21:41:30.236Z"
   },
   {
    "duration": 17,
    "start_time": "2021-10-02T21:41:30.256Z"
   },
   {
    "duration": 20,
    "start_time": "2021-10-02T21:41:30.276Z"
   },
   {
    "duration": 13,
    "start_time": "2021-10-02T21:41:30.316Z"
   },
   {
    "duration": 45,
    "start_time": "2021-10-02T21:41:30.332Z"
   },
   {
    "duration": 5,
    "start_time": "2021-10-02T21:41:30.379Z"
   },
   {
    "duration": 41,
    "start_time": "2021-10-02T21:41:30.386Z"
   },
   {
    "duration": 7,
    "start_time": "2021-10-02T21:41:30.430Z"
   },
   {
    "duration": 25,
    "start_time": "2021-10-02T21:41:30.440Z"
   },
   {
    "duration": 14,
    "start_time": "2021-10-02T21:41:30.468Z"
   },
   {
    "duration": 36,
    "start_time": "2021-10-02T21:41:30.485Z"
   },
   {
    "duration": 11,
    "start_time": "2021-10-02T21:41:30.523Z"
   },
   {
    "duration": 36,
    "start_time": "2021-10-02T21:41:30.536Z"
   },
   {
    "duration": 22,
    "start_time": "2021-10-02T21:41:30.575Z"
   },
   {
    "duration": 33,
    "start_time": "2021-10-02T21:41:30.602Z"
   },
   {
    "duration": 22,
    "start_time": "2021-10-02T21:41:30.638Z"
   },
   {
    "duration": 26,
    "start_time": "2021-10-02T21:41:30.663Z"
   },
   {
    "duration": 26,
    "start_time": "2021-10-02T21:41:30.691Z"
   },
   {
    "duration": 16,
    "start_time": "2021-10-02T21:41:30.720Z"
   },
   {
    "duration": 26,
    "start_time": "2021-10-02T21:41:30.739Z"
   },
   {
    "duration": 22,
    "start_time": "2021-10-02T21:41:30.768Z"
   },
   {
    "duration": 23,
    "start_time": "2021-10-02T21:41:30.793Z"
   },
   {
    "duration": 12,
    "start_time": "2021-10-02T21:41:30.819Z"
   },
   {
    "duration": 35,
    "start_time": "2021-10-02T21:41:30.834Z"
   },
   {
    "duration": 44,
    "start_time": "2021-10-02T21:41:30.872Z"
   },
   {
    "duration": 25,
    "start_time": "2021-10-02T21:41:30.919Z"
   },
   {
    "duration": 35,
    "start_time": "2021-10-02T21:41:30.947Z"
   },
   {
    "duration": 4518,
    "start_time": "2021-10-02T21:41:30.985Z"
   },
   {
    "duration": 15,
    "start_time": "2021-10-02T21:41:35.517Z"
   },
   {
    "duration": 3644,
    "start_time": "2021-10-02T21:41:35.535Z"
   },
   {
    "duration": 6,
    "start_time": "2021-10-02T21:41:39.181Z"
   },
   {
    "duration": 3857,
    "start_time": "2021-10-02T21:41:39.190Z"
   },
   {
    "duration": 23,
    "start_time": "2021-10-02T21:41:43.050Z"
   },
   {
    "duration": 43,
    "start_time": "2021-10-02T21:41:43.076Z"
   },
   {
    "duration": 13,
    "start_time": "2021-10-02T21:41:43.122Z"
   },
   {
    "duration": 28,
    "start_time": "2021-10-02T21:41:43.138Z"
   },
   {
    "duration": 59,
    "start_time": "2021-10-02T21:41:43.169Z"
   },
   {
    "duration": 16,
    "start_time": "2021-10-02T21:41:43.230Z"
   },
   {
    "duration": 16,
    "start_time": "2021-10-02T21:41:43.248Z"
   },
   {
    "duration": 10,
    "start_time": "2021-10-02T21:41:43.266Z"
   },
   {
    "duration": 42,
    "start_time": "2021-10-02T21:41:43.278Z"
   },
   {
    "duration": 11,
    "start_time": "2021-10-02T21:41:43.323Z"
   },
   {
    "duration": 17,
    "start_time": "2021-10-02T21:41:43.336Z"
   },
   {
    "duration": 38,
    "start_time": "2021-10-02T21:41:48.238Z"
   },
   {
    "duration": 37,
    "start_time": "2021-10-02T21:41:51.563Z"
   },
   {
    "duration": 6,
    "start_time": "2021-10-02T21:47:11.891Z"
   },
   {
    "duration": 105,
    "start_time": "2021-10-02T21:49:20.217Z"
   },
   {
    "duration": 100,
    "start_time": "2021-10-02T21:50:01.398Z"
   },
   {
    "duration": 103,
    "start_time": "2021-10-02T21:50:37.268Z"
   },
   {
    "duration": 14,
    "start_time": "2021-10-02T21:50:54.894Z"
   },
   {
    "duration": 15,
    "start_time": "2021-10-02T21:51:34.568Z"
   },
   {
    "duration": 12,
    "start_time": "2021-10-02T21:51:38.487Z"
   },
   {
    "duration": 5,
    "start_time": "2021-10-02T21:52:25.110Z"
   },
   {
    "duration": 11,
    "start_time": "2021-10-02T21:58:24.028Z"
   },
   {
    "duration": 7396,
    "start_time": "2021-10-02T22:06:38.894Z"
   },
   {
    "duration": 7716,
    "start_time": "2021-10-02T22:07:03.281Z"
   },
   {
    "duration": 21,
    "start_time": "2021-10-02T22:07:11.904Z"
   },
   {
    "duration": 31,
    "start_time": "2021-10-02T22:07:35.202Z"
   },
   {
    "duration": 9,
    "start_time": "2021-10-02T22:07:44.926Z"
   },
   {
    "duration": 20,
    "start_time": "2021-10-02T22:08:24.762Z"
   },
   {
    "duration": 7,
    "start_time": "2021-10-02T22:08:27.847Z"
   },
   {
    "duration": 21,
    "start_time": "2021-10-02T22:08:39.592Z"
   },
   {
    "duration": 9,
    "start_time": "2021-10-02T22:08:42.313Z"
   },
   {
    "duration": 12,
    "start_time": "2021-10-02T22:09:40.625Z"
   },
   {
    "duration": 102,
    "start_time": "2021-10-02T22:10:10.923Z"
   },
   {
    "duration": 12,
    "start_time": "2021-10-02T22:10:17.026Z"
   },
   {
    "duration": 13,
    "start_time": "2021-10-02T22:10:21.517Z"
   },
   {
    "duration": 13,
    "start_time": "2021-10-02T22:11:12.777Z"
   },
   {
    "duration": 14,
    "start_time": "2021-10-02T22:14:46.255Z"
   },
   {
    "duration": 5,
    "start_time": "2021-10-02T22:14:50.553Z"
   },
   {
    "duration": 20,
    "start_time": "2021-10-02T22:14:57.430Z"
   },
   {
    "duration": 9,
    "start_time": "2021-10-02T22:14:59.910Z"
   },
   {
    "duration": 12,
    "start_time": "2021-10-02T22:15:50.394Z"
   },
   {
    "duration": 11,
    "start_time": "2021-10-02T22:17:36.614Z"
   },
   {
    "duration": 13,
    "start_time": "2021-10-02T22:17:43.617Z"
   },
   {
    "duration": 12,
    "start_time": "2021-10-02T22:17:51.717Z"
   },
   {
    "duration": 12,
    "start_time": "2021-10-02T22:17:57.041Z"
   },
   {
    "duration": 13,
    "start_time": "2021-10-02T22:20:55.572Z"
   },
   {
    "duration": 5,
    "start_time": "2021-10-02T22:20:58.158Z"
   },
   {
    "duration": 12,
    "start_time": "2021-10-02T22:21:01.222Z"
   },
   {
    "duration": 20,
    "start_time": "2021-10-02T22:21:06.870Z"
   },
   {
    "duration": 8,
    "start_time": "2021-10-02T22:21:09.680Z"
   },
   {
    "duration": 37,
    "start_time": "2021-10-02T22:21:28.507Z"
   },
   {
    "duration": 313,
    "start_time": "2021-10-02T22:23:18.960Z"
   },
   {
    "duration": 37,
    "start_time": "2021-10-02T22:24:29.836Z"
   },
   {
    "duration": 429,
    "start_time": "2021-10-02T22:25:16.529Z"
   },
   {
    "duration": 344,
    "start_time": "2021-10-02T22:25:30.636Z"
   },
   {
    "duration": 37,
    "start_time": "2021-10-02T22:26:45.854Z"
   },
   {
    "duration": 5,
    "start_time": "2021-10-02T22:27:38.890Z"
   },
   {
    "duration": 7,
    "start_time": "2021-10-02T22:27:43.192Z"
   },
   {
    "duration": 12,
    "start_time": "2021-10-02T22:27:48.258Z"
   },
   {
    "duration": 10,
    "start_time": "2021-10-02T22:29:40.000Z"
   },
   {
    "duration": 14,
    "start_time": "2021-10-02T22:32:53.745Z"
   },
   {
    "duration": 39,
    "start_time": "2021-10-02T22:33:08.487Z"
   },
   {
    "duration": 15,
    "start_time": "2021-10-02T22:33:51.356Z"
   },
   {
    "duration": 15,
    "start_time": "2021-10-02T22:34:20.627Z"
   },
   {
    "duration": 15,
    "start_time": "2021-10-02T22:34:54.130Z"
   },
   {
    "duration": 490,
    "start_time": "2021-10-02T22:35:47.721Z"
   },
   {
    "duration": 12,
    "start_time": "2021-10-02T22:36:08.365Z"
   },
   {
    "duration": 328,
    "start_time": "2021-10-02T22:36:11.017Z"
   },
   {
    "duration": 41,
    "start_time": "2021-10-02T22:36:29.554Z"
   },
   {
    "duration": 47,
    "start_time": "2021-10-02T22:36:49.974Z"
   },
   {
    "duration": 43,
    "start_time": "2021-10-02T22:36:53.634Z"
   },
   {
    "duration": 66,
    "start_time": "2021-10-02T22:37:07.605Z"
   },
   {
    "duration": 44,
    "start_time": "2021-10-02T22:37:07.673Z"
   },
   {
    "duration": 5,
    "start_time": "2021-10-02T22:37:07.721Z"
   },
   {
    "duration": 19,
    "start_time": "2021-10-02T22:37:07.729Z"
   },
   {
    "duration": 10,
    "start_time": "2021-10-02T22:37:07.750Z"
   },
   {
    "duration": 64,
    "start_time": "2021-10-02T22:37:07.762Z"
   },
   {
    "duration": 4,
    "start_time": "2021-10-02T22:37:07.829Z"
   },
   {
    "duration": 16,
    "start_time": "2021-10-02T22:37:07.838Z"
   },
   {
    "duration": 9,
    "start_time": "2021-10-02T22:37:07.857Z"
   },
   {
    "duration": 52,
    "start_time": "2021-10-02T22:37:07.868Z"
   },
   {
    "duration": 10,
    "start_time": "2021-10-02T22:37:07.923Z"
   },
   {
    "duration": 10,
    "start_time": "2021-10-02T22:37:07.935Z"
   },
   {
    "duration": 75,
    "start_time": "2021-10-02T22:37:07.947Z"
   },
   {
    "duration": 5,
    "start_time": "2021-10-02T22:37:08.025Z"
   },
   {
    "duration": 16,
    "start_time": "2021-10-02T22:37:08.032Z"
   },
   {
    "duration": 6,
    "start_time": "2021-10-02T22:37:08.051Z"
   },
   {
    "duration": 10,
    "start_time": "2021-10-02T22:37:08.059Z"
   },
   {
    "duration": 50,
    "start_time": "2021-10-02T22:37:08.072Z"
   },
   {
    "duration": 10,
    "start_time": "2021-10-02T22:37:08.124Z"
   },
   {
    "duration": 7,
    "start_time": "2021-10-02T22:37:08.137Z"
   },
   {
    "duration": 24,
    "start_time": "2021-10-02T22:37:08.147Z"
   },
   {
    "duration": 44,
    "start_time": "2021-10-02T22:37:08.174Z"
   },
   {
    "duration": 20,
    "start_time": "2021-10-02T22:37:08.224Z"
   },
   {
    "duration": 19,
    "start_time": "2021-10-02T22:37:08.247Z"
   },
   {
    "duration": 49,
    "start_time": "2021-10-02T22:37:08.269Z"
   },
   {
    "duration": 9,
    "start_time": "2021-10-02T22:37:08.321Z"
   },
   {
    "duration": 8,
    "start_time": "2021-10-02T22:37:08.333Z"
   },
   {
    "duration": 8,
    "start_time": "2021-10-02T22:37:08.343Z"
   },
   {
    "duration": 20,
    "start_time": "2021-10-02T22:37:08.353Z"
   },
   {
    "duration": 49,
    "start_time": "2021-10-02T22:37:08.376Z"
   },
   {
    "duration": 13,
    "start_time": "2021-10-02T22:37:08.427Z"
   },
   {
    "duration": 27,
    "start_time": "2021-10-02T22:37:08.443Z"
   },
   {
    "duration": 48,
    "start_time": "2021-10-02T22:37:08.473Z"
   },
   {
    "duration": 23,
    "start_time": "2021-10-02T22:37:08.524Z"
   },
   {
    "duration": 33,
    "start_time": "2021-10-02T22:37:08.549Z"
   },
   {
    "duration": 4655,
    "start_time": "2021-10-02T22:37:08.585Z"
   },
   {
    "duration": 20,
    "start_time": "2021-10-02T22:37:13.243Z"
   },
   {
    "duration": 3623,
    "start_time": "2021-10-02T22:37:13.266Z"
   },
   {
    "duration": 24,
    "start_time": "2021-10-02T22:37:16.892Z"
   },
   {
    "duration": 3614,
    "start_time": "2021-10-02T22:37:16.919Z"
   },
   {
    "duration": 22,
    "start_time": "2021-10-02T22:37:20.536Z"
   },
   {
    "duration": 15,
    "start_time": "2021-10-02T22:37:20.561Z"
   },
   {
    "duration": 43,
    "start_time": "2021-10-02T22:37:20.579Z"
   },
   {
    "duration": 43,
    "start_time": "2021-10-02T22:37:20.625Z"
   },
   {
    "duration": 21,
    "start_time": "2021-10-02T22:37:20.670Z"
   },
   {
    "duration": 18,
    "start_time": "2021-10-02T22:37:20.718Z"
   },
   {
    "duration": 23,
    "start_time": "2021-10-02T22:37:20.739Z"
   },
   {
    "duration": 51,
    "start_time": "2021-10-02T22:37:20.765Z"
   },
   {
    "duration": 11,
    "start_time": "2021-10-02T22:37:20.818Z"
   },
   {
    "duration": 13,
    "start_time": "2021-10-02T22:37:20.831Z"
   },
   {
    "duration": 21,
    "start_time": "2021-10-02T22:37:20.846Z"
   },
   {
    "duration": 68,
    "start_time": "2021-10-02T22:37:20.869Z"
   },
   {
    "duration": 13,
    "start_time": "2021-10-02T22:37:20.940Z"
   },
   {
    "duration": 24,
    "start_time": "2021-10-02T22:37:20.955Z"
   },
   {
    "duration": 27,
    "start_time": "2021-10-02T22:37:20.982Z"
   },
   {
    "duration": 35,
    "start_time": "2021-10-02T22:37:21.012Z"
   },
   {
    "duration": 20,
    "start_time": "2021-10-02T22:37:21.050Z"
   },
   {
    "duration": 11,
    "start_time": "2021-10-02T22:37:21.073Z"
   },
   {
    "duration": 12,
    "start_time": "2021-10-02T22:37:21.087Z"
   },
   {
    "duration": 43,
    "start_time": "2021-10-02T22:37:21.116Z"
   },
   {
    "duration": 45,
    "start_time": "2021-10-02T22:37:29.782Z"
   },
   {
    "duration": 25,
    "start_time": "2021-10-02T22:38:14.863Z"
   },
   {
    "duration": 12,
    "start_time": "2021-10-02T22:38:26.091Z"
   },
   {
    "duration": 13,
    "start_time": "2021-10-02T22:38:38.905Z"
   },
   {
    "duration": 13,
    "start_time": "2021-10-02T22:38:44.916Z"
   },
   {
    "duration": 15,
    "start_time": "2021-10-02T22:38:55.320Z"
   },
   {
    "duration": 69,
    "start_time": "2021-10-02T22:45:21.112Z"
   },
   {
    "duration": 14,
    "start_time": "2021-10-02T22:45:21.183Z"
   },
   {
    "duration": 6,
    "start_time": "2021-10-02T22:45:21.216Z"
   },
   {
    "duration": 21,
    "start_time": "2021-10-02T22:45:21.224Z"
   },
   {
    "duration": 11,
    "start_time": "2021-10-02T22:45:21.248Z"
   },
   {
    "duration": 59,
    "start_time": "2021-10-02T22:45:21.262Z"
   },
   {
    "duration": 5,
    "start_time": "2021-10-02T22:45:21.324Z"
   },
   {
    "duration": 16,
    "start_time": "2021-10-02T22:45:21.333Z"
   },
   {
    "duration": 9,
    "start_time": "2021-10-02T22:45:21.352Z"
   },
   {
    "duration": 54,
    "start_time": "2021-10-02T22:45:21.364Z"
   },
   {
    "duration": 13,
    "start_time": "2021-10-02T22:45:21.420Z"
   },
   {
    "duration": 10,
    "start_time": "2021-10-02T22:45:21.435Z"
   },
   {
    "duration": 31,
    "start_time": "2021-10-02T22:45:21.448Z"
   },
   {
    "duration": 7,
    "start_time": "2021-10-02T22:45:21.516Z"
   },
   {
    "duration": 17,
    "start_time": "2021-10-02T22:45:21.525Z"
   },
   {
    "duration": 6,
    "start_time": "2021-10-02T22:45:21.545Z"
   },
   {
    "duration": 11,
    "start_time": "2021-10-02T22:45:21.553Z"
   },
   {
    "duration": 55,
    "start_time": "2021-10-02T22:45:21.567Z"
   },
   {
    "duration": 15,
    "start_time": "2021-10-02T22:45:21.625Z"
   },
   {
    "duration": 12,
    "start_time": "2021-10-02T22:45:21.642Z"
   },
   {
    "duration": 24,
    "start_time": "2021-10-02T22:45:21.656Z"
   },
   {
    "duration": 33,
    "start_time": "2021-10-02T22:45:21.683Z"
   },
   {
    "duration": 17,
    "start_time": "2021-10-02T22:45:21.722Z"
   },
   {
    "duration": 18,
    "start_time": "2021-10-02T22:45:21.742Z"
   },
   {
    "duration": 17,
    "start_time": "2021-10-02T22:45:21.762Z"
   },
   {
    "duration": 42,
    "start_time": "2021-10-02T22:45:21.781Z"
   },
   {
    "duration": 12,
    "start_time": "2021-10-02T22:45:21.825Z"
   },
   {
    "duration": 411,
    "start_time": "2021-10-02T22:45:21.840Z"
   },
   {
    "duration": 168,
    "start_time": "2021-10-02T22:45:22.085Z"
   },
   {
    "duration": 167,
    "start_time": "2021-10-02T22:45:22.088Z"
   },
   {
    "duration": 163,
    "start_time": "2021-10-02T22:45:22.094Z"
   },
   {
    "duration": 160,
    "start_time": "2021-10-02T22:45:22.098Z"
   },
   {
    "duration": 158,
    "start_time": "2021-10-02T22:45:22.102Z"
   },
   {
    "duration": 155,
    "start_time": "2021-10-02T22:45:22.106Z"
   },
   {
    "duration": 154,
    "start_time": "2021-10-02T22:45:22.109Z"
   },
   {
    "duration": 152,
    "start_time": "2021-10-02T22:45:22.112Z"
   },
   {
    "duration": 150,
    "start_time": "2021-10-02T22:45:22.116Z"
   },
   {
    "duration": 147,
    "start_time": "2021-10-02T22:45:22.120Z"
   },
   {
    "duration": 146,
    "start_time": "2021-10-02T22:45:22.123Z"
   },
   {
    "duration": 143,
    "start_time": "2021-10-02T22:45:22.127Z"
   },
   {
    "duration": 142,
    "start_time": "2021-10-02T22:45:22.130Z"
   },
   {
    "duration": 141,
    "start_time": "2021-10-02T22:45:22.133Z"
   },
   {
    "duration": 128,
    "start_time": "2021-10-02T22:45:22.147Z"
   },
   {
    "duration": 126,
    "start_time": "2021-10-02T22:45:22.151Z"
   },
   {
    "duration": 123,
    "start_time": "2021-10-02T22:45:22.155Z"
   },
   {
    "duration": 121,
    "start_time": "2021-10-02T22:45:22.159Z"
   },
   {
    "duration": 118,
    "start_time": "2021-10-02T22:45:22.163Z"
   },
   {
    "duration": 117,
    "start_time": "2021-10-02T22:45:22.166Z"
   },
   {
    "duration": 115,
    "start_time": "2021-10-02T22:45:22.170Z"
   },
   {
    "duration": 112,
    "start_time": "2021-10-02T22:45:22.174Z"
   },
   {
    "duration": 111,
    "start_time": "2021-10-02T22:45:22.177Z"
   },
   {
    "duration": 137,
    "start_time": "2021-10-02T22:45:22.180Z"
   },
   {
    "duration": 134,
    "start_time": "2021-10-02T22:45:22.184Z"
   },
   {
    "duration": 134,
    "start_time": "2021-10-02T22:45:22.186Z"
   },
   {
    "duration": 132,
    "start_time": "2021-10-02T22:45:22.190Z"
   },
   {
    "duration": 130,
    "start_time": "2021-10-02T22:45:22.194Z"
   },
   {
    "duration": 129,
    "start_time": "2021-10-02T22:45:22.197Z"
   },
   {
    "duration": 128,
    "start_time": "2021-10-02T22:45:22.200Z"
   },
   {
    "duration": 127,
    "start_time": "2021-10-02T22:45:22.203Z"
   },
   {
    "duration": 125,
    "start_time": "2021-10-02T22:45:22.207Z"
   },
   {
    "duration": 123,
    "start_time": "2021-10-02T22:45:22.211Z"
   },
   {
    "duration": 76,
    "start_time": "2021-10-02T22:47:50.150Z"
   },
   {
    "duration": 19,
    "start_time": "2021-10-02T22:47:50.230Z"
   },
   {
    "duration": 6,
    "start_time": "2021-10-02T22:47:50.253Z"
   },
   {
    "duration": 73,
    "start_time": "2021-10-02T22:47:50.263Z"
   },
   {
    "duration": 11,
    "start_time": "2021-10-02T22:47:50.339Z"
   },
   {
    "duration": 16,
    "start_time": "2021-10-02T22:47:50.353Z"
   },
   {
    "duration": 47,
    "start_time": "2021-10-02T22:47:50.372Z"
   },
   {
    "duration": 35,
    "start_time": "2021-10-02T22:47:50.425Z"
   },
   {
    "duration": 13,
    "start_time": "2021-10-02T22:47:50.464Z"
   },
   {
    "duration": 29,
    "start_time": "2021-10-02T22:47:50.479Z"
   },
   {
    "duration": 20,
    "start_time": "2021-10-02T22:47:50.511Z"
   },
   {
    "duration": 17,
    "start_time": "2021-10-02T22:47:50.535Z"
   },
   {
    "duration": 65,
    "start_time": "2021-10-02T22:47:50.555Z"
   },
   {
    "duration": 5,
    "start_time": "2021-10-02T22:47:50.622Z"
   },
   {
    "duration": 27,
    "start_time": "2021-10-02T22:47:50.629Z"
   },
   {
    "duration": 26,
    "start_time": "2021-10-02T22:47:50.659Z"
   },
   {
    "duration": 34,
    "start_time": "2021-10-02T22:47:50.687Z"
   },
   {
    "duration": 15,
    "start_time": "2021-10-02T22:47:50.724Z"
   },
   {
    "duration": 21,
    "start_time": "2021-10-02T22:47:50.742Z"
   },
   {
    "duration": 11,
    "start_time": "2021-10-02T22:47:50.766Z"
   },
   {
    "duration": 31,
    "start_time": "2021-10-02T22:47:50.779Z"
   },
   {
    "duration": 16,
    "start_time": "2021-10-02T22:47:50.816Z"
   },
   {
    "duration": 18,
    "start_time": "2021-10-02T22:47:50.838Z"
   },
   {
    "duration": 18,
    "start_time": "2021-10-02T22:47:50.859Z"
   },
   {
    "duration": 39,
    "start_time": "2021-10-02T22:47:50.879Z"
   },
   {
    "duration": 18,
    "start_time": "2021-10-02T22:47:50.920Z"
   },
   {
    "duration": 28,
    "start_time": "2021-10-02T22:47:50.940Z"
   },
   {
    "duration": 24,
    "start_time": "2021-10-02T22:47:50.970Z"
   },
   {
    "duration": 20,
    "start_time": "2021-10-02T22:47:50.997Z"
   },
   {
    "duration": 17,
    "start_time": "2021-10-02T22:47:51.019Z"
   },
   {
    "duration": 25,
    "start_time": "2021-10-02T22:47:51.038Z"
   },
   {
    "duration": 49,
    "start_time": "2021-10-02T22:47:51.065Z"
   },
   {
    "duration": 27,
    "start_time": "2021-10-02T22:47:51.117Z"
   },
   {
    "duration": 23,
    "start_time": "2021-10-02T22:47:51.147Z"
   },
   {
    "duration": 52,
    "start_time": "2021-10-02T22:47:51.172Z"
   },
   {
    "duration": 4716,
    "start_time": "2021-10-02T22:47:51.226Z"
   },
   {
    "duration": 17,
    "start_time": "2021-10-02T22:47:55.945Z"
   },
   {
    "duration": 3607,
    "start_time": "2021-10-02T22:47:55.965Z"
   },
   {
    "duration": 8,
    "start_time": "2021-10-02T22:47:59.575Z"
   },
   {
    "duration": 3634,
    "start_time": "2021-10-02T22:47:59.586Z"
   },
   {
    "duration": 19,
    "start_time": "2021-10-02T22:48:03.223Z"
   },
   {
    "duration": 13,
    "start_time": "2021-10-02T22:48:03.244Z"
   },
   {
    "duration": 35,
    "start_time": "2021-10-02T22:48:03.259Z"
   },
   {
    "duration": 42,
    "start_time": "2021-10-02T22:48:03.296Z"
   },
   {
    "duration": 17,
    "start_time": "2021-10-02T22:48:03.341Z"
   },
   {
    "duration": 16,
    "start_time": "2021-10-02T22:48:03.361Z"
   },
   {
    "duration": 42,
    "start_time": "2021-10-02T22:48:03.379Z"
   },
   {
    "duration": 10,
    "start_time": "2021-10-02T22:48:03.423Z"
   },
   {
    "duration": 18,
    "start_time": "2021-10-02T22:48:03.435Z"
   },
   {
    "duration": 15,
    "start_time": "2021-10-02T22:48:03.455Z"
   },
   {
    "duration": 44,
    "start_time": "2021-10-02T22:48:03.472Z"
   },
   {
    "duration": 41,
    "start_time": "2021-10-02T22:48:03.519Z"
   },
   {
    "duration": 13,
    "start_time": "2021-10-02T22:48:03.563Z"
   },
   {
    "duration": 21,
    "start_time": "2021-10-02T22:48:03.579Z"
   },
   {
    "duration": 10,
    "start_time": "2021-10-02T22:48:03.616Z"
   },
   {
    "duration": 23,
    "start_time": "2021-10-02T22:48:03.629Z"
   },
   {
    "duration": 15,
    "start_time": "2021-10-02T22:48:03.654Z"
   },
   {
    "duration": 44,
    "start_time": "2021-10-02T22:48:03.672Z"
   },
   {
    "duration": 11,
    "start_time": "2021-10-02T22:48:03.719Z"
   },
   {
    "duration": 42,
    "start_time": "2021-10-02T22:48:03.733Z"
   },
   {
    "duration": 45,
    "start_time": "2021-10-02T22:48:03.778Z"
   },
   {
    "duration": 16,
    "start_time": "2021-10-02T22:48:20.721Z"
   },
   {
    "duration": 13,
    "start_time": "2021-10-02T22:48:26.661Z"
   },
   {
    "duration": 13,
    "start_time": "2021-10-02T22:48:52.834Z"
   },
   {
    "duration": 40,
    "start_time": "2021-10-02T22:50:00.564Z"
   },
   {
    "duration": 39,
    "start_time": "2021-10-02T22:51:34.163Z"
   },
   {
    "duration": 43,
    "start_time": "2021-10-02T22:51:38.778Z"
   },
   {
    "duration": 10,
    "start_time": "2021-10-02T23:01:40.268Z"
   },
   {
    "duration": 11,
    "start_time": "2021-10-02T23:03:27.965Z"
   },
   {
    "duration": 116,
    "start_time": "2021-10-02T23:04:16.705Z"
   },
   {
    "duration": 18,
    "start_time": "2021-10-02T23:04:33.083Z"
   },
   {
    "duration": 75,
    "start_time": "2021-10-02T23:04:39.422Z"
   },
   {
    "duration": 29,
    "start_time": "2021-10-02T23:05:50.890Z"
   },
   {
    "duration": 21,
    "start_time": "2021-10-02T23:06:01.584Z"
   },
   {
    "duration": 566,
    "start_time": "2021-10-02T23:06:55.517Z"
   },
   {
    "duration": 76,
    "start_time": "2021-10-02T23:06:59.882Z"
   },
   {
    "duration": 20,
    "start_time": "2021-10-02T23:10:23.797Z"
   },
   {
    "duration": 22,
    "start_time": "2021-10-02T23:12:30.878Z"
   },
   {
    "duration": 16,
    "start_time": "2021-10-02T23:12:41.475Z"
   },
   {
    "duration": 111,
    "start_time": "2021-10-02T23:25:13.612Z"
   },
   {
    "duration": 292,
    "start_time": "2021-10-02T23:25:22.961Z"
   },
   {
    "duration": 20,
    "start_time": "2021-10-02T23:26:25.650Z"
   },
   {
    "duration": 200,
    "start_time": "2021-10-02T23:26:42.023Z"
   },
   {
    "duration": 17,
    "start_time": "2021-10-02T23:26:47.326Z"
   },
   {
    "duration": 18,
    "start_time": "2021-10-02T23:27:36.019Z"
   },
   {
    "duration": 28,
    "start_time": "2021-10-02T23:27:55.315Z"
   },
   {
    "duration": 30,
    "start_time": "2021-10-02T23:29:49.348Z"
   },
   {
    "duration": 27,
    "start_time": "2021-10-02T23:30:03.201Z"
   },
   {
    "duration": 17,
    "start_time": "2021-10-02T23:30:44.889Z"
   },
   {
    "duration": 790,
    "start_time": "2021-10-02T23:31:12.160Z"
   },
   {
    "duration": 795,
    "start_time": "2021-10-02T23:31:26.351Z"
   },
   {
    "duration": 787,
    "start_time": "2021-10-02T23:31:38.662Z"
   },
   {
    "duration": 19,
    "start_time": "2021-10-02T23:31:51.688Z"
   },
   {
    "duration": 17,
    "start_time": "2021-10-02T23:32:35.131Z"
   },
   {
    "duration": 18,
    "start_time": "2021-10-02T23:32:41.947Z"
   },
   {
    "duration": 8341,
    "start_time": "2021-10-02T23:34:37.044Z"
   },
   {
    "duration": 8090,
    "start_time": "2021-10-02T23:35:09.786Z"
   },
   {
    "duration": 9,
    "start_time": "2021-10-02T23:35:18.898Z"
   },
   {
    "duration": 8127,
    "start_time": "2021-10-02T23:35:37.778Z"
   },
   {
    "duration": 22,
    "start_time": "2021-10-02T23:36:39.398Z"
   },
   {
    "duration": 16,
    "start_time": "2021-10-02T23:36:49.278Z"
   },
   {
    "duration": 16,
    "start_time": "2021-10-02T23:37:07.816Z"
   },
   {
    "duration": 4,
    "start_time": "2021-10-02T23:39:16.701Z"
   },
   {
    "duration": 4,
    "start_time": "2021-10-02T23:39:24.510Z"
   },
   {
    "duration": 338,
    "start_time": "2021-10-02T23:51:38.241Z"
   },
   {
    "duration": 302,
    "start_time": "2021-10-02T23:51:52.565Z"
   },
   {
    "duration": 21,
    "start_time": "2021-10-02T23:52:03.885Z"
   },
   {
    "duration": 33,
    "start_time": "2021-10-02T23:53:16.700Z"
   },
   {
    "duration": 38,
    "start_time": "2021-10-02T23:53:42.152Z"
   },
   {
    "duration": 21,
    "start_time": "2021-10-02T23:53:53.043Z"
   },
   {
    "duration": 11883,
    "start_time": "2021-10-02T23:54:12.897Z"
   },
   {
    "duration": 29,
    "start_time": "2021-10-02T23:55:09.921Z"
   },
   {
    "duration": 551,
    "start_time": "2021-10-02T23:55:37.318Z"
   },
   {
    "duration": 22,
    "start_time": "2021-10-02T23:56:04.126Z"
   },
   {
    "duration": 25,
    "start_time": "2021-10-02T23:56:20.589Z"
   },
   {
    "duration": 30,
    "start_time": "2021-10-02T23:56:55.468Z"
   },
   {
    "duration": 28,
    "start_time": "2021-10-03T00:02:08.209Z"
   },
   {
    "duration": 69,
    "start_time": "2021-10-03T00:03:18.137Z"
   },
   {
    "duration": 15,
    "start_time": "2021-10-03T00:03:18.209Z"
   },
   {
    "duration": 6,
    "start_time": "2021-10-03T00:03:18.228Z"
   },
   {
    "duration": 28,
    "start_time": "2021-10-03T00:03:18.237Z"
   },
   {
    "duration": 50,
    "start_time": "2021-10-03T00:03:18.269Z"
   },
   {
    "duration": 15,
    "start_time": "2021-10-03T00:03:18.322Z"
   },
   {
    "duration": 12,
    "start_time": "2021-10-03T00:03:18.340Z"
   },
   {
    "duration": 26,
    "start_time": "2021-10-03T00:03:18.354Z"
   },
   {
    "duration": 38,
    "start_time": "2021-10-03T00:03:18.384Z"
   },
   {
    "duration": 6,
    "start_time": "2021-10-03T00:03:18.426Z"
   },
   {
    "duration": 15,
    "start_time": "2021-10-03T00:03:18.434Z"
   },
   {
    "duration": 9,
    "start_time": "2021-10-03T00:03:18.451Z"
   },
   {
    "duration": 92,
    "start_time": "2021-10-03T00:03:18.462Z"
   },
   {
    "duration": 7,
    "start_time": "2021-10-03T00:03:18.557Z"
   },
   {
    "duration": 18,
    "start_time": "2021-10-03T00:03:18.567Z"
   },
   {
    "duration": 33,
    "start_time": "2021-10-03T00:03:18.588Z"
   },
   {
    "duration": 16,
    "start_time": "2021-10-03T00:03:18.625Z"
   },
   {
    "duration": 13,
    "start_time": "2021-10-03T00:03:18.644Z"
   },
   {
    "duration": 14,
    "start_time": "2021-10-03T00:03:18.660Z"
   },
   {
    "duration": 42,
    "start_time": "2021-10-03T00:03:18.677Z"
   },
   {
    "duration": 27,
    "start_time": "2021-10-03T00:03:18.722Z"
   },
   {
    "duration": 9,
    "start_time": "2021-10-03T00:03:18.752Z"
   },
   {
    "duration": 58,
    "start_time": "2021-10-03T00:03:18.764Z"
   },
   {
    "duration": 19,
    "start_time": "2021-10-03T00:03:18.825Z"
   },
   {
    "duration": 18,
    "start_time": "2021-10-03T00:03:18.847Z"
   },
   {
    "duration": 12,
    "start_time": "2021-10-03T00:03:18.868Z"
   },
   {
    "duration": 6,
    "start_time": "2021-10-03T00:03:18.919Z"
   },
   {
    "duration": 12,
    "start_time": "2021-10-03T00:03:18.928Z"
   },
   {
    "duration": 17,
    "start_time": "2021-10-03T00:03:18.942Z"
   },
   {
    "duration": 15,
    "start_time": "2021-10-03T00:03:18.961Z"
   },
   {
    "duration": 37,
    "start_time": "2021-10-03T00:03:18.979Z"
   },
   {
    "duration": 22,
    "start_time": "2021-10-03T00:03:19.019Z"
   },
   {
    "duration": 24,
    "start_time": "2021-10-03T00:03:19.044Z"
   },
   {
    "duration": 51,
    "start_time": "2021-10-03T00:03:19.071Z"
   },
   {
    "duration": 34,
    "start_time": "2021-10-03T00:03:19.124Z"
   },
   {
    "duration": 4517,
    "start_time": "2021-10-03T00:03:19.161Z"
   },
   {
    "duration": 18,
    "start_time": "2021-10-03T00:03:23.681Z"
   },
   {
    "duration": 3615,
    "start_time": "2021-10-03T00:03:23.717Z"
   },
   {
    "duration": 6,
    "start_time": "2021-10-03T00:03:27.335Z"
   },
   {
    "duration": 3549,
    "start_time": "2021-10-03T00:03:27.344Z"
   },
   {
    "duration": 31,
    "start_time": "2021-10-03T00:03:30.896Z"
   },
   {
    "duration": 14,
    "start_time": "2021-10-03T00:03:30.930Z"
   },
   {
    "duration": 30,
    "start_time": "2021-10-03T00:03:30.947Z"
   },
   {
    "duration": 59,
    "start_time": "2021-10-03T00:03:30.979Z"
   },
   {
    "duration": 17,
    "start_time": "2021-10-03T00:03:31.040Z"
   },
   {
    "duration": 16,
    "start_time": "2021-10-03T00:03:31.060Z"
   },
   {
    "duration": 46,
    "start_time": "2021-10-03T00:03:31.079Z"
   },
   {
    "duration": 10,
    "start_time": "2021-10-03T00:03:31.128Z"
   },
   {
    "duration": 29,
    "start_time": "2021-10-03T00:03:31.141Z"
   },
   {
    "duration": 11,
    "start_time": "2021-10-03T00:03:31.172Z"
   },
   {
    "duration": 41,
    "start_time": "2021-10-03T00:03:31.185Z"
   },
   {
    "duration": 23,
    "start_time": "2021-10-03T00:03:31.228Z"
   },
   {
    "duration": 42,
    "start_time": "2021-10-03T00:03:31.254Z"
   },
   {
    "duration": 25,
    "start_time": "2021-10-03T00:03:31.298Z"
   },
   {
    "duration": 6,
    "start_time": "2021-10-03T00:03:31.326Z"
   },
   {
    "duration": 26,
    "start_time": "2021-10-03T00:03:31.335Z"
   },
   {
    "duration": 30,
    "start_time": "2021-10-03T00:03:31.363Z"
   },
   {
    "duration": 30,
    "start_time": "2021-10-03T00:03:31.395Z"
   },
   {
    "duration": 13,
    "start_time": "2021-10-03T00:03:31.428Z"
   },
   {
    "duration": 18,
    "start_time": "2021-10-03T00:03:31.443Z"
   },
   {
    "duration": 70,
    "start_time": "2021-10-03T00:03:31.463Z"
   },
   {
    "duration": 19,
    "start_time": "2021-10-03T00:03:31.536Z"
   },
   {
    "duration": 11,
    "start_time": "2021-10-03T00:03:31.557Z"
   },
   {
    "duration": 48,
    "start_time": "2021-10-03T00:03:31.570Z"
   },
   {
    "duration": 24,
    "start_time": "2021-10-03T00:03:31.621Z"
   },
   {
    "duration": 14,
    "start_time": "2021-10-03T00:03:31.648Z"
   },
   {
    "duration": 25,
    "start_time": "2021-10-03T00:03:31.664Z"
   },
   {
    "duration": 39,
    "start_time": "2021-10-03T00:03:31.692Z"
   },
   {
    "duration": 15,
    "start_time": "2021-10-03T00:03:31.734Z"
   },
   {
    "duration": 42,
    "start_time": "2021-10-03T00:03:31.752Z"
   },
   {
    "duration": 44,
    "start_time": "2021-10-03T00:03:31.796Z"
   },
   {
    "duration": 71,
    "start_time": "2021-10-03T00:09:20.642Z"
   },
   {
    "duration": 16,
    "start_time": "2021-10-03T00:09:20.715Z"
   },
   {
    "duration": 8,
    "start_time": "2021-10-03T00:09:20.734Z"
   },
   {
    "duration": 29,
    "start_time": "2021-10-03T00:09:20.744Z"
   },
   {
    "duration": 45,
    "start_time": "2021-10-03T00:09:20.776Z"
   },
   {
    "duration": 10,
    "start_time": "2021-10-03T00:09:20.823Z"
   },
   {
    "duration": 13,
    "start_time": "2021-10-03T00:09:20.836Z"
   },
   {
    "duration": 42,
    "start_time": "2021-10-03T00:09:20.853Z"
   },
   {
    "duration": 23,
    "start_time": "2021-10-03T00:09:20.898Z"
   },
   {
    "duration": 19,
    "start_time": "2021-10-03T00:09:20.923Z"
   },
   {
    "duration": 17,
    "start_time": "2021-10-03T00:09:20.944Z"
   },
   {
    "duration": 15,
    "start_time": "2021-10-03T00:09:20.964Z"
   },
   {
    "duration": 72,
    "start_time": "2021-10-03T00:09:20.982Z"
   },
   {
    "duration": 6,
    "start_time": "2021-10-03T00:09:21.056Z"
   },
   {
    "duration": 22,
    "start_time": "2021-10-03T00:09:21.064Z"
   },
   {
    "duration": 6,
    "start_time": "2021-10-03T00:09:21.088Z"
   },
   {
    "duration": 6,
    "start_time": "2021-10-03T00:09:21.117Z"
   },
   {
    "duration": 14,
    "start_time": "2021-10-03T00:09:21.125Z"
   },
   {
    "duration": 12,
    "start_time": "2021-10-03T00:09:21.141Z"
   },
   {
    "duration": 15,
    "start_time": "2021-10-03T00:09:21.155Z"
   },
   {
    "duration": 56,
    "start_time": "2021-10-03T00:09:21.172Z"
   },
   {
    "duration": 7,
    "start_time": "2021-10-03T00:09:21.230Z"
   },
   {
    "duration": 17,
    "start_time": "2021-10-03T00:09:21.243Z"
   },
   {
    "duration": 18,
    "start_time": "2021-10-03T00:09:21.263Z"
   },
   {
    "duration": 38,
    "start_time": "2021-10-03T00:09:21.283Z"
   },
   {
    "duration": 15,
    "start_time": "2021-10-03T00:09:21.323Z"
   },
   {
    "duration": 16,
    "start_time": "2021-10-03T00:09:21.340Z"
   },
   {
    "duration": 9,
    "start_time": "2021-10-03T00:09:21.358Z"
   },
   {
    "duration": 27,
    "start_time": "2021-10-03T00:09:21.370Z"
   },
   {
    "duration": 16,
    "start_time": "2021-10-03T00:09:21.417Z"
   },
   {
    "duration": 11,
    "start_time": "2021-10-03T00:09:21.435Z"
   },
   {
    "duration": 30,
    "start_time": "2021-10-03T00:09:21.449Z"
   },
   {
    "duration": 52,
    "start_time": "2021-10-03T00:09:21.482Z"
   },
   {
    "duration": 21,
    "start_time": "2021-10-03T00:09:21.537Z"
   },
   {
    "duration": 56,
    "start_time": "2021-10-03T00:09:21.560Z"
   },
   {
    "duration": 4464,
    "start_time": "2021-10-03T00:09:21.618Z"
   },
   {
    "duration": 17,
    "start_time": "2021-10-03T00:09:26.085Z"
   },
   {
    "duration": 3669,
    "start_time": "2021-10-03T00:09:26.117Z"
   },
   {
    "duration": 11,
    "start_time": "2021-10-03T00:09:29.788Z"
   },
   {
    "duration": 3574,
    "start_time": "2021-10-03T00:09:29.816Z"
   },
   {
    "duration": 31,
    "start_time": "2021-10-03T00:09:33.392Z"
   },
   {
    "duration": 18,
    "start_time": "2021-10-03T00:09:33.425Z"
   },
   {
    "duration": 14,
    "start_time": "2021-10-03T00:09:33.445Z"
   },
   {
    "duration": 33,
    "start_time": "2021-10-03T00:09:33.461Z"
   },
   {
    "duration": 37,
    "start_time": "2021-10-03T00:09:33.497Z"
   },
   {
    "duration": 15,
    "start_time": "2021-10-03T00:09:33.537Z"
   },
   {
    "duration": 15,
    "start_time": "2021-10-03T00:09:33.555Z"
   },
   {
    "duration": 45,
    "start_time": "2021-10-03T00:09:33.573Z"
   },
   {
    "duration": 26,
    "start_time": "2021-10-03T00:09:33.621Z"
   },
   {
    "duration": 10,
    "start_time": "2021-10-03T00:09:33.649Z"
   },
   {
    "duration": 11,
    "start_time": "2021-10-03T00:09:33.661Z"
   },
   {
    "duration": 48,
    "start_time": "2021-10-03T00:09:33.675Z"
   },
   {
    "duration": 29,
    "start_time": "2021-10-03T00:09:33.726Z"
   },
   {
    "duration": 13,
    "start_time": "2021-10-03T00:09:33.757Z"
   },
   {
    "duration": 4,
    "start_time": "2021-10-03T00:09:33.772Z"
   },
   {
    "duration": 44,
    "start_time": "2021-10-03T00:09:33.778Z"
   },
   {
    "duration": 22,
    "start_time": "2021-10-03T00:09:33.824Z"
   },
   {
    "duration": 15,
    "start_time": "2021-10-03T00:09:33.849Z"
   },
   {
    "duration": 11,
    "start_time": "2021-10-03T00:09:33.866Z"
   },
   {
    "duration": 44,
    "start_time": "2021-10-03T00:09:33.880Z"
   },
   {
    "duration": 92,
    "start_time": "2021-10-03T00:09:33.927Z"
   },
   {
    "duration": 17,
    "start_time": "2021-10-03T00:09:34.021Z"
   },
   {
    "duration": 10,
    "start_time": "2021-10-03T00:09:34.040Z"
   },
   {
    "duration": 17,
    "start_time": "2021-10-03T00:09:34.052Z"
   },
   {
    "duration": 58,
    "start_time": "2021-10-03T00:09:34.072Z"
   },
   {
    "duration": 14,
    "start_time": "2021-10-03T00:09:34.133Z"
   },
   {
    "duration": 22,
    "start_time": "2021-10-03T00:09:34.149Z"
   },
   {
    "duration": 39,
    "start_time": "2021-10-03T00:09:34.178Z"
   },
   {
    "duration": 4,
    "start_time": "2021-10-03T00:09:34.220Z"
   },
   {
    "duration": 36,
    "start_time": "2021-10-03T00:09:34.226Z"
   },
   {
    "duration": 55,
    "start_time": "2021-10-03T00:09:34.265Z"
   },
   {
    "duration": 28,
    "start_time": "2021-10-03T00:14:01.204Z"
   },
   {
    "duration": 839,
    "start_time": "2021-10-04T05:41:42.621Z"
   },
   {
    "duration": 15,
    "start_time": "2021-10-04T05:41:43.462Z"
   },
   {
    "duration": 12,
    "start_time": "2021-10-04T05:41:43.480Z"
   },
   {
    "duration": 19,
    "start_time": "2021-10-04T05:41:43.516Z"
   },
   {
    "duration": 16,
    "start_time": "2021-10-04T05:41:43.537Z"
   },
   {
    "duration": 30,
    "start_time": "2021-10-04T05:41:43.555Z"
   },
   {
    "duration": 23,
    "start_time": "2021-10-04T05:41:43.587Z"
   },
   {
    "duration": 27,
    "start_time": "2021-10-04T05:41:43.613Z"
   },
   {
    "duration": 9,
    "start_time": "2021-10-04T05:41:43.643Z"
   },
   {
    "duration": 15,
    "start_time": "2021-10-04T05:41:43.654Z"
   },
   {
    "duration": 18,
    "start_time": "2021-10-04T05:41:43.672Z"
   },
   {
    "duration": 9,
    "start_time": "2021-10-04T05:41:43.692Z"
   },
   {
    "duration": 66,
    "start_time": "2021-10-04T05:41:43.704Z"
   },
   {
    "duration": 7,
    "start_time": "2021-10-04T05:41:43.772Z"
   },
   {
    "duration": 42,
    "start_time": "2021-10-04T05:41:43.782Z"
   },
   {
    "duration": 8,
    "start_time": "2021-10-04T05:41:43.828Z"
   },
   {
    "duration": 20,
    "start_time": "2021-10-04T05:41:43.839Z"
   },
   {
    "duration": 13,
    "start_time": "2021-10-04T05:41:43.863Z"
   },
   {
    "duration": 45,
    "start_time": "2021-10-04T05:41:43.878Z"
   },
   {
    "duration": 10,
    "start_time": "2021-10-04T05:41:43.925Z"
   },
   {
    "duration": 28,
    "start_time": "2021-10-04T05:41:43.938Z"
   },
   {
    "duration": 18,
    "start_time": "2021-10-04T05:41:43.969Z"
   },
   {
    "duration": 18,
    "start_time": "2021-10-04T05:41:44.021Z"
   },
   {
    "duration": 20,
    "start_time": "2021-10-04T05:41:44.044Z"
   },
   {
    "duration": 56,
    "start_time": "2021-10-04T05:41:44.067Z"
   },
   {
    "duration": 26,
    "start_time": "2021-10-04T05:41:44.126Z"
   },
   {
    "duration": 23,
    "start_time": "2021-10-04T05:41:44.155Z"
   },
   {
    "duration": 22,
    "start_time": "2021-10-04T05:41:44.181Z"
   },
   {
    "duration": 29,
    "start_time": "2021-10-04T05:41:44.206Z"
   },
   {
    "duration": 18,
    "start_time": "2021-10-04T05:41:44.238Z"
   },
   {
    "duration": 14,
    "start_time": "2021-10-04T05:41:44.258Z"
   },
   {
    "duration": 44,
    "start_time": "2021-10-04T05:41:44.275Z"
   },
   {
    "duration": 27,
    "start_time": "2021-10-04T05:41:44.322Z"
   },
   {
    "duration": 24,
    "start_time": "2021-10-04T05:41:44.352Z"
   },
   {
    "duration": 37,
    "start_time": "2021-10-04T05:41:44.379Z"
   },
   {
    "duration": 4367,
    "start_time": "2021-10-04T05:41:44.419Z"
   },
   {
    "duration": 29,
    "start_time": "2021-10-04T05:41:48.790Z"
   },
   {
    "duration": 3567,
    "start_time": "2021-10-04T05:41:48.822Z"
   },
   {
    "duration": 6,
    "start_time": "2021-10-04T05:41:52.392Z"
   },
   {
    "duration": 3548,
    "start_time": "2021-10-04T05:41:52.416Z"
   },
   {
    "duration": 19,
    "start_time": "2021-10-04T05:41:55.966Z"
   },
   {
    "duration": 33,
    "start_time": "2021-10-04T05:41:55.987Z"
   },
   {
    "duration": 12,
    "start_time": "2021-10-04T05:41:56.023Z"
   },
   {
    "duration": 27,
    "start_time": "2021-10-04T05:41:56.037Z"
   },
   {
    "duration": 17,
    "start_time": "2021-10-04T05:41:56.067Z"
   },
   {
    "duration": 15,
    "start_time": "2021-10-04T05:41:56.116Z"
   },
   {
    "duration": 16,
    "start_time": "2021-10-04T05:41:56.133Z"
   },
   {
    "duration": 9,
    "start_time": "2021-10-04T05:41:56.152Z"
   },
   {
    "duration": 65,
    "start_time": "2021-10-04T05:41:56.163Z"
   },
   {
    "duration": 9,
    "start_time": "2021-10-04T05:41:56.231Z"
   },
   {
    "duration": 11,
    "start_time": "2021-10-04T05:41:56.242Z"
   },
   {
    "duration": 18,
    "start_time": "2021-10-04T05:41:56.256Z"
   },
   {
    "duration": 64,
    "start_time": "2021-10-04T05:41:56.276Z"
   },
   {
    "duration": 15,
    "start_time": "2021-10-04T05:41:56.343Z"
   },
   {
    "duration": 5,
    "start_time": "2021-10-04T05:41:56.361Z"
   },
   {
    "duration": 14,
    "start_time": "2021-10-04T05:41:56.368Z"
   },
   {
    "duration": 22,
    "start_time": "2021-10-04T05:41:56.417Z"
   },
   {
    "duration": 15,
    "start_time": "2021-10-04T05:41:56.442Z"
   },
   {
    "duration": 10,
    "start_time": "2021-10-04T05:41:56.460Z"
   },
   {
    "duration": 44,
    "start_time": "2021-10-04T05:41:56.473Z"
   },
   {
    "duration": 69,
    "start_time": "2021-10-04T05:41:56.520Z"
   },
   {
    "duration": 33,
    "start_time": "2021-10-04T05:41:56.592Z"
   },
   {
    "duration": 9,
    "start_time": "2021-10-04T05:41:56.627Z"
   },
   {
    "duration": 16,
    "start_time": "2021-10-04T05:41:56.639Z"
   },
   {
    "duration": 20,
    "start_time": "2021-10-04T05:41:56.657Z"
   },
   {
    "duration": 48,
    "start_time": "2021-10-04T05:41:56.679Z"
   },
   {
    "duration": 33,
    "start_time": "2021-10-04T05:41:56.729Z"
   },
   {
    "duration": 48,
    "start_time": "2021-10-04T05:41:56.771Z"
   },
   {
    "duration": 13,
    "start_time": "2021-10-04T05:41:56.822Z"
   },
   {
    "duration": 44,
    "start_time": "2021-10-04T05:41:56.848Z"
   },
   {
    "duration": 60,
    "start_time": "2021-10-04T05:41:56.895Z"
   },
   {
    "duration": 49,
    "start_time": "2021-10-04T05:41:56.958Z"
   },
   {
    "duration": 26,
    "start_time": "2021-10-04T05:51:08.467Z"
   },
   {
    "duration": 7,
    "start_time": "2021-10-04T05:52:03.489Z"
   },
   {
    "duration": 6,
    "start_time": "2021-10-04T05:52:08.063Z"
   },
   {
    "duration": 6,
    "start_time": "2021-10-04T05:52:13.027Z"
   },
   {
    "duration": 3,
    "start_time": "2021-10-04T05:52:32.913Z"
   },
   {
    "duration": 7,
    "start_time": "2021-10-04T05:52:34.680Z"
   },
   {
    "duration": 906,
    "start_time": "2021-10-04T05:53:36.507Z"
   },
   {
    "duration": 15,
    "start_time": "2021-10-04T05:53:37.415Z"
   },
   {
    "duration": 16,
    "start_time": "2021-10-04T05:53:37.433Z"
   },
   {
    "duration": 30,
    "start_time": "2021-10-04T05:53:37.452Z"
   },
   {
    "duration": 31,
    "start_time": "2021-10-04T05:53:37.485Z"
   },
   {
    "duration": 19,
    "start_time": "2021-10-04T05:53:37.518Z"
   },
   {
    "duration": 30,
    "start_time": "2021-10-04T05:53:37.540Z"
   },
   {
    "duration": 19,
    "start_time": "2021-10-04T05:53:37.574Z"
   },
   {
    "duration": 26,
    "start_time": "2021-10-04T05:53:37.597Z"
   },
   {
    "duration": 29,
    "start_time": "2021-10-04T05:53:37.626Z"
   },
   {
    "duration": 18,
    "start_time": "2021-10-04T05:53:37.657Z"
   },
   {
    "duration": 31,
    "start_time": "2021-10-04T05:53:37.677Z"
   },
   {
    "duration": 23,
    "start_time": "2021-10-04T05:53:37.711Z"
   },
   {
    "duration": 63,
    "start_time": "2021-10-04T05:53:37.736Z"
   },
   {
    "duration": 5,
    "start_time": "2021-10-04T05:53:37.802Z"
   },
   {
    "duration": 45,
    "start_time": "2021-10-04T05:53:37.809Z"
   },
   {
    "duration": 11,
    "start_time": "2021-10-04T05:53:37.857Z"
   },
   {
    "duration": 28,
    "start_time": "2021-10-04T05:53:37.870Z"
   },
   {
    "duration": 27,
    "start_time": "2021-10-04T05:53:37.900Z"
   },
   {
    "duration": 18,
    "start_time": "2021-10-04T05:53:37.929Z"
   },
   {
    "duration": 28,
    "start_time": "2021-10-04T05:53:37.950Z"
   },
   {
    "duration": 31,
    "start_time": "2021-10-04T05:53:37.980Z"
   },
   {
    "duration": 6,
    "start_time": "2021-10-04T05:53:38.017Z"
   },
   {
    "duration": 30,
    "start_time": "2021-10-04T05:53:38.027Z"
   },
   {
    "duration": 20,
    "start_time": "2021-10-04T05:53:38.060Z"
   },
   {
    "duration": 34,
    "start_time": "2021-10-04T05:53:38.082Z"
   },
   {
    "duration": 16,
    "start_time": "2021-10-04T05:53:38.118Z"
   },
   {
    "duration": 29,
    "start_time": "2021-10-04T05:53:38.136Z"
   },
   {
    "duration": 18,
    "start_time": "2021-10-04T05:53:38.168Z"
   },
   {
    "duration": 38,
    "start_time": "2021-10-04T05:53:38.188Z"
   },
   {
    "duration": 30,
    "start_time": "2021-10-04T05:53:38.228Z"
   },
   {
    "duration": 21,
    "start_time": "2021-10-04T05:53:38.261Z"
   },
   {
    "duration": 50,
    "start_time": "2021-10-04T05:53:38.284Z"
   },
   {
    "duration": 25,
    "start_time": "2021-10-04T05:53:38.336Z"
   },
   {
    "duration": 22,
    "start_time": "2021-10-04T05:53:38.363Z"
   },
   {
    "duration": 28,
    "start_time": "2021-10-04T05:53:38.388Z"
   },
   {
    "duration": 4526,
    "start_time": "2021-10-04T05:53:38.419Z"
   },
   {
    "duration": 17,
    "start_time": "2021-10-04T05:53:42.948Z"
   },
   {
    "duration": 3581,
    "start_time": "2021-10-04T05:53:42.967Z"
   },
   {
    "duration": 7,
    "start_time": "2021-10-04T05:53:46.550Z"
   },
   {
    "duration": 3592,
    "start_time": "2021-10-04T05:53:46.559Z"
   },
   {
    "duration": 21,
    "start_time": "2021-10-04T05:53:50.153Z"
   },
   {
    "duration": 40,
    "start_time": "2021-10-04T05:53:50.178Z"
   },
   {
    "duration": 17,
    "start_time": "2021-10-04T05:53:50.222Z"
   },
   {
    "duration": 28,
    "start_time": "2021-10-04T05:53:50.242Z"
   },
   {
    "duration": 53,
    "start_time": "2021-10-04T05:53:50.273Z"
   },
   {
    "duration": 16,
    "start_time": "2021-10-04T05:53:50.328Z"
   },
   {
    "duration": 16,
    "start_time": "2021-10-04T05:53:50.346Z"
   },
   {
    "duration": 9,
    "start_time": "2021-10-04T05:53:50.364Z"
   },
   {
    "duration": 66,
    "start_time": "2021-10-04T05:53:50.376Z"
   },
   {
    "duration": 10,
    "start_time": "2021-10-04T05:53:50.444Z"
   },
   {
    "duration": 12,
    "start_time": "2021-10-04T05:53:50.456Z"
   },
   {
    "duration": 46,
    "start_time": "2021-10-04T05:53:50.470Z"
   },
   {
    "duration": 33,
    "start_time": "2021-10-04T05:53:50.519Z"
   },
   {
    "duration": 12,
    "start_time": "2021-10-04T05:53:50.554Z"
   },
   {
    "duration": 5,
    "start_time": "2021-10-04T05:53:50.568Z"
   },
   {
    "duration": 46,
    "start_time": "2021-10-04T05:53:50.575Z"
   },
   {
    "duration": 22,
    "start_time": "2021-10-04T05:53:50.624Z"
   },
   {
    "duration": 16,
    "start_time": "2021-10-04T05:53:50.648Z"
   },
   {
    "duration": 9,
    "start_time": "2021-10-04T05:53:50.666Z"
   },
   {
    "duration": 44,
    "start_time": "2021-10-04T05:53:50.678Z"
   },
   {
    "duration": 73,
    "start_time": "2021-10-04T05:53:50.724Z"
   },
   {
    "duration": 30,
    "start_time": "2021-10-04T05:53:50.800Z"
   },
   {
    "duration": 9,
    "start_time": "2021-10-04T05:53:50.833Z"
   },
   {
    "duration": 23,
    "start_time": "2021-10-04T05:53:50.845Z"
   },
   {
    "duration": 54,
    "start_time": "2021-10-04T05:53:50.871Z"
   },
   {
    "duration": 16,
    "start_time": "2021-10-04T05:53:50.927Z"
   },
   {
    "duration": 20,
    "start_time": "2021-10-04T05:53:50.950Z"
   },
   {
    "duration": 51,
    "start_time": "2021-10-04T05:53:50.973Z"
   },
   {
    "duration": 5,
    "start_time": "2021-10-04T05:53:51.026Z"
   },
   {
    "duration": 33,
    "start_time": "2021-10-04T05:53:51.034Z"
   },
   {
    "duration": 56,
    "start_time": "2021-10-04T05:53:51.070Z"
   },
   {
    "duration": 27,
    "start_time": "2021-10-04T05:53:51.128Z"
   },
   {
    "duration": 6,
    "start_time": "2021-10-04T06:04:06.752Z"
   },
   {
    "duration": 11,
    "start_time": "2021-10-04T06:56:46.608Z"
   },
   {
    "duration": 5,
    "start_time": "2021-10-04T06:58:38.593Z"
   },
   {
    "duration": 5,
    "start_time": "2021-10-04T07:05:10.047Z"
   },
   {
    "duration": 113,
    "start_time": "2021-10-04T09:10:03.981Z"
   },
   {
    "duration": 105,
    "start_time": "2021-10-04T09:10:51.853Z"
   },
   {
    "duration": 124,
    "start_time": "2021-10-04T09:12:59.513Z"
   },
   {
    "duration": 753,
    "start_time": "2021-10-04T09:22:03.853Z"
   },
   {
    "duration": 69,
    "start_time": "2021-10-04T09:22:04.609Z"
   },
   {
    "duration": 16,
    "start_time": "2021-10-04T09:22:04.681Z"
   },
   {
    "duration": 21,
    "start_time": "2021-10-04T09:22:04.700Z"
   },
   {
    "duration": 28,
    "start_time": "2021-10-04T09:22:04.724Z"
   },
   {
    "duration": 10,
    "start_time": "2021-10-04T09:22:04.755Z"
   },
   {
    "duration": 64,
    "start_time": "2021-10-04T09:22:04.768Z"
   },
   {
    "duration": 12,
    "start_time": "2021-10-04T09:22:04.836Z"
   },
   {
    "duration": 5,
    "start_time": "2021-10-04T09:22:04.851Z"
   },
   {
    "duration": 20,
    "start_time": "2021-10-04T09:22:04.858Z"
   },
   {
    "duration": 43,
    "start_time": "2021-10-04T09:22:04.880Z"
   },
   {
    "duration": 7,
    "start_time": "2021-10-04T09:22:04.925Z"
   },
   {
    "duration": 10,
    "start_time": "2021-10-04T09:22:04.935Z"
   },
   {
    "duration": 9,
    "start_time": "2021-10-04T09:22:04.947Z"
   },
   {
    "duration": 106,
    "start_time": "2021-10-04T09:22:04.958Z"
   },
   {
    "duration": 7,
    "start_time": "2021-10-04T09:22:05.066Z"
   },
   {
    "duration": 20,
    "start_time": "2021-10-04T09:22:05.076Z"
   },
   {
    "duration": 8,
    "start_time": "2021-10-04T09:22:05.116Z"
   },
   {
    "duration": 19,
    "start_time": "2021-10-04T09:22:05.127Z"
   },
   {
    "duration": 13,
    "start_time": "2021-10-04T09:22:05.149Z"
   },
   {
    "duration": 12,
    "start_time": "2021-10-04T09:22:05.164Z"
   },
   {
    "duration": 7,
    "start_time": "2021-10-04T09:22:05.216Z"
   },
   {
    "duration": 22,
    "start_time": "2021-10-04T09:22:05.228Z"
   },
   {
    "duration": 7,
    "start_time": "2021-10-04T09:22:05.253Z"
   },
   {
    "duration": 57,
    "start_time": "2021-10-04T09:22:05.262Z"
   },
   {
    "duration": 18,
    "start_time": "2021-10-04T09:22:05.322Z"
   },
   {
    "duration": 18,
    "start_time": "2021-10-04T09:22:05.342Z"
   },
   {
    "duration": 9,
    "start_time": "2021-10-04T09:22:05.362Z"
   },
   {
    "duration": 9,
    "start_time": "2021-10-04T09:22:05.374Z"
   },
   {
    "duration": 7,
    "start_time": "2021-10-04T09:22:05.416Z"
   },
   {
    "duration": 24,
    "start_time": "2021-10-04T09:22:05.425Z"
   },
   {
    "duration": 16,
    "start_time": "2021-10-04T09:22:05.451Z"
   },
   {
    "duration": 12,
    "start_time": "2021-10-04T09:22:05.469Z"
   },
   {
    "duration": 53,
    "start_time": "2021-10-04T09:22:05.483Z"
   },
   {
    "duration": 25,
    "start_time": "2021-10-04T09:22:05.539Z"
   },
   {
    "duration": 22,
    "start_time": "2021-10-04T09:22:05.566Z"
   },
   {
    "duration": 36,
    "start_time": "2021-10-04T09:22:05.590Z"
   },
   {
    "duration": 4,
    "start_time": "2021-10-04T09:22:05.628Z"
   },
   {
    "duration": 6,
    "start_time": "2021-10-04T09:22:09.531Z"
   },
   {
    "duration": 5,
    "start_time": "2021-10-04T09:22:11.415Z"
   },
   {
    "duration": 4,
    "start_time": "2021-10-04T09:22:21.840Z"
   },
   {
    "duration": 926,
    "start_time": "2021-10-04T09:24:01.681Z"
   },
   {
    "duration": 4,
    "start_time": "2021-10-04T09:24:10.560Z"
   },
   {
    "duration": 3687,
    "start_time": "2021-10-04T09:24:32.203Z"
   },
   {
    "duration": 7,
    "start_time": "2021-10-04T09:24:39.352Z"
   },
   {
    "duration": 3520,
    "start_time": "2021-10-04T09:24:55.833Z"
   },
   {
    "duration": 20,
    "start_time": "2021-10-04T09:25:02.704Z"
   },
   {
    "duration": 13,
    "start_time": "2021-10-04T09:25:09.350Z"
   },
   {
    "duration": 163,
    "start_time": "2021-10-04T09:25:39.960Z"
   },
   {
    "duration": 421,
    "start_time": "2021-10-04T09:27:58.343Z"
   },
   {
    "duration": 317,
    "start_time": "2021-10-04T09:29:12.464Z"
   },
   {
    "duration": 312,
    "start_time": "2021-10-04T09:29:27.769Z"
   },
   {
    "duration": 11,
    "start_time": "2021-10-04T09:31:44.194Z"
   },
   {
    "duration": 3,
    "start_time": "2021-10-04T09:31:51.328Z"
   },
   {
    "duration": 84,
    "start_time": "2021-10-04T09:31:51.334Z"
   },
   {
    "duration": 14,
    "start_time": "2021-10-04T09:31:51.421Z"
   },
   {
    "duration": 6,
    "start_time": "2021-10-04T09:31:51.438Z"
   },
   {
    "duration": 18,
    "start_time": "2021-10-04T09:31:51.447Z"
   },
   {
    "duration": 49,
    "start_time": "2021-10-04T09:31:51.469Z"
   },
   {
    "duration": 27,
    "start_time": "2021-10-04T09:31:51.521Z"
   },
   {
    "duration": 15,
    "start_time": "2021-10-04T09:31:51.551Z"
   },
   {
    "duration": 47,
    "start_time": "2021-10-04T09:31:51.569Z"
   },
   {
    "duration": 20,
    "start_time": "2021-10-04T09:31:51.620Z"
   },
   {
    "duration": 12,
    "start_time": "2021-10-04T09:31:51.643Z"
   },
   {
    "duration": 9,
    "start_time": "2021-10-04T09:31:51.658Z"
   },
   {
    "duration": 61,
    "start_time": "2021-10-04T09:31:51.670Z"
   },
   {
    "duration": 9,
    "start_time": "2021-10-04T09:31:51.734Z"
   },
   {
    "duration": 94,
    "start_time": "2021-10-04T09:31:51.745Z"
   },
   {
    "duration": 5,
    "start_time": "2021-10-04T09:31:51.842Z"
   },
   {
    "duration": 22,
    "start_time": "2021-10-04T09:31:51.849Z"
   },
   {
    "duration": 6,
    "start_time": "2021-10-04T09:31:51.874Z"
   },
   {
    "duration": 36,
    "start_time": "2021-10-04T09:31:51.885Z"
   },
   {
    "duration": 11,
    "start_time": "2021-10-04T09:31:51.924Z"
   },
   {
    "duration": 9,
    "start_time": "2021-10-04T09:31:51.938Z"
   },
   {
    "duration": 10,
    "start_time": "2021-10-04T09:31:51.949Z"
   },
   {
    "duration": 57,
    "start_time": "2021-10-04T09:31:51.961Z"
   },
   {
    "duration": 6,
    "start_time": "2021-10-04T09:31:52.021Z"
   },
   {
    "duration": 20,
    "start_time": "2021-10-04T09:31:52.029Z"
   },
   {
    "duration": 25,
    "start_time": "2021-10-04T09:31:52.052Z"
   },
   {
    "duration": 41,
    "start_time": "2021-10-04T09:31:52.080Z"
   },
   {
    "duration": 22,
    "start_time": "2021-10-04T09:31:52.123Z"
   },
   {
    "duration": 21,
    "start_time": "2021-10-04T09:31:52.147Z"
   },
   {
    "duration": 15,
    "start_time": "2021-10-04T09:31:52.170Z"
   },
   {
    "duration": 24,
    "start_time": "2021-10-04T09:31:52.188Z"
   },
   {
    "duration": 16,
    "start_time": "2021-10-04T09:31:52.214Z"
   },
   {
    "duration": 11,
    "start_time": "2021-10-04T09:31:52.233Z"
   },
   {
    "duration": 24,
    "start_time": "2021-10-04T09:31:52.246Z"
   },
   {
    "duration": 45,
    "start_time": "2021-10-04T09:31:52.272Z"
   },
   {
    "duration": 22,
    "start_time": "2021-10-04T09:31:52.320Z"
   },
   {
    "duration": 3,
    "start_time": "2021-10-04T09:31:52.345Z"
   },
   {
    "duration": 35,
    "start_time": "2021-10-04T09:31:52.350Z"
   },
   {
    "duration": 30,
    "start_time": "2021-10-04T09:31:52.387Z"
   },
   {
    "duration": 5,
    "start_time": "2021-10-04T09:31:52.419Z"
   },
   {
    "duration": 945,
    "start_time": "2021-10-04T09:31:52.426Z"
   },
   {
    "duration": 5,
    "start_time": "2021-10-04T09:31:53.374Z"
   },
   {
    "duration": 3681,
    "start_time": "2021-10-04T09:31:53.381Z"
   },
   {
    "duration": 7,
    "start_time": "2021-10-04T09:31:57.064Z"
   },
   {
    "duration": 3660,
    "start_time": "2021-10-04T09:31:57.074Z"
   },
   {
    "duration": 21,
    "start_time": "2021-10-04T09:32:00.737Z"
   },
   {
    "duration": 16,
    "start_time": "2021-10-04T09:32:00.761Z"
   },
   {
    "duration": 43,
    "start_time": "2021-10-04T09:32:00.780Z"
   },
   {
    "duration": 18,
    "start_time": "2021-10-04T09:32:00.826Z"
   },
   {
    "duration": 42,
    "start_time": "2021-10-04T09:32:00.847Z"
   },
   {
    "duration": 331,
    "start_time": "2021-10-04T09:32:00.892Z"
   },
   {
    "duration": -306,
    "start_time": "2021-10-04T09:32:01.535Z"
   },
   {
    "duration": -322,
    "start_time": "2021-10-04T09:32:01.553Z"
   },
   {
    "duration": -336,
    "start_time": "2021-10-04T09:32:01.569Z"
   },
   {
    "duration": -353,
    "start_time": "2021-10-04T09:32:01.588Z"
   },
   {
    "duration": -386,
    "start_time": "2021-10-04T09:32:01.623Z"
   },
   {
    "duration": -428,
    "start_time": "2021-10-04T09:32:01.667Z"
   },
   {
    "duration": -447,
    "start_time": "2021-10-04T09:32:01.688Z"
   },
   {
    "duration": -466,
    "start_time": "2021-10-04T09:32:01.709Z"
   },
   {
    "duration": -470,
    "start_time": "2021-10-04T09:32:01.716Z"
   },
   {
    "duration": -480,
    "start_time": "2021-10-04T09:32:01.728Z"
   },
   {
    "duration": -502,
    "start_time": "2021-10-04T09:32:01.752Z"
   },
   {
    "duration": -515,
    "start_time": "2021-10-04T09:32:01.767Z"
   },
   {
    "duration": -528,
    "start_time": "2021-10-04T09:32:01.782Z"
   },
   {
    "duration": -546,
    "start_time": "2021-10-04T09:32:01.802Z"
   },
   {
    "duration": -562,
    "start_time": "2021-10-04T09:32:01.820Z"
   },
   {
    "duration": -567,
    "start_time": "2021-10-04T09:32:01.828Z"
   },
   {
    "duration": -575,
    "start_time": "2021-10-04T09:32:01.838Z"
   },
   {
    "duration": -638,
    "start_time": "2021-10-04T09:32:01.955Z"
   },
   {
    "duration": -657,
    "start_time": "2021-10-04T09:32:01.976Z"
   },
   {
    "duration": -660,
    "start_time": "2021-10-04T09:32:01.982Z"
   },
   {
    "duration": -669,
    "start_time": "2021-10-04T09:32:01.993Z"
   },
   {
    "duration": -674,
    "start_time": "2021-10-04T09:32:02.000Z"
   },
   {
    "duration": -684,
    "start_time": "2021-10-04T09:32:02.012Z"
   },
   {
    "duration": -688,
    "start_time": "2021-10-04T09:32:02.018Z"
   },
   {
    "duration": -697,
    "start_time": "2021-10-04T09:32:02.029Z"
   },
   {
    "duration": -714,
    "start_time": "2021-10-04T09:32:02.048Z"
   },
   {
    "duration": -722,
    "start_time": "2021-10-04T09:32:02.058Z"
   },
   {
    "duration": -726,
    "start_time": "2021-10-04T09:32:02.064Z"
   },
   {
    "duration": -729,
    "start_time": "2021-10-04T09:32:02.070Z"
   },
   {
    "duration": 11,
    "start_time": "2021-10-04T09:32:12.493Z"
   },
   {
    "duration": 9,
    "start_time": "2021-10-04T09:32:21.884Z"
   },
   {
    "duration": 4,
    "start_time": "2021-10-04T09:32:28.265Z"
   },
   {
    "duration": 79,
    "start_time": "2021-10-04T09:32:28.271Z"
   },
   {
    "duration": 15,
    "start_time": "2021-10-04T09:32:28.353Z"
   },
   {
    "duration": 9,
    "start_time": "2021-10-04T09:32:28.371Z"
   },
   {
    "duration": 44,
    "start_time": "2021-10-04T09:32:28.382Z"
   },
   {
    "duration": 8,
    "start_time": "2021-10-04T09:32:28.428Z"
   },
   {
    "duration": 20,
    "start_time": "2021-10-04T09:32:28.439Z"
   },
   {
    "duration": 12,
    "start_time": "2021-10-04T09:32:34.197Z"
   },
   {
    "duration": 13,
    "start_time": "2021-10-04T09:32:40.105Z"
   },
   {
    "duration": 11,
    "start_time": "2021-10-04T09:32:56.042Z"
   },
   {
    "duration": 9,
    "start_time": "2021-10-04T09:33:02.005Z"
   },
   {
    "duration": 11,
    "start_time": "2021-10-04T09:33:09.155Z"
   },
   {
    "duration": 9,
    "start_time": "2021-10-04T09:33:19.120Z"
   },
   {
    "duration": 8,
    "start_time": "2021-10-04T09:33:23.991Z"
   },
   {
    "duration": 9364,
    "start_time": "2021-10-04T09:33:48.979Z"
   },
   {
    "duration": 3,
    "start_time": "2021-10-04T09:34:02.190Z"
   },
   {
    "duration": 95,
    "start_time": "2021-10-04T09:34:02.200Z"
   },
   {
    "duration": 17,
    "start_time": "2021-10-04T09:34:02.298Z"
   },
   {
    "duration": 21,
    "start_time": "2021-10-04T09:34:02.318Z"
   },
   {
    "duration": 34,
    "start_time": "2021-10-04T09:34:02.342Z"
   },
   {
    "duration": 16,
    "start_time": "2021-10-04T09:34:02.378Z"
   },
   {
    "duration": 32,
    "start_time": "2021-10-04T09:34:02.397Z"
   },
   {
    "duration": 14,
    "start_time": "2021-10-04T09:34:02.433Z"
   },
   {
    "duration": 10,
    "start_time": "2021-10-04T09:34:02.450Z"
   },
   {
    "duration": 55,
    "start_time": "2021-10-04T09:34:02.464Z"
   },
   {
    "duration": 28,
    "start_time": "2021-10-04T09:34:02.522Z"
   },
   {
    "duration": 17,
    "start_time": "2021-10-04T09:34:02.553Z"
   },
   {
    "duration": 30,
    "start_time": "2021-10-04T09:34:02.573Z"
   },
   {
    "duration": 13,
    "start_time": "2021-10-04T09:34:02.606Z"
   },
   {
    "duration": 62,
    "start_time": "2021-10-04T09:34:02.622Z"
   },
   {
    "duration": 6,
    "start_time": "2021-10-04T09:34:02.687Z"
   },
   {
    "duration": 25,
    "start_time": "2021-10-04T09:34:02.696Z"
   },
   {
    "duration": 13,
    "start_time": "2021-10-04T09:34:02.723Z"
   },
   {
    "duration": 26,
    "start_time": "2021-10-04T09:34:02.738Z"
   },
   {
    "duration": 22,
    "start_time": "2021-10-04T09:34:02.767Z"
   },
   {
    "duration": 19,
    "start_time": "2021-10-04T09:34:02.792Z"
   },
   {
    "duration": 19,
    "start_time": "2021-10-04T09:34:02.814Z"
   },
   {
    "duration": 30,
    "start_time": "2021-10-04T09:34:02.836Z"
   },
   {
    "duration": 10,
    "start_time": "2021-10-04T09:34:02.868Z"
   },
   {
    "duration": 37,
    "start_time": "2021-10-04T09:34:02.880Z"
   },
   {
    "duration": 22,
    "start_time": "2021-10-04T09:34:02.920Z"
   },
   {
    "duration": 51,
    "start_time": "2021-10-04T09:34:02.945Z"
   },
   {
    "duration": 19,
    "start_time": "2021-10-04T09:34:03.001Z"
   },
   {
    "duration": 19,
    "start_time": "2021-10-04T09:34:03.023Z"
   },
   {
    "duration": 18,
    "start_time": "2021-10-04T09:34:03.045Z"
   },
   {
    "duration": 33,
    "start_time": "2021-10-04T09:34:03.065Z"
   },
   {
    "duration": 16,
    "start_time": "2021-10-04T09:34:03.100Z"
   },
   {
    "duration": 33,
    "start_time": "2021-10-04T09:34:03.119Z"
   },
   {
    "duration": 38,
    "start_time": "2021-10-04T09:34:03.154Z"
   },
   {
    "duration": 26,
    "start_time": "2021-10-04T09:34:03.195Z"
   },
   {
    "duration": 28,
    "start_time": "2021-10-04T09:34:03.223Z"
   },
   {
    "duration": 15,
    "start_time": "2021-10-04T09:34:03.253Z"
   },
   {
    "duration": 42,
    "start_time": "2021-10-04T09:34:03.270Z"
   },
   {
    "duration": 5,
    "start_time": "2021-10-04T09:34:03.314Z"
   },
   {
    "duration": 24,
    "start_time": "2021-10-04T09:34:03.322Z"
   },
   {
    "duration": 940,
    "start_time": "2021-10-04T09:34:03.349Z"
   },
   {
    "duration": 5,
    "start_time": "2021-10-04T09:34:04.292Z"
   },
   {
    "duration": 3661,
    "start_time": "2021-10-04T09:34:04.300Z"
   },
   {
    "duration": 7,
    "start_time": "2021-10-04T09:34:07.963Z"
   },
   {
    "duration": 3569,
    "start_time": "2021-10-04T09:34:07.972Z"
   },
   {
    "duration": 20,
    "start_time": "2021-10-04T09:34:11.544Z"
   },
   {
    "duration": 18,
    "start_time": "2021-10-04T09:34:20.212Z"
   },
   {
    "duration": 126,
    "start_time": "2021-10-04T09:35:50.657Z"
   },
   {
    "duration": 340,
    "start_time": "2021-10-04T09:36:37.623Z"
   },
   {
    "duration": 308,
    "start_time": "2021-10-04T09:37:22.075Z"
   },
   {
    "duration": 107,
    "start_time": "2021-10-04T09:40:08.388Z"
   },
   {
    "duration": 324,
    "start_time": "2021-10-04T09:44:53.895Z"
   },
   {
    "duration": 101,
    "start_time": "2021-10-04T09:45:13.722Z"
   },
   {
    "duration": 5,
    "start_time": "2021-10-04T09:45:52.583Z"
   },
   {
    "duration": 9,
    "start_time": "2021-10-04T09:45:55.308Z"
   },
   {
    "duration": 8,
    "start_time": "2021-10-04T09:46:45.194Z"
   },
   {
    "duration": 10,
    "start_time": "2021-10-04T09:46:47.432Z"
   },
   {
    "duration": 29,
    "start_time": "2021-10-04T09:46:58.830Z"
   },
   {
    "duration": 433,
    "start_time": "2021-10-04T09:47:00.804Z"
   },
   {
    "duration": 22,
    "start_time": "2021-10-04T09:47:32.647Z"
   },
   {
    "duration": 22,
    "start_time": "2021-10-04T09:47:42.365Z"
   },
   {
    "duration": 16,
    "start_time": "2021-10-04T09:47:52.904Z"
   },
   {
    "duration": 8,
    "start_time": "2021-10-04T09:47:56.535Z"
   },
   {
    "duration": 16,
    "start_time": "2021-10-04T09:48:10.258Z"
   },
   {
    "duration": 17,
    "start_time": "2021-10-04T09:48:12.698Z"
   },
   {
    "duration": 11,
    "start_time": "2021-10-04T09:48:15.535Z"
   },
   {
    "duration": 26,
    "start_time": "2021-10-04T09:48:19.007Z"
   },
   {
    "duration": 11,
    "start_time": "2021-10-04T09:48:21.495Z"
   },
   {
    "duration": 11,
    "start_time": "2021-10-04T09:51:30.142Z"
   },
   {
    "duration": 4,
    "start_time": "2021-10-04T09:55:39.401Z"
   },
   {
    "duration": 12,
    "start_time": "2021-10-04T09:55:41.252Z"
   },
   {
    "duration": 20,
    "start_time": "2021-10-04T09:55:46.942Z"
   },
   {
    "duration": 28,
    "start_time": "2021-10-04T09:55:50.004Z"
   },
   {
    "duration": 104,
    "start_time": "2021-10-04T09:56:53.616Z"
   },
   {
    "duration": 13,
    "start_time": "2021-10-04T09:57:10.617Z"
   },
   {
    "duration": 14,
    "start_time": "2021-10-04T09:57:24.897Z"
   },
   {
    "duration": 12,
    "start_time": "2021-10-04T09:59:29.300Z"
   },
   {
    "duration": 16,
    "start_time": "2021-10-04T09:59:33.937Z"
   },
   {
    "duration": 17,
    "start_time": "2021-10-04T09:59:59.611Z"
   },
   {
    "duration": 12,
    "start_time": "2021-10-04T10:00:02.786Z"
   },
   {
    "duration": 13,
    "start_time": "2021-10-04T10:05:40.441Z"
   },
   {
    "duration": 9,
    "start_time": "2021-10-04T10:06:08.248Z"
   },
   {
    "duration": 5,
    "start_time": "2021-10-04T10:06:23.001Z"
   },
   {
    "duration": 5,
    "start_time": "2021-10-04T10:06:41.034Z"
   },
   {
    "duration": 5,
    "start_time": "2021-10-04T10:06:54.241Z"
   },
   {
    "duration": 10,
    "start_time": "2021-10-04T10:06:57.934Z"
   },
   {
    "duration": 5,
    "start_time": "2021-10-04T10:08:16.277Z"
   },
   {
    "duration": 10,
    "start_time": "2021-10-04T10:08:18.267Z"
   },
   {
    "duration": 20,
    "start_time": "2021-10-04T10:08:28.152Z"
   },
   {
    "duration": 22,
    "start_time": "2021-10-04T10:09:50.843Z"
   },
   {
    "duration": 17,
    "start_time": "2021-10-04T10:09:54.171Z"
   },
   {
    "duration": 12,
    "start_time": "2021-10-04T10:10:09.488Z"
   },
   {
    "duration": 12,
    "start_time": "2021-10-04T10:10:39.666Z"
   },
   {
    "duration": 12,
    "start_time": "2021-10-04T10:11:16.311Z"
   },
   {
    "duration": 296,
    "start_time": "2021-10-04T10:13:37.027Z"
   },
   {
    "duration": 7,
    "start_time": "2021-10-04T10:13:42.938Z"
   },
   {
    "duration": 3,
    "start_time": "2021-10-04T10:13:52.301Z"
   },
   {
    "duration": 73,
    "start_time": "2021-10-04T10:13:52.310Z"
   },
   {
    "duration": 15,
    "start_time": "2021-10-04T10:13:52.386Z"
   },
   {
    "duration": 7,
    "start_time": "2021-10-04T10:13:52.417Z"
   },
   {
    "duration": 18,
    "start_time": "2021-10-04T10:13:52.427Z"
   },
   {
    "duration": 12,
    "start_time": "2021-10-04T10:13:52.448Z"
   },
   {
    "duration": 70,
    "start_time": "2021-10-04T10:13:52.463Z"
   },
   {
    "duration": 12,
    "start_time": "2021-10-04T10:13:52.536Z"
   },
   {
    "duration": 8,
    "start_time": "2021-10-04T10:13:52.552Z"
   },
   {
    "duration": 56,
    "start_time": "2021-10-04T10:13:52.563Z"
   },
   {
    "duration": 9,
    "start_time": "2021-10-04T10:13:52.622Z"
   },
   {
    "duration": 16,
    "start_time": "2021-10-04T10:13:52.634Z"
   },
   {
    "duration": 18,
    "start_time": "2021-10-04T10:13:52.653Z"
   },
   {
    "duration": 15,
    "start_time": "2021-10-04T10:13:52.673Z"
   },
   {
    "duration": 62,
    "start_time": "2021-10-04T10:13:52.718Z"
   },
   {
    "duration": 36,
    "start_time": "2021-10-04T10:13:52.783Z"
   },
   {
    "duration": 28,
    "start_time": "2021-10-04T10:13:52.823Z"
   },
   {
    "duration": 7,
    "start_time": "2021-10-04T10:13:52.854Z"
   },
   {
    "duration": 29,
    "start_time": "2021-10-04T10:13:52.863Z"
   },
   {
    "duration": 31,
    "start_time": "2021-10-04T10:13:52.895Z"
   },
   {
    "duration": 10,
    "start_time": "2021-10-04T10:13:52.929Z"
   },
   {
    "duration": 16,
    "start_time": "2021-10-04T10:13:52.941Z"
   },
   {
    "duration": 55,
    "start_time": "2021-10-04T10:13:52.961Z"
   },
   {
    "duration": 10,
    "start_time": "2021-10-04T10:13:53.026Z"
   },
   {
    "duration": 22,
    "start_time": "2021-10-04T10:13:53.041Z"
   },
   {
    "duration": 53,
    "start_time": "2021-10-04T10:13:53.065Z"
   },
   {
    "duration": 32,
    "start_time": "2021-10-04T10:13:53.120Z"
   },
   {
    "duration": 11,
    "start_time": "2021-10-04T10:13:53.154Z"
   },
   {
    "duration": 13,
    "start_time": "2021-10-04T10:13:53.167Z"
   },
   {
    "duration": 14,
    "start_time": "2021-10-04T10:13:53.183Z"
   },
   {
    "duration": 29,
    "start_time": "2021-10-04T10:13:53.199Z"
   },
   {
    "duration": 15,
    "start_time": "2021-10-04T10:13:53.231Z"
   },
   {
    "duration": 13,
    "start_time": "2021-10-04T10:13:53.249Z"
   },
   {
    "duration": 40,
    "start_time": "2021-10-04T10:13:53.264Z"
   },
   {
    "duration": 34,
    "start_time": "2021-10-04T10:13:53.306Z"
   },
   {
    "duration": 28,
    "start_time": "2021-10-04T10:13:53.343Z"
   },
   {
    "duration": 4,
    "start_time": "2021-10-04T10:13:53.374Z"
   },
   {
    "duration": 63,
    "start_time": "2021-10-04T10:13:53.381Z"
   },
   {
    "duration": 5,
    "start_time": "2021-10-04T10:13:53.447Z"
   },
   {
    "duration": 11,
    "start_time": "2021-10-04T10:13:53.454Z"
   },
   {
    "duration": 968,
    "start_time": "2021-10-04T10:13:53.467Z"
   },
   {
    "duration": 4,
    "start_time": "2021-10-04T10:13:54.438Z"
   },
   {
    "duration": 3699,
    "start_time": "2021-10-04T10:13:54.445Z"
   },
   {
    "duration": 6,
    "start_time": "2021-10-04T10:13:58.146Z"
   },
   {
    "duration": 3619,
    "start_time": "2021-10-04T10:13:58.155Z"
   },
   {
    "duration": 21,
    "start_time": "2021-10-04T10:14:01.776Z"
   },
   {
    "duration": 21,
    "start_time": "2021-10-04T10:14:01.817Z"
   },
   {
    "duration": 14,
    "start_time": "2021-10-04T10:14:01.841Z"
   },
   {
    "duration": 32,
    "start_time": "2021-10-04T10:14:01.857Z"
   },
   {
    "duration": 25,
    "start_time": "2021-10-04T10:14:01.892Z"
   },
   {
    "duration": 37,
    "start_time": "2021-10-04T10:14:01.920Z"
   },
   {
    "duration": 38,
    "start_time": "2021-10-04T10:14:01.959Z"
   },
   {
    "duration": 11,
    "start_time": "2021-10-04T10:14:02.000Z"
   },
   {
    "duration": 27,
    "start_time": "2021-10-04T10:14:02.016Z"
   },
   {
    "duration": 39,
    "start_time": "2021-10-04T10:14:02.046Z"
   },
   {
    "duration": 19,
    "start_time": "2021-10-04T10:14:02.087Z"
   },
   {
    "duration": 47,
    "start_time": "2021-10-04T10:14:02.108Z"
   },
   {
    "duration": 11,
    "start_time": "2021-10-04T10:14:02.157Z"
   },
   {
    "duration": 47,
    "start_time": "2021-10-04T10:14:02.171Z"
   },
   {
    "duration": 12,
    "start_time": "2021-10-04T10:14:02.221Z"
   },
   {
    "duration": 32,
    "start_time": "2021-10-04T10:14:02.236Z"
   },
   {
    "duration": 64,
    "start_time": "2021-10-04T10:14:02.270Z"
   },
   {
    "duration": 27,
    "start_time": "2021-10-04T10:14:02.336Z"
   },
   {
    "duration": 7,
    "start_time": "2021-10-04T10:14:02.365Z"
   },
   {
    "duration": 12,
    "start_time": "2021-10-04T10:14:06.354Z"
   },
   {
    "duration": 9,
    "start_time": "2021-10-04T10:14:41.232Z"
   },
   {
    "duration": 149,
    "start_time": "2021-10-04T10:16:46.032Z"
   },
   {
    "duration": 12,
    "start_time": "2021-10-04T10:16:50.327Z"
   },
   {
    "duration": 7,
    "start_time": "2021-10-04T10:20:27.186Z"
   },
   {
    "duration": 9,
    "start_time": "2021-10-04T10:21:20.786Z"
   },
   {
    "duration": 5,
    "start_time": "2021-10-04T10:21:23.086Z"
   },
   {
    "duration": 10,
    "start_time": "2021-10-04T10:21:25.034Z"
   },
   {
    "duration": 56,
    "start_time": "2021-10-04T10:22:01.568Z"
   },
   {
    "duration": 23,
    "start_time": "2021-10-04T10:22:06.176Z"
   },
   {
    "duration": 5,
    "start_time": "2021-10-04T10:22:51.539Z"
   },
   {
    "duration": 9,
    "start_time": "2021-10-04T10:22:55.249Z"
   },
   {
    "duration": 5,
    "start_time": "2021-10-04T10:23:22.280Z"
   },
   {
    "duration": 10,
    "start_time": "2021-10-04T10:23:24.122Z"
   },
   {
    "duration": 334,
    "start_time": "2021-10-04T10:24:01.201Z"
   },
   {
    "duration": 17,
    "start_time": "2021-10-04T10:24:04.499Z"
   },
   {
    "duration": 23,
    "start_time": "2021-10-04T10:24:06.798Z"
   },
   {
    "duration": 321,
    "start_time": "2021-10-04T10:25:07.715Z"
   },
   {
    "duration": 4,
    "start_time": "2021-10-04T10:26:00.921Z"
   },
   {
    "duration": 94,
    "start_time": "2021-10-04T10:26:00.932Z"
   },
   {
    "duration": 16,
    "start_time": "2021-10-04T10:26:01.029Z"
   },
   {
    "duration": 30,
    "start_time": "2021-10-04T10:26:01.048Z"
   },
   {
    "duration": 44,
    "start_time": "2021-10-04T10:26:01.081Z"
   },
   {
    "duration": 28,
    "start_time": "2021-10-04T10:26:01.128Z"
   },
   {
    "duration": 30,
    "start_time": "2021-10-04T10:26:01.159Z"
   },
   {
    "duration": 32,
    "start_time": "2021-10-04T10:26:01.192Z"
   },
   {
    "duration": 35,
    "start_time": "2021-10-04T10:26:01.226Z"
   },
   {
    "duration": 44,
    "start_time": "2021-10-04T10:26:01.265Z"
   },
   {
    "duration": 30,
    "start_time": "2021-10-04T10:26:01.312Z"
   },
   {
    "duration": 31,
    "start_time": "2021-10-04T10:26:01.344Z"
   },
   {
    "duration": 56,
    "start_time": "2021-10-04T10:26:01.378Z"
   },
   {
    "duration": 41,
    "start_time": "2021-10-04T10:26:01.436Z"
   },
   {
    "duration": 77,
    "start_time": "2021-10-04T10:26:01.480Z"
   },
   {
    "duration": 5,
    "start_time": "2021-10-04T10:26:01.559Z"
   },
   {
    "duration": 47,
    "start_time": "2021-10-04T10:26:01.566Z"
   },
   {
    "duration": 10,
    "start_time": "2021-10-04T10:26:01.615Z"
   },
   {
    "duration": 35,
    "start_time": "2021-10-04T10:26:01.627Z"
   },
   {
    "duration": 23,
    "start_time": "2021-10-04T10:26:01.665Z"
   },
   {
    "duration": 17,
    "start_time": "2021-10-04T10:26:01.691Z"
   },
   {
    "duration": 12,
    "start_time": "2021-10-04T10:26:01.711Z"
   },
   {
    "duration": 27,
    "start_time": "2021-10-04T10:26:01.725Z"
   },
   {
    "duration": 22,
    "start_time": "2021-10-04T10:26:01.755Z"
   },
   {
    "duration": 36,
    "start_time": "2021-10-04T10:26:01.780Z"
   },
   {
    "duration": 23,
    "start_time": "2021-10-04T10:26:01.818Z"
   },
   {
    "duration": 45,
    "start_time": "2021-10-04T10:26:01.844Z"
   },
   {
    "duration": 41,
    "start_time": "2021-10-04T10:26:01.895Z"
   },
   {
    "duration": 52,
    "start_time": "2021-10-04T10:26:01.940Z"
   },
   {
    "duration": 73,
    "start_time": "2021-10-04T10:26:01.995Z"
   },
   {
    "duration": 40,
    "start_time": "2021-10-04T10:26:02.070Z"
   },
   {
    "duration": 31,
    "start_time": "2021-10-04T10:26:02.112Z"
   },
   {
    "duration": 30,
    "start_time": "2021-10-04T10:26:02.146Z"
   },
   {
    "duration": 57,
    "start_time": "2021-10-04T10:26:02.179Z"
   },
   {
    "duration": 27,
    "start_time": "2021-10-04T10:26:02.238Z"
   },
   {
    "duration": 22,
    "start_time": "2021-10-04T10:26:02.268Z"
   },
   {
    "duration": 25,
    "start_time": "2021-10-04T10:26:02.292Z"
   },
   {
    "duration": 42,
    "start_time": "2021-10-04T10:26:02.319Z"
   },
   {
    "duration": 6,
    "start_time": "2021-10-04T10:26:02.363Z"
   },
   {
    "duration": 13,
    "start_time": "2021-10-04T10:26:02.371Z"
   },
   {
    "duration": 948,
    "start_time": "2021-10-04T10:26:02.386Z"
   },
   {
    "duration": 6,
    "start_time": "2021-10-04T10:26:03.337Z"
   },
   {
    "duration": 3693,
    "start_time": "2021-10-04T10:26:03.345Z"
   },
   {
    "duration": 5,
    "start_time": "2021-10-04T10:26:07.040Z"
   },
   {
    "duration": 3583,
    "start_time": "2021-10-04T10:26:07.047Z"
   },
   {
    "duration": 21,
    "start_time": "2021-10-04T10:26:10.632Z"
   },
   {
    "duration": 19,
    "start_time": "2021-10-04T10:26:10.657Z"
   },
   {
    "duration": 38,
    "start_time": "2021-10-04T10:26:10.678Z"
   },
   {
    "duration": 9,
    "start_time": "2021-10-04T10:26:10.719Z"
   },
   {
    "duration": 18,
    "start_time": "2021-10-04T10:26:10.730Z"
   },
   {
    "duration": 29,
    "start_time": "2021-10-04T10:26:10.751Z"
   },
   {
    "duration": 38,
    "start_time": "2021-10-04T10:26:10.782Z"
   },
   {
    "duration": 8,
    "start_time": "2021-10-04T10:26:10.823Z"
   },
   {
    "duration": 18,
    "start_time": "2021-10-04T10:26:10.833Z"
   },
   {
    "duration": 18,
    "start_time": "2021-10-04T10:26:10.853Z"
   },
   {
    "duration": 50,
    "start_time": "2021-10-04T10:26:10.873Z"
   },
   {
    "duration": 32,
    "start_time": "2021-10-04T10:26:10.925Z"
   },
   {
    "duration": 9,
    "start_time": "2021-10-04T10:26:10.960Z"
   },
   {
    "duration": 15,
    "start_time": "2021-10-04T10:26:10.972Z"
   },
   {
    "duration": 26,
    "start_time": "2021-10-04T10:26:10.990Z"
   },
   {
    "duration": 29,
    "start_time": "2021-10-04T10:26:11.018Z"
   },
   {
    "duration": 27,
    "start_time": "2021-10-04T10:26:11.049Z"
   },
   {
    "duration": 25,
    "start_time": "2021-10-04T10:26:11.078Z"
   },
   {
    "duration": 18,
    "start_time": "2021-10-04T10:26:11.106Z"
   },
   {
    "duration": 7,
    "start_time": "2021-10-04T10:26:11.127Z"
   },
   {
    "duration": 40,
    "start_time": "2021-10-04T10:26:11.136Z"
   },
   {
    "duration": 17,
    "start_time": "2021-10-04T10:26:11.179Z"
   },
   {
    "duration": 19,
    "start_time": "2021-10-04T10:26:11.199Z"
   },
   {
    "duration": 37,
    "start_time": "2021-10-04T10:26:11.220Z"
   },
   {
    "duration": 14,
    "start_time": "2021-10-04T10:26:11.259Z"
   },
   {
    "duration": 17,
    "start_time": "2021-10-04T10:26:11.276Z"
   },
   {
    "duration": 23,
    "start_time": "2021-10-04T10:26:11.295Z"
   },
   {
    "duration": 11,
    "start_time": "2021-10-04T10:26:11.320Z"
   },
   {
    "duration": 30,
    "start_time": "2021-10-04T10:26:11.333Z"
   },
   {
    "duration": 61,
    "start_time": "2021-10-04T10:26:11.366Z"
   },
   {
    "duration": 18,
    "start_time": "2021-10-04T10:26:11.429Z"
   },
   {
    "duration": 5,
    "start_time": "2021-10-04T10:26:11.449Z"
   },
   {
    "duration": 14,
    "start_time": "2021-10-04T10:26:11.457Z"
   },
   {
    "duration": 50,
    "start_time": "2021-10-04T10:26:11.474Z"
   },
   {
    "duration": 27,
    "start_time": "2021-10-04T10:26:11.527Z"
   },
   {
    "duration": 16,
    "start_time": "2021-10-04T10:26:15.266Z"
   },
   {
    "duration": 18,
    "start_time": "2021-10-04T10:29:24.513Z"
   },
   {
    "duration": 23,
    "start_time": "2021-10-04T10:29:26.316Z"
   },
   {
    "duration": 6,
    "start_time": "2021-10-04T10:29:29.221Z"
   },
   {
    "duration": 30,
    "start_time": "2021-10-04T10:29:32.271Z"
   },
   {
    "duration": 28,
    "start_time": "2021-10-04T10:29:41.266Z"
   },
   {
    "duration": 28,
    "start_time": "2021-10-04T10:29:43.616Z"
   },
   {
    "duration": 29,
    "start_time": "2021-10-04T10:34:26.674Z"
   },
   {
    "duration": 6,
    "start_time": "2021-10-04T10:37:37.957Z"
   },
   {
    "duration": 3,
    "start_time": "2021-10-04T10:43:09.812Z"
   },
   {
    "duration": 71,
    "start_time": "2021-10-04T10:43:09.818Z"
   },
   {
    "duration": 32,
    "start_time": "2021-10-04T10:43:09.893Z"
   },
   {
    "duration": 6,
    "start_time": "2021-10-04T10:43:09.928Z"
   },
   {
    "duration": 24,
    "start_time": "2021-10-04T10:43:09.936Z"
   },
   {
    "duration": 56,
    "start_time": "2021-10-04T10:43:09.963Z"
   },
   {
    "duration": 20,
    "start_time": "2021-10-04T10:43:10.023Z"
   },
   {
    "duration": 13,
    "start_time": "2021-10-04T10:43:10.046Z"
   },
   {
    "duration": 5,
    "start_time": "2021-10-04T10:43:10.062Z"
   },
   {
    "duration": 61,
    "start_time": "2021-10-04T10:43:10.069Z"
   },
   {
    "duration": 13,
    "start_time": "2021-10-04T10:43:10.133Z"
   },
   {
    "duration": 14,
    "start_time": "2021-10-04T10:43:10.148Z"
   },
   {
    "duration": 12,
    "start_time": "2021-10-04T10:43:10.164Z"
   },
   {
    "duration": 13,
    "start_time": "2021-10-04T10:43:10.217Z"
   },
   {
    "duration": 62,
    "start_time": "2021-10-04T10:43:10.232Z"
   },
   {
    "duration": 22,
    "start_time": "2021-10-04T10:43:10.296Z"
   },
   {
    "duration": 18,
    "start_time": "2021-10-04T10:43:10.321Z"
   },
   {
    "duration": 8,
    "start_time": "2021-10-04T10:43:10.341Z"
   },
   {
    "duration": 7,
    "start_time": "2021-10-04T10:43:10.355Z"
   },
   {
    "duration": 55,
    "start_time": "2021-10-04T10:43:10.366Z"
   },
   {
    "duration": 9,
    "start_time": "2021-10-04T10:43:10.423Z"
   },
   {
    "duration": 12,
    "start_time": "2021-10-04T10:43:10.435Z"
   },
   {
    "duration": 24,
    "start_time": "2021-10-04T10:43:10.450Z"
   },
   {
    "duration": 42,
    "start_time": "2021-10-04T10:43:10.477Z"
   },
   {
    "duration": 17,
    "start_time": "2021-10-04T10:43:10.522Z"
   },
   {
    "duration": 20,
    "start_time": "2021-10-04T10:43:10.542Z"
   },
   {
    "duration": 28,
    "start_time": "2021-10-04T10:43:10.565Z"
   },
   {
    "duration": 9,
    "start_time": "2021-10-04T10:43:10.617Z"
   },
   {
    "duration": 6,
    "start_time": "2021-10-04T10:43:10.629Z"
   },
   {
    "duration": 17,
    "start_time": "2021-10-04T10:43:10.637Z"
   },
   {
    "duration": 30,
    "start_time": "2021-10-04T10:43:10.657Z"
   },
   {
    "duration": 34,
    "start_time": "2021-10-04T10:43:10.689Z"
   },
   {
    "duration": 8,
    "start_time": "2021-10-04T10:43:10.725Z"
   },
   {
    "duration": 39,
    "start_time": "2021-10-04T10:43:10.736Z"
   },
   {
    "duration": 38,
    "start_time": "2021-10-04T10:43:10.778Z"
   },
   {
    "duration": 22,
    "start_time": "2021-10-04T10:43:10.819Z"
   },
   {
    "duration": 3,
    "start_time": "2021-10-04T10:43:10.844Z"
   },
   {
    "duration": 45,
    "start_time": "2021-10-04T10:43:10.849Z"
   },
   {
    "duration": 22,
    "start_time": "2021-10-04T10:43:10.897Z"
   },
   {
    "duration": 9,
    "start_time": "2021-10-04T10:43:10.921Z"
   },
   {
    "duration": 1021,
    "start_time": "2021-10-04T10:43:10.933Z"
   },
   {
    "duration": 5,
    "start_time": "2021-10-04T10:43:11.957Z"
   },
   {
    "duration": 3612,
    "start_time": "2021-10-04T10:43:11.965Z"
   },
   {
    "duration": 7,
    "start_time": "2021-10-04T10:43:15.579Z"
   },
   {
    "duration": 3578,
    "start_time": "2021-10-04T10:43:15.589Z"
   },
   {
    "duration": 20,
    "start_time": "2021-10-04T10:43:19.170Z"
   },
   {
    "duration": 35,
    "start_time": "2021-10-04T10:43:19.192Z"
   },
   {
    "duration": 5,
    "start_time": "2021-10-04T10:43:19.230Z"
   },
   {
    "duration": 23,
    "start_time": "2021-10-04T10:43:19.237Z"
   },
   {
    "duration": 16,
    "start_time": "2021-10-04T10:43:19.263Z"
   },
   {
    "duration": 43,
    "start_time": "2021-10-04T10:43:19.282Z"
   },
   {
    "duration": 19,
    "start_time": "2021-10-04T10:43:19.327Z"
   },
   {
    "duration": 8,
    "start_time": "2021-10-04T10:43:19.349Z"
   },
   {
    "duration": 18,
    "start_time": "2021-10-04T10:43:19.359Z"
   },
   {
    "duration": 17,
    "start_time": "2021-10-04T10:43:19.418Z"
   },
   {
    "duration": 10,
    "start_time": "2021-10-04T10:43:19.439Z"
   },
   {
    "duration": 32,
    "start_time": "2021-10-04T10:43:19.451Z"
   },
   {
    "duration": 39,
    "start_time": "2021-10-04T10:43:19.486Z"
   },
   {
    "duration": 17,
    "start_time": "2021-10-04T10:43:19.528Z"
   },
   {
    "duration": 13,
    "start_time": "2021-10-04T10:43:19.548Z"
   },
   {
    "duration": 25,
    "start_time": "2021-10-04T10:43:19.564Z"
   },
   {
    "duration": 43,
    "start_time": "2021-10-04T10:43:19.592Z"
   },
   {
    "duration": 32,
    "start_time": "2021-10-04T10:43:19.638Z"
   },
   {
    "duration": 45,
    "start_time": "2021-10-04T10:43:19.673Z"
   },
   {
    "duration": 9,
    "start_time": "2021-10-04T10:43:19.721Z"
   },
   {
    "duration": 9,
    "start_time": "2021-10-04T10:43:19.733Z"
   },
   {
    "duration": 10,
    "start_time": "2021-10-04T10:43:19.745Z"
   },
   {
    "duration": 310,
    "start_time": "2021-10-04T10:43:19.758Z"
   },
   {
    "duration": 34,
    "start_time": "2021-10-04T10:43:20.071Z"
   },
   {
    "duration": 515,
    "start_time": "2021-10-04T10:43:20.107Z"
   },
   {
    "duration": 19,
    "start_time": "2021-10-04T10:43:20.624Z"
   },
   {
    "duration": 15,
    "start_time": "2021-10-04T10:43:20.646Z"
   },
   {
    "duration": 13,
    "start_time": "2021-10-04T10:43:20.663Z"
   },
   {
    "duration": 13,
    "start_time": "2021-10-04T10:43:20.678Z"
   },
   {
    "duration": 63,
    "start_time": "2021-10-04T10:43:20.693Z"
   },
   {
    "duration": 18,
    "start_time": "2021-10-04T10:43:20.758Z"
   },
   {
    "duration": 5,
    "start_time": "2021-10-04T10:43:20.778Z"
   },
   {
    "duration": 38,
    "start_time": "2021-10-04T10:43:20.786Z"
   },
   {
    "duration": 19,
    "start_time": "2021-10-04T10:43:20.827Z"
   },
   {
    "duration": 26,
    "start_time": "2021-10-04T10:43:20.849Z"
   },
   {
    "duration": 52,
    "start_time": "2021-10-04T10:43:20.878Z"
   },
   {
    "duration": 25,
    "start_time": "2021-10-04T10:43:20.933Z"
   },
   {
    "duration": 15,
    "start_time": "2021-10-04T10:43:20.961Z"
   },
   {
    "duration": 43,
    "start_time": "2021-10-04T10:43:20.978Z"
   },
   {
    "duration": 32,
    "start_time": "2021-10-04T10:43:21.023Z"
   },
   {
    "duration": 28,
    "start_time": "2021-10-04T10:43:21.057Z"
   },
   {
    "duration": 54,
    "start_time": "2021-10-04T10:43:21.087Z"
   },
   {
    "duration": 5,
    "start_time": "2021-10-04T10:43:21.143Z"
   }
  ],
  "kernelspec": {
   "display_name": "Python 3",
   "language": "python",
   "name": "python3"
  },
  "language_info": {
   "codemirror_mode": {
    "name": "ipython",
    "version": 3
   },
   "file_extension": ".py",
   "mimetype": "text/x-python",
   "name": "python",
   "nbconvert_exporter": "python",
   "pygments_lexer": "ipython3",
   "version": "3.8.2"
  },
  "toc": {
   "base_numbering": 1,
   "nav_menu": {},
   "number_sections": true,
   "sideBar": true,
   "skip_h1_title": true,
   "title_cell": "Table of Contents",
   "title_sidebar": "Contents",
   "toc_cell": true,
   "toc_position": {
    "height": "calc(100% - 180px)",
    "left": "10px",
    "top": "150px",
    "width": "303.837px"
   },
   "toc_section_display": true,
   "toc_window_display": true
  }
 },
 "nbformat": 4,
 "nbformat_minor": 2
}
